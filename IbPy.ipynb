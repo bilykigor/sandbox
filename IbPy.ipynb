{
 "cells": [
  {
   "cell_type": "code",
   "execution_count": 1,
   "metadata": {},
   "outputs": [],
   "source": [
    "from ib.ext.Contract import Contract\n",
    "from ib.ext.Order import Order\n",
    "from ib.opt import Connection, message\n",
    "import ib.opt\n",
    "import ib.ext.Contract\n",
    " \n",
    "import time\n",
    "import pandas as pd\n",
    "\n",
    "import sys\n",
    "\n",
    "if sys.version_info.major == 2:\n",
    "    import Queue as queue\n",
    "else:  # >= 3\n",
    "    import queue"
   ]
  },
  {
   "cell_type": "code",
   "execution_count": 47,
   "metadata": {},
   "outputs": [],
   "source": [
    "class IbManager(object):\n",
    "    def __init__(self, timeout=20, **kwargs):\n",
    "        self.q = queue.Queue()\n",
    "        self.timeout = 5\n",
    "\n",
    "        self.con = ib.opt.ibConnection(**kwargs)\n",
    "        #self.con.registerAll(self.watcher)\n",
    "\n",
    "        self.msgs = {\n",
    "            ib.opt.message.error: self.errors,\n",
    "            ib.opt.message.contractDetails: self.contractDetailsHandler,\n",
    "            ib.opt.message.contractDetailsEnd: self.contractDetailsHandler\n",
    "        }\n",
    "\n",
    "        self.skipmsgs = tuple(self.msgs.keys())\n",
    "\n",
    "        for msgtype, handler in self.msgs.items():\n",
    "            self.con.register(handler, msgtype)\n",
    "\n",
    "        self.con.connect()\n",
    "\n",
    "    def watcher(self, msg):\n",
    "        if isinstance(msg, ib.opt.message.error):\n",
    "            if msg.errorCode > 2000:  # informative message\n",
    "                print('-' * 10, msg)\n",
    "\n",
    "        elif not isinstance(msg, self.skipmsgs):\n",
    "            print('-' * 10, msg)\n",
    "\n",
    "    def errors(self, msg):\n",
    "        if msg.id is None:  # something is very wrong in the connection to tws\n",
    "            self.q.put((True, -1, 'Lost Connection to TWS'))\n",
    "        elif msg.errorCode < 1000:\n",
    "            self.q.put((True, msg.errorCode, msg.errorMsg))\n",
    "\n",
    "    def contractDetailsHandler(self, msg):\n",
    "        if isinstance(msg, ib.opt.message.contractDetailsEnd):\n",
    "            self.q.put((False, msg.reqId, msg))\n",
    "        else:\n",
    "            self.q.put((False, msg.reqId, msg.contractDetails))\n",
    "\n",
    "    def get_contract_details(self, contract):\n",
    "        self.con.reqContractDetails(1, contract)\n",
    "\n",
    "        cdetails = list()\n",
    "        df = pd.DataFrame()\n",
    "\n",
    "        while True:\n",
    "            try:\n",
    "                err, mid, msg = self.q.get(block=True, timeout=self.timeout)\n",
    "            except queue.Empty:\n",
    "                err, mid, msg = True, -1, \"Timeout receiving information\"\n",
    "                break\n",
    "\n",
    "            if isinstance(msg, ib.opt.message.contractDetailsEnd):\n",
    "                mid, msg = None, None\n",
    "                break\n",
    "\n",
    "            cdetails.append(msg)  # must be contractDetails\n",
    "            \n",
    "            if df.shape[0]==0:\n",
    "                df = pd.DataFrame(columns=list(msg.m_summary.__dict__.keys()))\n",
    "                df.loc[len(df)] = pd.Series(msg.m_summary.__dict__)\n",
    "            else:\n",
    "                df.loc[len(df)] = pd.Series(msg.m_summary.__dict__)\n",
    "\n",
    "        return df, err, mid, msg"
   ]
  },
  {
   "cell_type": "code",
   "execution_count": 44,
   "metadata": {},
   "outputs": [],
   "source": [
    "def vixFutContract():\n",
    "    contract = Contract()\n",
    "    contract.m_symbol = \"VIX\"\n",
    "    contract.m_exchange = \"CFE\"\n",
    "    contract.m_secType = \"FUT\"\n",
    "    contract.m_tradingClass = 'VX'\n",
    "\n",
    "    return contract\n",
    "\n",
    "def esFutContract():\n",
    "    contract = Contract()\n",
    "    contract.m_symbol = \"ES\"\n",
    "    contract.m_exchange = \"GLOBEX\"\n",
    "    contract.m_secType = \"FUT\"\n",
    "    contract.m_tradingClass = 'ES'\n",
    "    \n",
    "    return contract\n",
    "\n",
    "def esOptContract(exp):\n",
    "    contract = Contract()\n",
    "    contract.m_symbol = \"ES\"\n",
    "    contract.m_secType = \"FOP\"\n",
    "    contract.m_exchange = \"GLOBEX\"\n",
    "    #contract.m_right = \"C\"\n",
    "    #contract.m_localSymbol = spFuts[0].m_localSymbol\n",
    "    contract.m_expiry = exp\n",
    " \n",
    "    return contract"
   ]
  },
  {
   "cell_type": "code",
   "execution_count": 48,
   "metadata": {},
   "outputs": [
    {
     "name": "stdout",
     "output_type": "stream",
     "text": [
      "Server Version: 76\n",
      "TWS Time at connection:20181218 11:31:17 EST\n"
     ]
    }
   ],
   "source": [
    "ibm.con.disconnect()\n",
    "ibm = IbManager(\"127.0.0.1\", port=7496, clientId=999)"
   ]
  },
  {
   "cell_type": "code",
   "execution_count": 49,
   "metadata": {},
   "outputs": [],
   "source": [
    "def vxOptContract(exp):\n",
    "    contract = Contract()\n",
    "    contract.m_symbol = \"VIX\"\n",
    "    contract.m_secType = \"OPT\"\n",
    "    contract.m_exchange = \"SMART\"\n",
    "    #contract.m_right = \"C\"\n",
    "    #contract.m_localSymbol = spFuts[0].m_localSymbol\n",
    "    contract.m_expiry = exp\n",
    "    contract.m_tradingClass='VIX'\n",
    " \n",
    "    return contract"
   ]
  },
  {
   "cell_type": "code",
   "execution_count": 50,
   "metadata": {},
   "outputs": [
    {
     "ename": "AttributeError",
     "evalue": "'str' object has no attribute 'm_summary'",
     "output_type": "error",
     "traceback": [
      "\u001b[1;31m---------------------------------------------------------------------------\u001b[0m",
      "\u001b[1;31mAttributeError\u001b[0m                            Traceback (most recent call last)",
      "\u001b[1;32m<ipython-input-50-22d6827c5b23>\u001b[0m in \u001b[0;36m<module>\u001b[1;34m()\u001b[0m\n\u001b[0;32m      2\u001b[0m \u001b[1;31m#cdetails, err, errid, errmsg = ibm.get_contract_details(esFutContract())\u001b[0m\u001b[1;33m\u001b[0m\u001b[1;33m\u001b[0m\u001b[0m\n\u001b[0;32m      3\u001b[0m \u001b[1;31m#cdetails, err, errid, errmsg = ibm.get_contract_details(esOptContract(cdetails.loc[0].m_expiry))\u001b[0m\u001b[1;33m\u001b[0m\u001b[1;33m\u001b[0m\u001b[0m\n\u001b[1;32m----> 4\u001b[1;33m \u001b[0mcdetails\u001b[0m\u001b[1;33m,\u001b[0m \u001b[0merr\u001b[0m\u001b[1;33m,\u001b[0m \u001b[0merrid\u001b[0m\u001b[1;33m,\u001b[0m \u001b[0merrmsg\u001b[0m \u001b[1;33m=\u001b[0m \u001b[0mibm\u001b[0m\u001b[1;33m.\u001b[0m\u001b[0mget_contract_details\u001b[0m\u001b[1;33m(\u001b[0m\u001b[0mvxOptContract\u001b[0m\u001b[1;33m(\u001b[0m\u001b[1;34m'20190115'\u001b[0m\u001b[1;33m)\u001b[0m\u001b[1;33m)\u001b[0m\u001b[1;33m\u001b[0m\u001b[0m\n\u001b[0m\u001b[0;32m      5\u001b[0m \u001b[0mcdetails\u001b[0m\u001b[1;33m\u001b[0m\u001b[0m\n",
      "\u001b[1;32m<ipython-input-47-ac905837ee0e>\u001b[0m in \u001b[0;36mget_contract_details\u001b[1;34m(self, contract)\u001b[0m\n\u001b[0;32m     60\u001b[0m \u001b[1;33m\u001b[0m\u001b[0m\n\u001b[0;32m     61\u001b[0m             \u001b[1;32mif\u001b[0m \u001b[0mdf\u001b[0m\u001b[1;33m.\u001b[0m\u001b[0mshape\u001b[0m\u001b[1;33m[\u001b[0m\u001b[1;36m0\u001b[0m\u001b[1;33m]\u001b[0m\u001b[1;33m==\u001b[0m\u001b[1;36m0\u001b[0m\u001b[1;33m:\u001b[0m\u001b[1;33m\u001b[0m\u001b[0m\n\u001b[1;32m---> 62\u001b[1;33m                 \u001b[0mdf\u001b[0m \u001b[1;33m=\u001b[0m \u001b[0mpd\u001b[0m\u001b[1;33m.\u001b[0m\u001b[0mDataFrame\u001b[0m\u001b[1;33m(\u001b[0m\u001b[0mcolumns\u001b[0m\u001b[1;33m=\u001b[0m\u001b[0mlist\u001b[0m\u001b[1;33m(\u001b[0m\u001b[0mmsg\u001b[0m\u001b[1;33m.\u001b[0m\u001b[0mm_summary\u001b[0m\u001b[1;33m.\u001b[0m\u001b[0m__dict__\u001b[0m\u001b[1;33m.\u001b[0m\u001b[0mkeys\u001b[0m\u001b[1;33m(\u001b[0m\u001b[1;33m)\u001b[0m\u001b[1;33m)\u001b[0m\u001b[1;33m)\u001b[0m\u001b[1;33m\u001b[0m\u001b[0m\n\u001b[0m\u001b[0;32m     63\u001b[0m                 \u001b[0mdf\u001b[0m\u001b[1;33m.\u001b[0m\u001b[0mloc\u001b[0m\u001b[1;33m[\u001b[0m\u001b[0mlen\u001b[0m\u001b[1;33m(\u001b[0m\u001b[0mdf\u001b[0m\u001b[1;33m)\u001b[0m\u001b[1;33m]\u001b[0m \u001b[1;33m=\u001b[0m \u001b[0mpd\u001b[0m\u001b[1;33m.\u001b[0m\u001b[0mSeries\u001b[0m\u001b[1;33m(\u001b[0m\u001b[0mmsg\u001b[0m\u001b[1;33m.\u001b[0m\u001b[0mm_summary\u001b[0m\u001b[1;33m.\u001b[0m\u001b[0m__dict__\u001b[0m\u001b[1;33m)\u001b[0m\u001b[1;33m\u001b[0m\u001b[0m\n\u001b[0;32m     64\u001b[0m             \u001b[1;32melse\u001b[0m\u001b[1;33m:\u001b[0m\u001b[1;33m\u001b[0m\u001b[0m\n",
      "\u001b[1;31mAttributeError\u001b[0m: 'str' object has no attribute 'm_summary'"
     ]
    }
   ],
   "source": [
    "#cdetails, err, errid, errmsg = ibm.get_contract_details(vixFutContract())\n",
    "#cdetails, err, errid, errmsg = ibm.get_contract_details(esFutContract())\n",
    "#cdetails, err, errid, errmsg = ibm.get_contract_details(esOptContract(cdetails.loc[0].m_expiry))\n",
    "cdetails, err, errid, errmsg = ibm.get_contract_details(vxOptContract('20190115'))\n",
    "cdetails"
   ]
  },
  {
   "cell_type": "code",
   "execution_count": 42,
   "metadata": {},
   "outputs": [
    {
     "name": "stdout",
     "output_type": "stream",
     "text": [
      " 20190115 VIX VIX   190116C00010000 10.0\n",
      "20190115 VIX VIX   190116C00011000 11.0\n",
      "20190115 VIX VIX   190116C00012000 12.0\n",
      "20190115 VIX VIX   190116C00013000 13.0\n",
      "20190115 VIX VIX   190116C00014000 14.0\n",
      "20190115 VIX VIX   190116C00015000 15.0\n",
      "20190115 VIX VIX   190116C00016000 16.0\n",
      "20190115 VIX VIX   190116C00017000 17.0\n",
      "20190115 VIX VIX   190116C00018000 18.0\n",
      "20190115 VIX VIX   190116C00019000 19.0\n",
      "20190115 VIX VIX   190116C00020000 20.0\n",
      "20190115 VIX VIX   190116C00021000 21.0\n",
      "20190115 VIX VIX   190116C00022000 22.0\n",
      "20190115 VIX VIX   190116C00023000 23.0\n",
      "20190115 VIX VIX   190116C00024000 24.0\n",
      "20190115 VIX VIX   190116C00025000 25.0\n",
      "20190115 VIX VIX   190116C00026000 26.0\n",
      "20190115 VIX VIX   190116C00027000 27.0\n",
      "20190115 VIX VIX   190116C00028000 28.0\n",
      "20190115 VIX VIX   190116C00029000 29.0\n",
      "20190115 VIX VIX   190116C00030000 30.0\n",
      "20190115 VIX VIX   190116C00032500 32.5\n",
      "20190115 VIX VIX   190116C00035000 35.0\n",
      "20190115 VIX VIX   190116C00037500 37.5\n",
      "20190115 VIX VIX   190116C00040000 40.0\n",
      "20190115 VIX VIX   190116C00042500 42.5\n",
      "20190115 VIX VIX   190116C00045000 45.0\n",
      "20190115 VIX VIX   190116C00047500 47.5\n",
      "20190115 VIX VIX   190116C00050000 50.0\n",
      "20190115 VIX VIX   190116C00055000 55.0\n",
      "20190115 VIX VIX   190116C00060000 60.0\n",
      "20190115 VIX VIX   190116C00065000 65.0\n",
      "20190115 VIX VIX   190116C00070000 70.0\n",
      "20190115 VIX VIX   190116C00010500 10.5\n",
      "20190115 VIX VIX   190116C00011500 11.5\n",
      "20190115 VIX VIX   190116C00012500 12.5\n",
      "20190115 VIX VIX   190116C00013500 13.5\n",
      "20190115 VIX VIX   190116C00014500 14.5\n"
     ]
    }
   ],
   "source": [
    "for msg in cdetails:\n",
    "    print msg.m_summary.m_expiry,msg.m_summary.m_tradingClass,msg.m_summary.m_localSymbol,msg.m_summary.m_strike"
   ]
  },
  {
   "cell_type": "code",
   "execution_count": null,
   "metadata": {},
   "outputs": [],
   "source": []
  }
 ],
 "metadata": {
  "kernelspec": {
   "display_name": "Python 2",
   "language": "python",
   "name": "python2"
  },
  "language_info": {
   "codemirror_mode": {
    "name": "ipython",
    "version": 2
   },
   "file_extension": ".py",
   "mimetype": "text/x-python",
   "name": "python",
   "nbconvert_exporter": "python",
   "pygments_lexer": "ipython2",
   "version": "2.7.15"
  }
 },
 "nbformat": 4,
 "nbformat_minor": 2
}
