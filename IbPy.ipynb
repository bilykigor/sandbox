{
 "cells": [
  {
   "cell_type": "code",
   "execution_count": 168,
   "metadata": {},
   "outputs": [],
   "source": [
    "from ib.ext.Contract import Contract\n",
    "from ib.ext.Order import Order\n",
    "from ib.opt import Connection, message\n",
    "import ib.opt\n",
    "import ib.ext.Contract\n",
    "from ib.ext.TickType import TickType as tt\n",
    " \n",
    "import time\n",
    "import pandas as pd\n",
    "\n",
    "import sys\n",
    "\n",
    "if sys.version_info.major == 2:\n",
    "    import Queue as queue\n",
    "else:  # >= 3\n",
    "    import queue"
   ]
  },
  {
   "cell_type": "code",
   "execution_count": 129,
   "metadata": {},
   "outputs": [],
   "source": [
    "class IbManager(object):\n",
    "    def __init__(self, timeout=20, **kwargs):\n",
    "        self.q = queue.Queue()\n",
    "        self.timeout = 5\n",
    "\n",
    "        self.con = ib.opt.ibConnection(**kwargs)\n",
    "        #self.con.registerAll(self.watcher)\n",
    "        \n",
    "        self.contracts = pd.DataFrame([\n",
    "                ['IBM','SMART','USD'],\n",
    "                ['AAPL','SMART','USD'],\n",
    "                ['GOOG','SMART','USD'],\n",
    "                ['ES','GLOBEX','USD','201506','50'],\n",
    "                ['CL','NYMEX','USD','201506','1000']\n",
    "        ],columns = ['sym','exch','curr','expiry','mult'])\n",
    "\n",
    "        #add these specific column names to match the name returned by TickType.getField()\n",
    "        self.contracts['bidPrice'] = 0\n",
    "        self.contracts['askPrice'] = 0\n",
    "        self.contracts['lastPrice'] = 0\n",
    "\n",
    "\n",
    "        self.msgs = {\n",
    "            ib.opt.message.error: self.errors,\n",
    "            ib.opt.message.contractDetails: self.contractDetailsHandler,\n",
    "            ib.opt.message.contractDetailsEnd: self.contractDetailsHandler,\n",
    "            ib.opt.message.tickPrice: self.tickPriceHandler\n",
    "        }\n",
    "\n",
    "        self.skipmsgs = tuple(self.msgs.keys())\n",
    "\n",
    "        for msgtype, handler in self.msgs.items():\n",
    "            self.con.register(handler, msgtype)\n",
    "\n",
    "        self.con.connect()\n",
    "        \n",
    "    def tickPriceHandler(msg):\n",
    "        print (msg)\n",
    "        if msg.field in [tt.BID,tt.ASK,tt.LAST]:\n",
    "            #now we can just store the response in the data frame\n",
    "            self.contracts.loc[msg.tickerId,tt.getField(msg.field)] = msg.price\n",
    "            if msg.field == tt.LAST:\n",
    "                print(contracts.loc[msg.tickerId,'sym'],msg.price)\n",
    "\n",
    "    def watcher(self, msg):\n",
    "        if isinstance(msg, ib.opt.message.error):\n",
    "            if msg.errorCode > 2000:  # informative message\n",
    "                print('-' * 10, msg)\n",
    "\n",
    "        elif not isinstance(msg, self.skipmsgs):\n",
    "            print('-' * 10, msg)\n",
    "\n",
    "    def errors(self, msg):\n",
    "        if msg.id is None:  # something is very wrong in the connection to tws\n",
    "            self.q.put((True, -1, 'Lost Connection to TWS'))\n",
    "        elif msg.errorCode < 1000:\n",
    "            self.q.put((True, msg.errorCode, msg.errorMsg))\n",
    "\n",
    "    def contractDetailsHandler(self, msg):\n",
    "        if isinstance(msg, ib.opt.message.contractDetailsEnd):\n",
    "            self.q.put((False, msg.reqId, msg))\n",
    "        else:\n",
    "            self.q.put((False, msg.reqId, msg.contractDetails))\n",
    "\n",
    "    def get_contract_details(self, contract):\n",
    "        self.con.reqContractDetails(1, contract)\n",
    "\n",
    "        cdetails = list()\n",
    "        df = pd.DataFrame()\n",
    "\n",
    "        while True:\n",
    "            try:\n",
    "                err, mid, msg = self.q.get(block=True, timeout=self.timeout)\n",
    "            except queue.Empty:\n",
    "                err, mid, msg = True, -1, \"Timeout receiving information\"\n",
    "                break\n",
    "\n",
    "            if isinstance(msg, ib.opt.message.contractDetailsEnd):\n",
    "                mid, msg = None, None\n",
    "                break\n",
    "\n",
    "            cdetails.append(msg)  # must be contractDetails\n",
    "            \n",
    "            if df.shape[0]==0:\n",
    "                df = pd.DataFrame(columns=list(msg.m_summary.__dict__.keys()))\n",
    "                df.loc[len(df)] = pd.Series(msg.m_summary.__dict__)\n",
    "            else:\n",
    "                df.loc[len(df)] = pd.Series(msg.m_summary.__dict__)\n",
    "\n",
    "        return df, err, mid, msg"
   ]
  },
  {
   "cell_type": "code",
   "execution_count": 130,
   "metadata": {},
   "outputs": [],
   "source": [
    "\n",
    "def esFutContract():\n",
    "    contract = Contract()\n",
    "    contract.m_symbol = \"ES\"\n",
    "    contract.m_exchange = \"GLOBEX\"\n",
    "    contract.m_secType = \"FUT\"\n",
    "    contract.m_tradingClass = 'ES'\n",
    "    \n",
    "    return contract\n",
    "\n",
    "def esOptContract(exp):\n",
    "    contract = Contract()\n",
    "    contract.m_symbol = \"ES\"\n",
    "    contract.m_secType = \"FOP\"\n",
    "    contract.m_exchange = \"GLOBEX\"\n",
    "    #contract.m_right = \"C\"\n",
    "    #contract.m_localSymbol = spFuts[0].m_localSymbol\n",
    "    contract.m_expiry = exp\n",
    " \n",
    "    return contract"
   ]
  },
  {
   "cell_type": "code",
   "execution_count": 157,
   "metadata": {},
   "outputs": [
    {
     "data": {
      "text/plain": [
       "True"
      ]
     },
     "execution_count": 157,
     "metadata": {},
     "output_type": "execute_result"
    }
   ],
   "source": [
    "ibm.con.disconnect()\n",
    "#ibm = IbManager(\"127.0.0.1\", port=7497, clientId=999)"
   ]
  },
  {
   "cell_type": "code",
   "execution_count": 132,
   "metadata": {},
   "outputs": [],
   "source": [
    "def vxOptContract(exp):\n",
    "    contract = Contract()\n",
    "    contract.m_symbol = \"VIX\"\n",
    "    contract.m_secType = \"OPT\"\n",
    "    contract.m_exchange = \"SMART\"\n",
    "    #contract.m_right = \"C\"\n",
    "    #contract.m_localSymbol = spFuts[0].m_localSymbol\n",
    "    contract.m_expiry = exp\n",
    "    contract.m_tradingClass='VIX'\n",
    " \n",
    "    return contract\n",
    "\n",
    "def spOptContract(exp):\n",
    "    contract = Contract()\n",
    "    contract.m_symbol = \"SPX\"\n",
    "    contract.m_secType = \"OPT\"\n",
    "    contract.m_exchange = \"SMART\"\n",
    "    #contract.m_right = \"C\"\n",
    "    #contract.m_localSymbol = spFuts[0].m_localSymbol\n",
    "    contract.m_expiry = exp\n",
    "    contract.m_tradingClass='SP'\n",
    " \n",
    "    return contract\n",
    "\n",
    "def vixFutContract(localSym=None):\n",
    "    contract = Contract()\n",
    "    contract.m_symbol = \"VIX\"\n",
    "    contract.m_exchange = \"CFE\"\n",
    "    contract.m_secType = \"FUT\"\n",
    "    contract.m_tradingClass = 'VX'\n",
    "    contract.m_localSymbol = localSym\n",
    "\n",
    "    return contract\n",
    "\n",
    "def spFutContract(exp=None):\n",
    "    contract = Contract()\n",
    "    contract.m_symbol = \"SPX\"\n",
    "    contract.m_exchange = \"GLOBEX\"\n",
    "    contract.m_secType = \"FUT\"\n",
    "    contract.m_tradingClass = 'SP'\n",
    "    contract.m_expiry = exp\n",
    "    \n",
    "    return contract"
   ]
  },
  {
   "cell_type": "code",
   "execution_count": 120,
   "metadata": {},
   "outputs": [],
   "source": [
    "#cdetails, err, errid, errmsg = ibm.get_contract_details(vixFutContract('VXZ8'))\n",
    "#cdetails, err, errid, errmsg = ibm.get_contract_details(esFutContract())\n",
    "#cdetails, err, errid, errmsg = ibm.get_contract_details(esOptContract('20190315'))\n",
    "#cdetails, err, errid, errmsg = ibm.get_contract_details(vxOptContract('20190115'))\n",
    "cdetails, err, errid, errmsg = ibm.get_contract_details(spOptContract('20190118'))\n",
    "#cdetails, err, errid, errmsg = ibm.get_contract_details(spFutContract('20190314'))"
   ]
  },
  {
   "cell_type": "code",
   "execution_count": 141,
   "metadata": {},
   "outputs": [],
   "source": [
    "for index, row in contracts.iterrows():\n",
    "    c = Contract()\n",
    "    c.m_symbol = row['sym']\n",
    "    c.m_exchange = row['exch']\n",
    "    c.m_currency = row['curr']\n",
    "    c.m_secType = 'STK' if row['expiry'] is None else 'FUT'\n",
    "    c.m_expiry = row['expiry']\n",
    "    c.m_multiplier = row['mult']\n",
    "    # the tickerId is just the index in but for some reason it needs str()\n",
    "    \n",
    "    break"
   ]
  },
  {
   "cell_type": "code",
   "execution_count": 153,
   "metadata": {},
   "outputs": [],
   "source": [
    "def savepx(msg):\n",
    "    print(msg.price)"
   ]
  },
  {
   "cell_type": "code",
   "execution_count": 164,
   "metadata": {},
   "outputs": [
    {
     "name": "stdout",
     "output_type": "stream",
     "text": [
      "Server Version: 76\n",
      "TWS Time at connection:20181218 13:04:56 EST\n"
     ]
    },
    {
     "data": {
      "text/plain": [
       "True"
      ]
     },
     "execution_count": 164,
     "metadata": {},
     "output_type": "execute_result"
    }
   ],
   "source": [
    "con.disconnect()\n",
    "con=ib.opt.ibConnection(\"127.0.0.1\", port=7497, clientId=999)\n",
    "con.register(savepx, ib.opt.message.tickPrice)\n",
    "con.connect()"
   ]
  },
  {
   "cell_type": "code",
   "execution_count": 165,
   "metadata": {},
   "outputs": [],
   "source": [
    "con.reqMktData(1101, c, \"\", False)"
   ]
  },
  {
   "cell_type": "code",
   "execution_count": 162,
   "metadata": {},
   "outputs": [],
   "source": [
    "c = Contract()\n",
    "c.m_symbol = 'AAPL'\n",
    "con.register(savepx,'TickPrice')# move this out of loop, just do it once"
   ]
  },
  {
   "cell_type": "code",
   "execution_count": 170,
   "metadata": {},
   "outputs": [],
   "source": [
    "con.reqMktData(1000, c, \"\", False)"
   ]
  },
  {
   "cell_type": "code",
   "execution_count": null,
   "metadata": {},
   "outputs": [],
   "source": []
  }
 ],
 "metadata": {
  "kernelspec": {
   "display_name": "Python 3",
   "language": "python",
   "name": "python3"
  },
  "language_info": {
   "codemirror_mode": {
    "name": "ipython",
    "version": 3
   },
   "file_extension": ".py",
   "mimetype": "text/x-python",
   "name": "python",
   "nbconvert_exporter": "python",
   "pygments_lexer": "ipython3",
   "version": "3.7.0"
  }
 },
 "nbformat": 4,
 "nbformat_minor": 2
}
