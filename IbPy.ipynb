{
 "cells": [
  {
   "cell_type": "code",
   "execution_count": 6,
   "metadata": {},
   "outputs": [],
   "source": [
    "from ib.ext.Contract import Contract\n",
    "from ib.ext.Order import Order\n",
    "from ib.opt import Connection, message\n",
    "\n",
    "\n",
    "def error_handler(msg):\n",
    "\n",
    "    print(\"Server Error: %s\" % msg)\n",
    "\n",
    "def reply_handler(msg):\n",
    "\n",
    "    print(\"Server Response: %s, %s\" % (msg.typeName, msg))"
   ]
  },
  {
   "cell_type": "code",
   "execution_count": 10,
   "metadata": {},
   "outputs": [
    {
     "name": "stdout",
     "output_type": "stream",
     "text": [
      "Server Version: 76\n",
      "TWS Time at connection:20181218 07:06:28 EST\n"
     ]
    },
    {
     "data": {
      "text/plain": [
       "True"
      ]
     },
     "execution_count": 10,
     "metadata": {},
     "output_type": "execute_result"
    },
    {
     "name": "stdout",
     "output_type": "stream",
     "text": [
      "Server Response: managedAccounts, <managedAccounts accountsList=DU1300822>\n",
      "Server Response: nextValidId, <nextValidId orderId=1>\n",
      "Server Error: <error id=-1, errorCode=2104, errorMsg=Market data farm connection is OK:usfarm.nj>\n",
      "Server Response: error, <error id=-1, errorCode=2104, errorMsg=Market data farm connection is OK:usfarm.nj>\n",
      "Server Error: <error id=-1, errorCode=2104, errorMsg=Market data farm connection is OK:usfuture>\n",
      "Server Response: error, <error id=-1, errorCode=2104, errorMsg=Market data farm connection is OK:usfuture>\n",
      "Server Error: <error id=-1, errorCode=2104, errorMsg=Market data farm connection is OK:cashfarm>\n",
      "Server Response: error, <error id=-1, errorCode=2104, errorMsg=Market data farm connection is OK:cashfarm>\n",
      "Server Error: <error id=-1, errorCode=2104, errorMsg=Market data farm connection is OK:usfarm>\n",
      "Server Response: error, <error id=-1, errorCode=2104, errorMsg=Market data farm connection is OK:usfarm>\n",
      "Server Error: <error id=-1, errorCode=2106, errorMsg=HMDS data farm connection is OK:njhmds>\n",
      "Server Response: error, <error id=-1, errorCode=2106, errorMsg=HMDS data farm connection is OK:njhmds>\n",
      "Server Error: <error id=-1, errorCode=2106, errorMsg=HMDS data farm connection is OK:ushmds>\n",
      "Server Response: error, <error id=-1, errorCode=2106, errorMsg=HMDS data farm connection is OK:ushmds>\n"
     ]
    }
   ],
   "source": [
    "tws_conn = Connection.create(\"127.0.0.1\", port=7497, clientId=999)\n",
    "tws_conn.connect()\n",
    "tws_conn.register(error_handler, 'Error')  \n",
    "tws_conn.registerAll(reply_handler)"
   ]
  },
  {
   "cell_type": "code",
   "execution_count": 11,
   "metadata": {},
   "outputs": [],
   "source": [
    "order_id = 1\n",
    "goog_contract = create_contract('GOOG', 'STK', 'SMART', 'SMART', 'USD')\n",
    "goog_order = create_order('MKT', 100, 'BUY')"
   ]
  },
  {
   "cell_type": "code",
   "execution_count": 13,
   "metadata": {},
   "outputs": [
    {
     "name": "stdout",
     "output_type": "stream",
     "text": [
      "Server Response: openOrder, <openOrder orderId=1, contract=<ib.ext.Contract.Contract object at 0x7f26341839e8>, order=<ib.ext.Order.Order object at 0x7f2634183d30>, orderState=<ib.ext.OrderState.OrderState object at 0x7f26342c1198>>\n",
      "Server Response: orderStatus, <orderStatus orderId=1, status=Submitted, filled=0, remaining=100, avgFillPrice=0.0, permId=1710808424, parentId=0, lastFillPrice=0.0, clientId=999, whyHeld=None>\n",
      "Server Response: execDetails, <execDetails reqId=-1, contract=<ib.ext.Contract.Contract object at 0x7f26342c1198>, execution=<ib.ext.Execution.Execution object at 0x7f2634183940>>\n",
      "Server Response: openOrder, <openOrder orderId=1, contract=<ib.ext.Contract.Contract object at 0x7f2634183940>, order=<ib.ext.Order.Order object at 0x7f26342c1198>, orderState=<ib.ext.OrderState.OrderState object at 0x7f26341a20b8>>\n",
      "Server Response: orderStatus, <orderStatus orderId=1, status=Filled, filled=100, remaining=0, avgFillPrice=1036.28, permId=1710808424, parentId=0, lastFillPrice=1036.28, clientId=999, whyHeld=None>\n",
      "Server Response: openOrder, <openOrder orderId=1, contract=<ib.ext.Contract.Contract object at 0x7f26341836d8>, order=<ib.ext.Order.Order object at 0x7f26342c1198>, orderState=<ib.ext.OrderState.OrderState object at 0x7f26341a2668>>\n",
      "Server Response: orderStatus, <orderStatus orderId=1, status=Filled, filled=100, remaining=0, avgFillPrice=1036.28, permId=1710808424, parentId=0, lastFillPrice=1036.28, clientId=999, whyHeld=None>\n",
      "Server Response: commissionReport, <commissionReport commissionReport=<ib.ext.CommissionReport.CommissionReport object at 0x7f26342c1198>>\n"
     ]
    }
   ],
   "source": [
    "tws_conn.placeOrder(order_id, goog_contract, goog_order)\n"
   ]
  },
  {
   "cell_type": "code",
   "execution_count": 9,
   "metadata": {},
   "outputs": [
    {
     "data": {
      "text/plain": [
       "True"
      ]
     },
     "execution_count": 9,
     "metadata": {},
     "output_type": "execute_result"
    }
   ],
   "source": [
    "tws_conn.disconnect()"
   ]
  },
  {
   "cell_type": "code",
   "execution_count": null,
   "metadata": {},
   "outputs": [],
   "source": []
  }
 ],
 "metadata": {
  "kernelspec": {
   "display_name": "Python 3",
   "language": "python",
   "name": "python3"
  },
  "language_info": {
   "codemirror_mode": {
    "name": "ipython",
    "version": 3
   },
   "file_extension": ".py",
   "mimetype": "text/x-python",
   "name": "python",
   "nbconvert_exporter": "python",
   "pygments_lexer": "ipython3",
   "version": "3.7.0"
  }
 },
 "nbformat": 4,
 "nbformat_minor": 2
}
