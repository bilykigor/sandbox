{
 "cells": [
  {
   "cell_type": "code",
   "execution_count": 195,
   "metadata": {},
   "outputs": [
    {
     "data": {
      "text/plain": [
       "<IB connected to 127.0.0.1:7497 clientId=15>"
      ]
     },
     "execution_count": 195,
     "metadata": {},
     "output_type": "execute_result"
    }
   ],
   "source": [
    "from ib_insync import *\n",
    "util.startLoop()\n",
    "\n",
    "ib = IB()\n",
    "ib.connect('127.0.0.1', 7497, clientId=15)"
   ]
  },
  {
   "cell_type": "code",
   "execution_count": 196,
   "metadata": {},
   "outputs": [],
   "source": [
    "ib.client.reqMarketDataType( 3 )"
   ]
  },
  {
   "cell_type": "code",
   "execution_count": 120,
   "metadata": {},
   "outputs": [],
   "source": [
    "def vixFutContract(localSym=None):\n",
    "    contract = Contract()\n",
    "    contract.symbol = \"VIX\"\n",
    "    contract.exchange = \"CFE\"\n",
    "    contract.secType = \"FUT\"\n",
    "    contract.tradingClass = 'VX'\n",
    "    contract.localSymbol = localSym\n",
    "\n",
    "    return contract"
   ]
  },
  {
   "cell_type": "code",
   "execution_count": 140,
   "metadata": {},
   "outputs": [],
   "source": [
    "contracts = []\n",
    "contracts.append(vixFutContract('VXF9'))\n",
    "eurusd = contracts[0]"
   ]
  },
  {
   "cell_type": "code",
   "execution_count": 141,
   "metadata": {},
   "outputs": [],
   "source": [
    "for contract in contracts:\n",
    "    ib.reqMktData(contract, '', False, False)"
   ]
  },
  {
   "cell_type": "code",
   "execution_count": 142,
   "metadata": {},
   "outputs": [
    {
     "data": {
      "text/plain": [
       "Ticker(contract=Contract(secType='FUT', symbol='VIX', exchange='CFE', localSymbol='VXF9', tradingClass='VX'), time=datetime.datetime(2018, 12, 19, 22, 33, 41, 133016, tzinfo=datetime.timezone.utc), bid=-1.0, bidSize=0, ask=-1.0, askSize=0, last=22.3, lastSize=8, volume=162951, high=22.55, low=20.85, ticks=[], tickByTicks=[], domBids=[], domAsks=[], domTicks=[])"
      ]
     },
     "execution_count": 142,
     "metadata": {},
     "output_type": "execute_result"
    }
   ],
   "source": [
    "ticker = ib.ticker(eurusd)\n",
    "ib.sleep(2)\n",
    "\n",
    "ticker"
   ]
  },
  {
   "cell_type": "code",
   "execution_count": 143,
   "metadata": {},
   "outputs": [
    {
     "data": {
      "text/plain": [
       "nan"
      ]
     },
     "execution_count": 143,
     "metadata": {},
     "output_type": "execute_result"
    }
   ],
   "source": [
    "ticker.marketPrice()"
   ]
  },
  {
   "cell_type": "code",
   "execution_count": 216,
   "metadata": {},
   "outputs": [],
   "source": [
    "from IPython.display import display, clear_output\n",
    "import pandas as pd\n",
    "\n",
    "df = pd.DataFrame(columns='symbol bid ask'.split())\n",
    "df['symbol'] = [c.localSymbol for c in contracts if c.localSymbol]\n",
    "df=df.set_index('symbol')\n",
    "#contract2Row = {c: i for (i, c) in enumerate(contracts)}"
   ]
  },
  {
   "cell_type": "code",
   "execution_count": 218,
   "metadata": {},
   "outputs": [],
   "source": [
    "def onPendingTickers(tickers):\n",
    "    for t in tickers:\n",
    "        if t.contract.localSymbol:\n",
    "            row = (t.contract.localSymbol)\n",
    "            print (row,t.bid, t.ask)\n",
    "            df.loc[row] = (t.bid, t.ask)\n",
    "        #clear_output(wait=True)\n",
    "    #display(df) "
   ]
  },
  {
   "cell_type": "code",
   "execution_count": 219,
   "metadata": {},
   "outputs": [],
   "source": [
    "ib.pendingTickersEvent += onPendingTickers\n",
    "#ib.sleep(30)\n",
    "#ib.pendingTickersEvent -= onPendingTickers"
   ]
  },
  {
   "cell_type": "code",
   "execution_count": 135,
   "metadata": {},
   "outputs": [],
   "source": [
    "for contract in contracts:\n",
    "    ib.cancelMktData(contract)\n",
    "ib.pendingTickersEvent -= onPendingTickers"
   ]
  },
  {
   "cell_type": "code",
   "execution_count": 117,
   "metadata": {},
   "outputs": [],
   "source": [
    "ib.disconnect()"
   ]
  },
  {
   "cell_type": "code",
   "execution_count": 197,
   "metadata": {},
   "outputs": [
    {
     "data": {
      "text/plain": [
       "[Index(conId=416904, symbol='SPX', exchange='CBOE', currency='USD', localSymbol='SPX')]"
      ]
     },
     "execution_count": 197,
     "metadata": {},
     "output_type": "execute_result"
    }
   ],
   "source": [
    "spx = Index('SPX', 'CBOE')\n",
    "ib.qualifyContracts(spx)\n"
   ]
  },
  {
   "cell_type": "code",
   "execution_count": 198,
   "metadata": {},
   "outputs": [
    {
     "data": {
      "text/plain": [
       "Ticker(contract=Index(conId=416904, symbol='SPX', exchange='CBOE', currency='USD', localSymbol='SPX'), time=datetime.datetime(2018, 12, 19, 22, 58, 25, 917836, tzinfo=datetime.timezone.utc), bid=-1.0, bidSize=0, ask=-1.0, askSize=0, last=2506.87, lastSize=0, high=2585.29, low=2488.96, ticks=[], tickByTicks=[], domBids=[], domAsks=[], domTicks=[])"
      ]
     },
     "execution_count": 198,
     "metadata": {},
     "output_type": "execute_result"
    }
   ],
   "source": [
    "[ticker] = ib.reqTickers(spx)\n",
    "ticker"
   ]
  },
  {
   "cell_type": "code",
   "execution_count": 199,
   "metadata": {},
   "outputs": [
    {
     "data": {
      "text/plain": [
       "nan"
      ]
     },
     "execution_count": 199,
     "metadata": {},
     "output_type": "execute_result"
    }
   ],
   "source": [
    "spxValue = ticker.marketPrice()\n",
    "spxValue"
   ]
  },
  {
   "cell_type": "code",
   "execution_count": 200,
   "metadata": {},
   "outputs": [
    {
     "data": {
      "text/html": [
       "<div>\n",
       "<style scoped>\n",
       "    .dataframe tbody tr th:only-of-type {\n",
       "        vertical-align: middle;\n",
       "    }\n",
       "\n",
       "    .dataframe tbody tr th {\n",
       "        vertical-align: top;\n",
       "    }\n",
       "\n",
       "    .dataframe thead th {\n",
       "        text-align: right;\n",
       "    }\n",
       "</style>\n",
       "<table border=\"1\" class=\"dataframe\">\n",
       "  <thead>\n",
       "    <tr style=\"text-align: right;\">\n",
       "      <th></th>\n",
       "      <th>exchange</th>\n",
       "      <th>underlyingConId</th>\n",
       "      <th>tradingClass</th>\n",
       "      <th>multiplier</th>\n",
       "      <th>expirations</th>\n",
       "      <th>strikes</th>\n",
       "    </tr>\n",
       "  </thead>\n",
       "  <tbody>\n",
       "    <tr>\n",
       "      <th>0</th>\n",
       "      <td>SMART</td>\n",
       "      <td>416904</td>\n",
       "      <td>SPX</td>\n",
       "      <td>100</td>\n",
       "      <td>{20190214, 20190314, 20200319, 20181220, 20201...</td>\n",
       "      <td>{2050.0, 4100.0, 2055.0, 2060.0, 2065.0, 2070....</td>\n",
       "    </tr>\n",
       "    <tr>\n",
       "      <th>1</th>\n",
       "      <td>CBOE</td>\n",
       "      <td>416904</td>\n",
       "      <td>SPXW</td>\n",
       "      <td>100</td>\n",
       "      <td>{20190102, 20190621, 20190114, 20181224, 20190...</td>\n",
       "      <td>{2050.0, 4100.0, 2055.0, 2060.0, 2065.0, 2070....</td>\n",
       "    </tr>\n",
       "    <tr>\n",
       "      <th>2</th>\n",
       "      <td>SMART</td>\n",
       "      <td>416904</td>\n",
       "      <td>SPXW</td>\n",
       "      <td>100</td>\n",
       "      <td>{20190102, 20190621, 20190114, 20181224, 20190...</td>\n",
       "      <td>{2050.0, 4100.0, 2055.0, 2060.0, 2065.0, 2070....</td>\n",
       "    </tr>\n",
       "    <tr>\n",
       "      <th>3</th>\n",
       "      <td>CBOE</td>\n",
       "      <td>416904</td>\n",
       "      <td>SPX</td>\n",
       "      <td>100</td>\n",
       "      <td>{20190214, 20190314, 20200319, 20181220, 20201...</td>\n",
       "      <td>{2050.0, 4100.0, 2055.0, 2060.0, 2065.0, 2070....</td>\n",
       "    </tr>\n",
       "  </tbody>\n",
       "</table>\n",
       "</div>"
      ],
      "text/plain": [
       "  exchange  underlyingConId tradingClass multiplier  \\\n",
       "0    SMART           416904          SPX        100   \n",
       "1     CBOE           416904         SPXW        100   \n",
       "2    SMART           416904         SPXW        100   \n",
       "3     CBOE           416904          SPX        100   \n",
       "\n",
       "                                         expirations  \\\n",
       "0  {20190214, 20190314, 20200319, 20181220, 20201...   \n",
       "1  {20190102, 20190621, 20190114, 20181224, 20190...   \n",
       "2  {20190102, 20190621, 20190114, 20181224, 20190...   \n",
       "3  {20190214, 20190314, 20200319, 20181220, 20201...   \n",
       "\n",
       "                                             strikes  \n",
       "0  {2050.0, 4100.0, 2055.0, 2060.0, 2065.0, 2070....  \n",
       "1  {2050.0, 4100.0, 2055.0, 2060.0, 2065.0, 2070....  \n",
       "2  {2050.0, 4100.0, 2055.0, 2060.0, 2065.0, 2070....  \n",
       "3  {2050.0, 4100.0, 2055.0, 2060.0, 2065.0, 2070....  "
      ]
     },
     "execution_count": 200,
     "metadata": {},
     "output_type": "execute_result"
    }
   ],
   "source": [
    "chains = ib.reqSecDefOptParams(spx.symbol, '', spx.secType, spx.conId)\n",
    "\n",
    "util.df(chains)"
   ]
  },
  {
   "cell_type": "code",
   "execution_count": 201,
   "metadata": {},
   "outputs": [
    {
     "data": {
      "text/plain": [
       "OptionChain(exchange='SMART', underlyingConId=416904, tradingClass='SPX', multiplier='100', expirations={'20190214', '20190314', '20200319', '20181220', '20201217', '20190620', '20191219', '20200618', '20200116', '20190117', '20190919'}, strikes={2050.0, 4100.0, 2055.0, 2060.0, 2065.0, 2070.0, 2075.0, 2080.0, 2085.0, 2090.0, 2095.0, 2100.0, 2105.0, 2110.0, 2115.0, 2120.0, 2125.0, 2130.0, 2135.0, 2140.0, 2145.0, 100.0, 2150.0, 4200.0, 2155.0, 2160.0, 2165.0, 2170.0, 2175.0, 2180.0, 2185.0, 2190.0, 2195.0, 2200.0, 2205.0, 2210.0, 2215.0, 2220.0, 2225.0, 2230.0, 2235.0, 2240.0, 2245.0, 200.0, 2250.0, 2255.0, 2260.0, 2265.0, 2270.0, 2275.0, 2280.0, 2285.0, 2290.0, 2295.0, 250.0, 2300.0, 2305.0, 2310.0, 2315.0, 2320.0, 2325.0, 2330.0, 2335.0, 2340.0, 2345.0, 300.0, 2350.0, 2355.0, 2360.0, 2365.0, 2370.0, 2375.0, 2380.0, 2385.0, 2390.0, 2395.0, 2400.0, 2405.0, 2410.0, 2415.0, 2420.0, 2425.0, 2430.0, 2435.0, 2440.0, 2445.0, 400.0, 2450.0, 2455.0, 2460.0, 2465.0, 2470.0, 2475.0, 2480.0, 2485.0, 2490.0, 2495.0, 2500.0, 2505.0, 2510.0, 2515.0, 2520.0, 2525.0, 2530.0, 2535.0, 2540.0, 2545.0, 500.0, 2550.0, 2555.0, 2560.0, 2565.0, 2570.0, 2575.0, 2580.0, 2585.0, 2590.0, 2595.0, 550.0, 2600.0, 2605.0, 2610.0, 2615.0, 2620.0, 2625.0, 2630.0, 2635.0, 2640.0, 2645.0, 600.0, 2650.0, 2655.0, 2660.0, 2665.0, 2670.0, 2675.0, 2680.0, 2685.0, 2690.0, 2695.0, 650.0, 2700.0, 2705.0, 2710.0, 2715.0, 2720.0, 2725.0, 2730.0, 2735.0, 2740.0, 2745.0, 700.0, 2750.0, 2755.0, 2760.0, 2765.0, 2770.0, 2775.0, 2780.0, 2785.0, 2790.0, 2795.0, 750.0, 2800.0, 2805.0, 2810.0, 2815.0, 2820.0, 2825.0, 2830.0, 2835.0, 2840.0, 2845.0, 800.0, 2850.0, 2855.0, 2860.0, 2865.0, 2870.0, 825.0, 2875.0, 2880.0, 2885.0, 2890.0, 2895.0, 850.0, 2900.0, 2905.0, 2910.0, 2915.0, 2920.0, 875.0, 2925.0, 2930.0, 2935.0, 2940.0, 2945.0, 900.0, 2950.0, 2955.0, 2960.0, 2965.0, 2970.0, 925.0, 2975.0, 2980.0, 2985.0, 2990.0, 2995.0, 950.0, 3000.0, 3005.0, 3010.0, 3015.0, 3020.0, 975.0, 3025.0, 3030.0, 3035.0, 3040.0, 3045.0, 1000.0, 3050.0, 3055.0, 3060.0, 3065.0, 3070.0, 1025.0, 3075.0, 3080.0, 3085.0, 3090.0, 3095.0, 1050.0, 3100.0, 3105.0, 3110.0, 3115.0, 3120.0, 1075.0, 3125.0, 3130.0, 3135.0, 3140.0, 3145.0, 1100.0, 3150.0, 3160.0, 3170.0, 1125.0, 3175.0, 3180.0, 3190.0, 1150.0, 3200.0, 3210.0, 3220.0, 1175.0, 3225.0, 1200.0, 3250.0, 1225.0, 3275.0, 1250.0, 3300.0, 1275.0, 1300.0, 3350.0, 1325.0, 1350.0, 3400.0, 1375.0, 1400.0, 1425.0, 1450.0, 3500.0, 1475.0, 1500.0, 1525.0, 1550.0, 3600.0, 1575.0, 1600.0, 1625.0, 1650.0, 3700.0, 1675.0, 1700.0, 1725.0, 1750.0, 3800.0, 1775.0, 1790.0, 1800.0, 1810.0, 1820.0, 1825.0, 1830.0, 1840.0, 1850.0, 3900.0, 1860.0, 1870.0, 1875.0, 1880.0, 1890.0, 1900.0, 1910.0, 1920.0, 1925.0, 1930.0, 1940.0, 1950.0, 4000.0, 1960.0, 1970.0, 1975.0, 1980.0, 1990.0, 2000.0, 2010.0, 2020.0, 2025.0, 2030.0, 2040.0, 2045.0})"
      ]
     },
     "execution_count": 201,
     "metadata": {},
     "output_type": "execute_result"
    }
   ],
   "source": [
    "chain=next(c for c in chains if c.tradingClass == 'SPX' and c.exchange == 'SMART')\n",
    "chain"
   ]
  },
  {
   "cell_type": "code",
   "execution_count": 206,
   "metadata": {},
   "outputs": [
    {
     "data": {
      "text/plain": [
       "652"
      ]
     },
     "execution_count": 206,
     "metadata": {},
     "output_type": "execute_result"
    }
   ],
   "source": [
    "strikes = chain.strikes\n",
    "expirations = sorted(exp for exp in chain.expirations if exp>'2019')[:1]\n",
    "rights = ['P', 'C']\n",
    "\n",
    "contracts = [esOptContract(expiration, strike,right)\n",
    "        for right in rights\n",
    "        for expiration in expirations\n",
    "        for strike in sorted(strikes)]\n",
    "\n",
    "#ib.qualifyContracts(*contracts)\n",
    "len(contracts)"
   ]
  },
  {
   "cell_type": "code",
   "execution_count": 207,
   "metadata": {},
   "outputs": [
    {
     "data": {
      "text/plain": [
       "Contract(secType='OPT', symbol='SPX', lastTradeDateOrContractMonth='20190117', strike=100.0, right='P', exchange='SMART')"
      ]
     },
     "execution_count": 207,
     "metadata": {},
     "output_type": "execute_result"
    }
   ],
   "source": [
    "contracts[0]"
   ]
  },
  {
   "cell_type": "code",
   "execution_count": 192,
   "metadata": {},
   "outputs": [
    {
     "data": {
      "text/plain": [
       "Ticker(contract=Contract(secType='OPT', symbol='SPX', lastTradeDateOrContractMonth='20190117', strike=2050.0, right='P', exchange='SMART'), ticks=[], tickByTicks=[], domBids=[], domAsks=[], domTicks=[])"
      ]
     },
     "execution_count": 192,
     "metadata": {},
     "output_type": "execute_result"
    },
    {
     "name": "stderr",
     "output_type": "stream",
     "text": [
      "Error 10090, reqId 1320: Part of requested market data is not subscribed. Subscription-independent ticks are still active.Delayed market data is available.SPX S&P 500 Stock Index/TOP/ALL, contract: Contract(secType='OPT', symbol='SPX', lastTradeDateOrContractMonth='20190117', strike=2050.0, right='P', exchange='SMART')\n"
     ]
    }
   ],
   "source": [
    "ib.reqMktData(contracts[0], '', False, False)"
   ]
  },
  {
   "cell_type": "code",
   "execution_count": 202,
   "metadata": {},
   "outputs": [],
   "source": [
    "def esOptContract(expiration, strike,right):\n",
    "    contract = Contract()\n",
    "    contract.symbol = \"SPX\"\n",
    "    contract.secType = \"OPT\"\n",
    "    contract.exchange = \"SMART\"\n",
    "    contract.lastTradeDateOrContractMonth = expiration\n",
    "    contract.strike=strike\n",
    "    contract.right=right\n",
    "    \n",
    "    return contract"
   ]
  },
  {
   "cell_type": "code",
   "execution_count": 204,
   "metadata": {},
   "outputs": [],
   "source": [
    "import time"
   ]
  },
  {
   "cell_type": "code",
   "execution_count": 208,
   "metadata": {},
   "outputs": [
    {
     "name": "stdout",
     "output_type": "stream",
     "text": [
      "100.0 P\n"
     ]
    },
    {
     "name": "stderr",
     "output_type": "stream",
     "text": [
      "Error 200, reqId 40: No security definition has been found for the request, contract: Contract(secType='OPT', symbol='SPX', lastTradeDateOrContractMonth='20190117', strike=100.0, right='P', exchange='SMART')\n",
      "Unknown contract: Contract(secType='OPT', symbol='SPX', lastTradeDateOrContractMonth='20190117', strike=100.0, right='P', exchange='SMART')\n"
     ]
    },
    {
     "name": "stdout",
     "output_type": "stream",
     "text": [
      "200.0 P\n"
     ]
    },
    {
     "name": "stderr",
     "output_type": "stream",
     "text": [
      "Error 200, reqId 41: No security definition has been found for the request, contract: Contract(secType='OPT', symbol='SPX', lastTradeDateOrContractMonth='20190117', strike=200.0, right='P', exchange='SMART')\n",
      "Unknown contract: Contract(secType='OPT', symbol='SPX', lastTradeDateOrContractMonth='20190117', strike=200.0, right='P', exchange='SMART')\n"
     ]
    },
    {
     "name": "stdout",
     "output_type": "stream",
     "text": [
      "250.0 P\n"
     ]
    },
    {
     "name": "stderr",
     "output_type": "stream",
     "text": [
      "Error 200, reqId 42: No security definition has been found for the request, contract: Contract(secType='OPT', symbol='SPX', lastTradeDateOrContractMonth='20190117', strike=250.0, right='P', exchange='SMART')\n",
      "Unknown contract: Contract(secType='OPT', symbol='SPX', lastTradeDateOrContractMonth='20190117', strike=250.0, right='P', exchange='SMART')\n"
     ]
    },
    {
     "name": "stdout",
     "output_type": "stream",
     "text": [
      "300.0 P\n"
     ]
    },
    {
     "name": "stderr",
     "output_type": "stream",
     "text": [
      "Error 200, reqId 43: No security definition has been found for the request, contract: Contract(secType='OPT', symbol='SPX', lastTradeDateOrContractMonth='20190117', strike=300.0, right='P', exchange='SMART')\n",
      "Unknown contract: Contract(secType='OPT', symbol='SPX', lastTradeDateOrContractMonth='20190117', strike=300.0, right='P', exchange='SMART')\n"
     ]
    },
    {
     "name": "stdout",
     "output_type": "stream",
     "text": [
      "400.0 P\n"
     ]
    },
    {
     "name": "stderr",
     "output_type": "stream",
     "text": [
      "Error 200, reqId 44: No security definition has been found for the request, contract: Contract(secType='OPT', symbol='SPX', lastTradeDateOrContractMonth='20190117', strike=400.0, right='P', exchange='SMART')\n",
      "Unknown contract: Contract(secType='OPT', symbol='SPX', lastTradeDateOrContractMonth='20190117', strike=400.0, right='P', exchange='SMART')\n"
     ]
    },
    {
     "name": "stdout",
     "output_type": "stream",
     "text": [
      "500.0 P\n"
     ]
    },
    {
     "name": "stderr",
     "output_type": "stream",
     "text": [
      "Error 200, reqId 45: No security definition has been found for the request, contract: Contract(secType='OPT', symbol='SPX', lastTradeDateOrContractMonth='20190117', strike=500.0, right='P', exchange='SMART')\n",
      "Unknown contract: Contract(secType='OPT', symbol='SPX', lastTradeDateOrContractMonth='20190117', strike=500.0, right='P', exchange='SMART')\n"
     ]
    },
    {
     "name": "stdout",
     "output_type": "stream",
     "text": [
      "550.0 P\n"
     ]
    },
    {
     "name": "stderr",
     "output_type": "stream",
     "text": [
      "Error 200, reqId 46: No security definition has been found for the request, contract: Contract(secType='OPT', symbol='SPX', lastTradeDateOrContractMonth='20190117', strike=550.0, right='P', exchange='SMART')\n",
      "Unknown contract: Contract(secType='OPT', symbol='SPX', lastTradeDateOrContractMonth='20190117', strike=550.0, right='P', exchange='SMART')\n"
     ]
    },
    {
     "name": "stdout",
     "output_type": "stream",
     "text": [
      "600.0 P\n"
     ]
    },
    {
     "name": "stderr",
     "output_type": "stream",
     "text": [
      "Error 200, reqId 47: No security definition has been found for the request, contract: Contract(secType='OPT', symbol='SPX', lastTradeDateOrContractMonth='20190117', strike=600.0, right='P', exchange='SMART')\n",
      "Unknown contract: Contract(secType='OPT', symbol='SPX', lastTradeDateOrContractMonth='20190117', strike=600.0, right='P', exchange='SMART')\n"
     ]
    },
    {
     "name": "stdout",
     "output_type": "stream",
     "text": [
      "650.0 P\n"
     ]
    },
    {
     "name": "stderr",
     "output_type": "stream",
     "text": [
      "Error 200, reqId 48: No security definition has been found for the request, contract: Contract(secType='OPT', symbol='SPX', lastTradeDateOrContractMonth='20190117', strike=650.0, right='P', exchange='SMART')\n",
      "Unknown contract: Contract(secType='OPT', symbol='SPX', lastTradeDateOrContractMonth='20190117', strike=650.0, right='P', exchange='SMART')\n"
     ]
    },
    {
     "name": "stdout",
     "output_type": "stream",
     "text": [
      "700.0 P\n"
     ]
    },
    {
     "name": "stderr",
     "output_type": "stream",
     "text": [
      "Error 200, reqId 49: No security definition has been found for the request, contract: Contract(secType='OPT', symbol='SPX', lastTradeDateOrContractMonth='20190117', strike=700.0, right='P', exchange='SMART')\n",
      "Unknown contract: Contract(secType='OPT', symbol='SPX', lastTradeDateOrContractMonth='20190117', strike=700.0, right='P', exchange='SMART')\n"
     ]
    },
    {
     "name": "stdout",
     "output_type": "stream",
     "text": [
      "750.0 P\n",
      "800.0 P\n",
      "825.0 P\n"
     ]
    },
    {
     "name": "stderr",
     "output_type": "stream",
     "text": [
      "Error 200, reqId 52: No security definition has been found for the request, contract: Contract(secType='OPT', symbol='SPX', lastTradeDateOrContractMonth='20190117', strike=825.0, right='P', exchange='SMART')\n",
      "Unknown contract: Contract(secType='OPT', symbol='SPX', lastTradeDateOrContractMonth='20190117', strike=825.0, right='P', exchange='SMART')\n"
     ]
    },
    {
     "name": "stdout",
     "output_type": "stream",
     "text": [
      "850.0 P\n",
      "875.0 P\n"
     ]
    },
    {
     "name": "stderr",
     "output_type": "stream",
     "text": [
      "Error 200, reqId 54: No security definition has been found for the request, contract: Contract(secType='OPT', symbol='SPX', lastTradeDateOrContractMonth='20190117', strike=875.0, right='P', exchange='SMART')\n",
      "Unknown contract: Contract(secType='OPT', symbol='SPX', lastTradeDateOrContractMonth='20190117', strike=875.0, right='P', exchange='SMART')\n"
     ]
    },
    {
     "name": "stdout",
     "output_type": "stream",
     "text": [
      "900.0 P\n",
      "925.0 P\n"
     ]
    },
    {
     "name": "stderr",
     "output_type": "stream",
     "text": [
      "Error 200, reqId 56: No security definition has been found for the request, contract: Contract(secType='OPT', symbol='SPX', lastTradeDateOrContractMonth='20190117', strike=925.0, right='P', exchange='SMART')\n",
      "Unknown contract: Contract(secType='OPT', symbol='SPX', lastTradeDateOrContractMonth='20190117', strike=925.0, right='P', exchange='SMART')\n"
     ]
    },
    {
     "name": "stdout",
     "output_type": "stream",
     "text": [
      "950.0 P\n",
      "975.0 P\n"
     ]
    },
    {
     "name": "stderr",
     "output_type": "stream",
     "text": [
      "Error 200, reqId 58: No security definition has been found for the request, contract: Contract(secType='OPT', symbol='SPX', lastTradeDateOrContractMonth='20190117', strike=975.0, right='P', exchange='SMART')\n",
      "Unknown contract: Contract(secType='OPT', symbol='SPX', lastTradeDateOrContractMonth='20190117', strike=975.0, right='P', exchange='SMART')\n"
     ]
    },
    {
     "name": "stdout",
     "output_type": "stream",
     "text": [
      "1000.0 P\n",
      "1025.0 P\n",
      "1050.0 P\n",
      "1075.0 P\n",
      "1100.0 P\n",
      "1125.0 P\n",
      "1150.0 P\n",
      "1175.0 P\n",
      "1200.0 P\n",
      "1225.0 P\n",
      "1250.0 P\n",
      "1275.0 P\n",
      "1300.0 P\n",
      "1325.0 P\n",
      "1350.0 P\n",
      "1375.0 P\n",
      "1400.0 P\n",
      "1425.0 P\n",
      "1450.0 P\n",
      "1475.0 P\n",
      "1500.0 P\n",
      "1525.0 P\n",
      "1550.0 P\n",
      "1575.0 P\n",
      "1600.0 P\n",
      "1625.0 P\n",
      "1650.0 P\n",
      "1675.0 P\n",
      "1700.0 P\n",
      "1725.0 P\n",
      "1750.0 P\n",
      "1775.0 P\n",
      "1790.0 P\n"
     ]
    },
    {
     "name": "stderr",
     "output_type": "stream",
     "text": [
      "Error 200, reqId 91: No security definition has been found for the request, contract: Contract(secType='OPT', symbol='SPX', lastTradeDateOrContractMonth='20190117', strike=1790.0, right='P', exchange='SMART')\n",
      "Unknown contract: Contract(secType='OPT', symbol='SPX', lastTradeDateOrContractMonth='20190117', strike=1790.0, right='P', exchange='SMART')\n"
     ]
    },
    {
     "name": "stdout",
     "output_type": "stream",
     "text": [
      "1800.0 P\n",
      "1810.0 P\n"
     ]
    },
    {
     "name": "stderr",
     "output_type": "stream",
     "text": [
      "Error 200, reqId 93: No security definition has been found for the request, contract: Contract(secType='OPT', symbol='SPX', lastTradeDateOrContractMonth='20190117', strike=1810.0, right='P', exchange='SMART')\n",
      "Unknown contract: Contract(secType='OPT', symbol='SPX', lastTradeDateOrContractMonth='20190117', strike=1810.0, right='P', exchange='SMART')\n"
     ]
    },
    {
     "name": "stdout",
     "output_type": "stream",
     "text": [
      "1820.0 P\n"
     ]
    },
    {
     "name": "stderr",
     "output_type": "stream",
     "text": [
      "Error 200, reqId 94: No security definition has been found for the request, contract: Contract(secType='OPT', symbol='SPX', lastTradeDateOrContractMonth='20190117', strike=1820.0, right='P', exchange='SMART')\n",
      "Unknown contract: Contract(secType='OPT', symbol='SPX', lastTradeDateOrContractMonth='20190117', strike=1820.0, right='P', exchange='SMART')\n"
     ]
    },
    {
     "name": "stdout",
     "output_type": "stream",
     "text": [
      "1825.0 P\n",
      "1830.0 P\n"
     ]
    },
    {
     "name": "stderr",
     "output_type": "stream",
     "text": [
      "Error 200, reqId 96: No security definition has been found for the request, contract: Contract(secType='OPT', symbol='SPX', lastTradeDateOrContractMonth='20190117', strike=1830.0, right='P', exchange='SMART')\n",
      "Unknown contract: Contract(secType='OPT', symbol='SPX', lastTradeDateOrContractMonth='20190117', strike=1830.0, right='P', exchange='SMART')\n"
     ]
    },
    {
     "name": "stdout",
     "output_type": "stream",
     "text": [
      "1840.0 P\n",
      "1850.0 P\n",
      "1860.0 P\n",
      "1870.0 P\n",
      "1875.0 P\n",
      "1880.0 P\n",
      "1890.0 P\n",
      "1900.0 P\n",
      "1910.0 P\n",
      "1920.0 P\n",
      "1925.0 P\n",
      "1930.0 P\n",
      "1940.0 P\n",
      "1950.0 P\n",
      "1960.0 P\n",
      "1970.0 P\n",
      "1975.0 P\n",
      "1980.0 P\n",
      "1990.0 P\n",
      "2000.0 P\n",
      "2010.0 P\n",
      "2020.0 P\n",
      "2025.0 P\n",
      "2030.0 P\n",
      "2040.0 P\n",
      "2045.0 P\n"
     ]
    },
    {
     "name": "stderr",
     "output_type": "stream",
     "text": [
      "Error 200, reqId 122: No security definition has been found for the request, contract: Contract(secType='OPT', symbol='SPX', lastTradeDateOrContractMonth='20190117', strike=2045.0, right='P', exchange='SMART')\n",
      "Unknown contract: Contract(secType='OPT', symbol='SPX', lastTradeDateOrContractMonth='20190117', strike=2045.0, right='P', exchange='SMART')\n"
     ]
    },
    {
     "name": "stdout",
     "output_type": "stream",
     "text": [
      "2050.0 P\n",
      "2055.0 P\n"
     ]
    },
    {
     "name": "stderr",
     "output_type": "stream",
     "text": [
      "Error 200, reqId 124: No security definition has been found for the request, contract: Contract(secType='OPT', symbol='SPX', lastTradeDateOrContractMonth='20190117', strike=2055.0, right='P', exchange='SMART')\n",
      "Unknown contract: Contract(secType='OPT', symbol='SPX', lastTradeDateOrContractMonth='20190117', strike=2055.0, right='P', exchange='SMART')\n"
     ]
    },
    {
     "name": "stdout",
     "output_type": "stream",
     "text": [
      "2060.0 P\n",
      "2065.0 P\n"
     ]
    },
    {
     "name": "stderr",
     "output_type": "stream",
     "text": [
      "Error 200, reqId 126: No security definition has been found for the request, contract: Contract(secType='OPT', symbol='SPX', lastTradeDateOrContractMonth='20190117', strike=2065.0, right='P', exchange='SMART')\n",
      "Unknown contract: Contract(secType='OPT', symbol='SPX', lastTradeDateOrContractMonth='20190117', strike=2065.0, right='P', exchange='SMART')\n"
     ]
    },
    {
     "name": "stdout",
     "output_type": "stream",
     "text": [
      "2070.0 P\n",
      "2075.0 P\n",
      "2080.0 P\n",
      "2085.0 P\n"
     ]
    },
    {
     "name": "stderr",
     "output_type": "stream",
     "text": [
      "Error 200, reqId 130: No security definition has been found for the request, contract: Contract(secType='OPT', symbol='SPX', lastTradeDateOrContractMonth='20190117', strike=2085.0, right='P', exchange='SMART')\n",
      "Unknown contract: Contract(secType='OPT', symbol='SPX', lastTradeDateOrContractMonth='20190117', strike=2085.0, right='P', exchange='SMART')\n"
     ]
    },
    {
     "name": "stdout",
     "output_type": "stream",
     "text": [
      "2090.0 P\n",
      "2095.0 P\n"
     ]
    },
    {
     "name": "stderr",
     "output_type": "stream",
     "text": [
      "Error 200, reqId 132: No security definition has been found for the request, contract: Contract(secType='OPT', symbol='SPX', lastTradeDateOrContractMonth='20190117', strike=2095.0, right='P', exchange='SMART')\n",
      "Unknown contract: Contract(secType='OPT', symbol='SPX', lastTradeDateOrContractMonth='20190117', strike=2095.0, right='P', exchange='SMART')\n"
     ]
    },
    {
     "name": "stdout",
     "output_type": "stream",
     "text": [
      "2100.0 P\n",
      "2105.0 P\n",
      "2110.0 P\n",
      "2115.0 P\n",
      "2120.0 P\n",
      "2125.0 P\n",
      "2130.0 P\n",
      "2135.0 P\n",
      "2140.0 P\n",
      "2145.0 P\n",
      "2150.0 P\n",
      "2155.0 P\n",
      "2160.0 P\n",
      "2165.0 P\n",
      "2170.0 P\n",
      "2175.0 P\n",
      "2180.0 P\n",
      "2185.0 P\n",
      "2190.0 P\n",
      "2195.0 P\n",
      "2200.0 P\n",
      "2205.0 P\n",
      "2210.0 P\n",
      "2215.0 P\n",
      "2220.0 P\n",
      "2225.0 P\n",
      "2230.0 P\n",
      "2235.0 P\n",
      "2240.0 P\n",
      "2245.0 P\n",
      "2250.0 P\n",
      "2255.0 P\n",
      "2260.0 P\n",
      "2265.0 P\n",
      "2270.0 P\n",
      "2275.0 P\n",
      "2280.0 P\n",
      "2285.0 P\n",
      "2290.0 P\n",
      "2295.0 P\n",
      "2300.0 P\n",
      "2305.0 P\n",
      "2310.0 P\n",
      "2315.0 P\n",
      "2320.0 P\n",
      "2325.0 P\n",
      "2330.0 P\n",
      "2335.0 P\n",
      "2340.0 P\n",
      "2345.0 P\n",
      "2350.0 P\n",
      "2355.0 P\n",
      "2360.0 P\n",
      "2365.0 P\n",
      "2370.0 P\n",
      "2375.0 P\n",
      "2380.0 P\n",
      "2385.0 P\n",
      "2390.0 P\n",
      "2395.0 P\n",
      "2400.0 P\n",
      "2405.0 P\n",
      "2410.0 P\n",
      "2415.0 P\n",
      "2420.0 P\n",
      "2425.0 P\n",
      "2430.0 P\n",
      "2435.0 P\n",
      "2440.0 P\n",
      "2445.0 P\n",
      "2450.0 P\n",
      "2455.0 P\n",
      "2460.0 P\n",
      "2465.0 P\n",
      "2470.0 P\n",
      "2475.0 P\n",
      "2480.0 P\n",
      "2485.0 P\n",
      "2490.0 P\n",
      "2495.0 P\n",
      "2500.0 P\n",
      "2505.0 P\n",
      "2510.0 P\n",
      "2515.0 P\n",
      "2520.0 P\n",
      "2525.0 P\n",
      "2530.0 P\n",
      "2535.0 P\n",
      "2540.0 P\n",
      "2545.0 P\n",
      "2550.0 P\n",
      "2555.0 P\n",
      "2560.0 P\n",
      "2565.0 P\n",
      "2570.0 P\n",
      "2575.0 P\n",
      "2580.0 P\n",
      "2585.0 P\n",
      "2590.0 P\n",
      "2595.0 P\n",
      "2600.0 P\n",
      "2605.0 P\n",
      "2610.0 P\n",
      "2615.0 P\n",
      "2620.0 P\n",
      "2625.0 P\n",
      "2630.0 P\n",
      "2635.0 P\n",
      "2640.0 P\n",
      "2645.0 P\n",
      "2650.0 P\n",
      "2655.0 P\n",
      "2660.0 P\n",
      "2665.0 P\n",
      "2670.0 P\n",
      "2675.0 P\n",
      "2680.0 P\n",
      "2685.0 P\n",
      "2690.0 P\n",
      "2695.0 P\n",
      "2700.0 P\n",
      "2705.0 P\n",
      "2710.0 P\n",
      "2715.0 P\n",
      "2720.0 P\n",
      "2725.0 P\n",
      "2730.0 P\n",
      "2735.0 P\n",
      "2740.0 P\n",
      "2745.0 P\n",
      "2750.0 P\n",
      "2755.0 P\n",
      "2760.0 P\n",
      "2765.0 P\n",
      "2770.0 P\n",
      "2775.0 P\n",
      "2780.0 P\n",
      "2785.0 P\n",
      "2790.0 P\n",
      "2795.0 P\n",
      "2800.0 P\n",
      "2805.0 P\n",
      "2810.0 P\n",
      "2815.0 P\n",
      "2820.0 P\n",
      "2825.0 P\n",
      "2830.0 P\n",
      "2835.0 P\n",
      "2840.0 P\n",
      "2845.0 P\n",
      "2850.0 P\n",
      "2855.0 P\n",
      "2860.0 P\n",
      "2865.0 P\n",
      "2870.0 P\n",
      "2875.0 P\n",
      "2880.0 P\n",
      "2885.0 P\n",
      "2890.0 P\n",
      "2895.0 P\n",
      "2900.0 P\n",
      "2905.0 P\n",
      "2910.0 P\n",
      "2915.0 P\n",
      "2920.0 P\n",
      "2925.0 P\n",
      "2930.0 P\n",
      "2935.0 P\n",
      "2940.0 P\n",
      "2945.0 P\n",
      "2950.0 P\n",
      "2955.0 P\n",
      "2960.0 P\n",
      "2965.0 P\n",
      "2970.0 P\n",
      "2975.0 P\n",
      "2980.0 P\n",
      "2985.0 P\n",
      "2990.0 P\n",
      "2995.0 P\n",
      "3000.0 P\n",
      "3005.0 P\n",
      "3010.0 P\n",
      "3015.0 P\n",
      "3020.0 P\n",
      "3025.0 P\n",
      "3030.0 P\n",
      "3035.0 P\n",
      "3040.0 P\n",
      "3045.0 P\n",
      "3050.0 P\n",
      "3055.0 P\n",
      "3060.0 P\n",
      "3065.0 P\n",
      "3070.0 P\n",
      "3075.0 P\n",
      "3080.0 P\n",
      "3085.0 P\n",
      "3090.0 P\n",
      "3095.0 P\n",
      "3100.0 P\n",
      "3105.0 P\n",
      "3110.0 P\n",
      "3115.0 P\n",
      "3120.0 P\n",
      "3125.0 P\n",
      "3130.0 P\n",
      "3135.0 P\n",
      "3140.0 P\n",
      "3145.0 P\n",
      "3150.0 P\n",
      "3160.0 P\n",
      "3170.0 P\n",
      "3175.0 P\n",
      "3180.0 P\n",
      "3190.0 P\n",
      "3200.0 P\n",
      "3210.0 P\n",
      "3220.0 P\n",
      "3225.0 P\n",
      "3250.0 P\n",
      "3275.0 P\n",
      "3300.0 P\n",
      "3350.0 P\n",
      "3400.0 P\n",
      "3500.0 P\n",
      "3600.0 P\n",
      "3700.0 P\n",
      "3800.0 P\n",
      "3900.0 P\n",
      "4000.0 P\n",
      "4100.0 P\n"
     ]
    },
    {
     "name": "stderr",
     "output_type": "stream",
     "text": [
      "Error 200, reqId 364: No security definition has been found for the request, contract: Contract(secType='OPT', symbol='SPX', lastTradeDateOrContractMonth='20190117', strike=4100.0, right='P', exchange='SMART')\n",
      "Unknown contract: Contract(secType='OPT', symbol='SPX', lastTradeDateOrContractMonth='20190117', strike=4100.0, right='P', exchange='SMART')\n"
     ]
    },
    {
     "name": "stdout",
     "output_type": "stream",
     "text": [
      "4200.0 P\n"
     ]
    },
    {
     "name": "stderr",
     "output_type": "stream",
     "text": [
      "Error 200, reqId 365: No security definition has been found for the request, contract: Contract(secType='OPT', symbol='SPX', lastTradeDateOrContractMonth='20190117', strike=4200.0, right='P', exchange='SMART')\n",
      "Unknown contract: Contract(secType='OPT', symbol='SPX', lastTradeDateOrContractMonth='20190117', strike=4200.0, right='P', exchange='SMART')\n"
     ]
    },
    {
     "name": "stdout",
     "output_type": "stream",
     "text": [
      "100.0 C\n"
     ]
    },
    {
     "name": "stderr",
     "output_type": "stream",
     "text": [
      "Error 200, reqId 366: No security definition has been found for the request, contract: Contract(secType='OPT', symbol='SPX', lastTradeDateOrContractMonth='20190117', strike=100.0, right='C', exchange='SMART')\n",
      "Unknown contract: Contract(secType='OPT', symbol='SPX', lastTradeDateOrContractMonth='20190117', strike=100.0, right='C', exchange='SMART')\n"
     ]
    },
    {
     "name": "stdout",
     "output_type": "stream",
     "text": [
      "200.0 C\n"
     ]
    },
    {
     "name": "stderr",
     "output_type": "stream",
     "text": [
      "Error 200, reqId 367: No security definition has been found for the request, contract: Contract(secType='OPT', symbol='SPX', lastTradeDateOrContractMonth='20190117', strike=200.0, right='C', exchange='SMART')\n",
      "Unknown contract: Contract(secType='OPT', symbol='SPX', lastTradeDateOrContractMonth='20190117', strike=200.0, right='C', exchange='SMART')\n"
     ]
    },
    {
     "name": "stdout",
     "output_type": "stream",
     "text": [
      "250.0 C\n"
     ]
    },
    {
     "name": "stderr",
     "output_type": "stream",
     "text": [
      "Error 200, reqId 368: No security definition has been found for the request, contract: Contract(secType='OPT', symbol='SPX', lastTradeDateOrContractMonth='20190117', strike=250.0, right='C', exchange='SMART')\n",
      "Unknown contract: Contract(secType='OPT', symbol='SPX', lastTradeDateOrContractMonth='20190117', strike=250.0, right='C', exchange='SMART')\n"
     ]
    },
    {
     "name": "stdout",
     "output_type": "stream",
     "text": [
      "300.0 C\n"
     ]
    },
    {
     "name": "stderr",
     "output_type": "stream",
     "text": [
      "Error 200, reqId 369: No security definition has been found for the request, contract: Contract(secType='OPT', symbol='SPX', lastTradeDateOrContractMonth='20190117', strike=300.0, right='C', exchange='SMART')\n",
      "Unknown contract: Contract(secType='OPT', symbol='SPX', lastTradeDateOrContractMonth='20190117', strike=300.0, right='C', exchange='SMART')\n"
     ]
    },
    {
     "name": "stdout",
     "output_type": "stream",
     "text": [
      "400.0 C\n"
     ]
    },
    {
     "name": "stderr",
     "output_type": "stream",
     "text": [
      "Error 200, reqId 370: No security definition has been found for the request, contract: Contract(secType='OPT', symbol='SPX', lastTradeDateOrContractMonth='20190117', strike=400.0, right='C', exchange='SMART')\n",
      "Unknown contract: Contract(secType='OPT', symbol='SPX', lastTradeDateOrContractMonth='20190117', strike=400.0, right='C', exchange='SMART')\n"
     ]
    },
    {
     "name": "stdout",
     "output_type": "stream",
     "text": [
      "500.0 C\n"
     ]
    },
    {
     "name": "stderr",
     "output_type": "stream",
     "text": [
      "Error 200, reqId 371: No security definition has been found for the request, contract: Contract(secType='OPT', symbol='SPX', lastTradeDateOrContractMonth='20190117', strike=500.0, right='C', exchange='SMART')\n",
      "Unknown contract: Contract(secType='OPT', symbol='SPX', lastTradeDateOrContractMonth='20190117', strike=500.0, right='C', exchange='SMART')\n"
     ]
    },
    {
     "name": "stdout",
     "output_type": "stream",
     "text": [
      "550.0 C\n"
     ]
    },
    {
     "name": "stderr",
     "output_type": "stream",
     "text": [
      "Error 200, reqId 372: No security definition has been found for the request, contract: Contract(secType='OPT', symbol='SPX', lastTradeDateOrContractMonth='20190117', strike=550.0, right='C', exchange='SMART')\n",
      "Unknown contract: Contract(secType='OPT', symbol='SPX', lastTradeDateOrContractMonth='20190117', strike=550.0, right='C', exchange='SMART')\n"
     ]
    },
    {
     "name": "stdout",
     "output_type": "stream",
     "text": [
      "600.0 C\n"
     ]
    },
    {
     "name": "stderr",
     "output_type": "stream",
     "text": [
      "Error 200, reqId 373: No security definition has been found for the request, contract: Contract(secType='OPT', symbol='SPX', lastTradeDateOrContractMonth='20190117', strike=600.0, right='C', exchange='SMART')\n",
      "Unknown contract: Contract(secType='OPT', symbol='SPX', lastTradeDateOrContractMonth='20190117', strike=600.0, right='C', exchange='SMART')\n"
     ]
    },
    {
     "name": "stdout",
     "output_type": "stream",
     "text": [
      "650.0 C\n"
     ]
    },
    {
     "name": "stderr",
     "output_type": "stream",
     "text": [
      "Error 200, reqId 374: No security definition has been found for the request, contract: Contract(secType='OPT', symbol='SPX', lastTradeDateOrContractMonth='20190117', strike=650.0, right='C', exchange='SMART')\n",
      "Unknown contract: Contract(secType='OPT', symbol='SPX', lastTradeDateOrContractMonth='20190117', strike=650.0, right='C', exchange='SMART')\n"
     ]
    },
    {
     "name": "stdout",
     "output_type": "stream",
     "text": [
      "700.0 C\n"
     ]
    },
    {
     "name": "stderr",
     "output_type": "stream",
     "text": [
      "Error 200, reqId 375: No security definition has been found for the request, contract: Contract(secType='OPT', symbol='SPX', lastTradeDateOrContractMonth='20190117', strike=700.0, right='C', exchange='SMART')\n",
      "Unknown contract: Contract(secType='OPT', symbol='SPX', lastTradeDateOrContractMonth='20190117', strike=700.0, right='C', exchange='SMART')\n"
     ]
    },
    {
     "name": "stdout",
     "output_type": "stream",
     "text": [
      "750.0 C\n",
      "800.0 C\n",
      "825.0 C\n"
     ]
    },
    {
     "name": "stderr",
     "output_type": "stream",
     "text": [
      "Error 200, reqId 378: No security definition has been found for the request, contract: Contract(secType='OPT', symbol='SPX', lastTradeDateOrContractMonth='20190117', strike=825.0, right='C', exchange='SMART')\n",
      "Unknown contract: Contract(secType='OPT', symbol='SPX', lastTradeDateOrContractMonth='20190117', strike=825.0, right='C', exchange='SMART')\n"
     ]
    },
    {
     "name": "stdout",
     "output_type": "stream",
     "text": [
      "850.0 C\n",
      "875.0 C\n"
     ]
    },
    {
     "name": "stderr",
     "output_type": "stream",
     "text": [
      "Error 200, reqId 380: No security definition has been found for the request, contract: Contract(secType='OPT', symbol='SPX', lastTradeDateOrContractMonth='20190117', strike=875.0, right='C', exchange='SMART')\n",
      "Unknown contract: Contract(secType='OPT', symbol='SPX', lastTradeDateOrContractMonth='20190117', strike=875.0, right='C', exchange='SMART')\n"
     ]
    },
    {
     "name": "stdout",
     "output_type": "stream",
     "text": [
      "900.0 C\n",
      "925.0 C\n"
     ]
    },
    {
     "name": "stderr",
     "output_type": "stream",
     "text": [
      "Error 200, reqId 382: No security definition has been found for the request, contract: Contract(secType='OPT', symbol='SPX', lastTradeDateOrContractMonth='20190117', strike=925.0, right='C', exchange='SMART')\n",
      "Unknown contract: Contract(secType='OPT', symbol='SPX', lastTradeDateOrContractMonth='20190117', strike=925.0, right='C', exchange='SMART')\n"
     ]
    },
    {
     "name": "stdout",
     "output_type": "stream",
     "text": [
      "950.0 C\n",
      "975.0 C\n"
     ]
    },
    {
     "name": "stderr",
     "output_type": "stream",
     "text": [
      "Error 200, reqId 384: No security definition has been found for the request, contract: Contract(secType='OPT', symbol='SPX', lastTradeDateOrContractMonth='20190117', strike=975.0, right='C', exchange='SMART')\n",
      "Unknown contract: Contract(secType='OPT', symbol='SPX', lastTradeDateOrContractMonth='20190117', strike=975.0, right='C', exchange='SMART')\n"
     ]
    },
    {
     "name": "stdout",
     "output_type": "stream",
     "text": [
      "1000.0 C\n",
      "1025.0 C\n",
      "1050.0 C\n",
      "1075.0 C\n",
      "1100.0 C\n",
      "1125.0 C\n",
      "1150.0 C\n",
      "1175.0 C\n",
      "1200.0 C\n",
      "1225.0 C\n",
      "1250.0 C\n",
      "1275.0 C\n",
      "1300.0 C\n",
      "1325.0 C\n",
      "1350.0 C\n",
      "1375.0 C\n",
      "1400.0 C\n",
      "1425.0 C\n",
      "1450.0 C\n",
      "1475.0 C\n",
      "1500.0 C\n",
      "1525.0 C\n",
      "1550.0 C\n",
      "1575.0 C\n",
      "1600.0 C\n",
      "1625.0 C\n",
      "1650.0 C\n",
      "1675.0 C\n",
      "1700.0 C\n",
      "1725.0 C\n",
      "1750.0 C\n",
      "1775.0 C\n",
      "1790.0 C\n"
     ]
    },
    {
     "name": "stderr",
     "output_type": "stream",
     "text": [
      "Error 200, reqId 417: No security definition has been found for the request, contract: Contract(secType='OPT', symbol='SPX', lastTradeDateOrContractMonth='20190117', strike=1790.0, right='C', exchange='SMART')\n",
      "Unknown contract: Contract(secType='OPT', symbol='SPX', lastTradeDateOrContractMonth='20190117', strike=1790.0, right='C', exchange='SMART')\n"
     ]
    },
    {
     "name": "stdout",
     "output_type": "stream",
     "text": [
      "1800.0 C\n",
      "1810.0 C\n"
     ]
    },
    {
     "name": "stderr",
     "output_type": "stream",
     "text": [
      "Error 200, reqId 419: No security definition has been found for the request, contract: Contract(secType='OPT', symbol='SPX', lastTradeDateOrContractMonth='20190117', strike=1810.0, right='C', exchange='SMART')\n",
      "Unknown contract: Contract(secType='OPT', symbol='SPX', lastTradeDateOrContractMonth='20190117', strike=1810.0, right='C', exchange='SMART')\n"
     ]
    },
    {
     "name": "stdout",
     "output_type": "stream",
     "text": [
      "1820.0 C\n"
     ]
    },
    {
     "name": "stderr",
     "output_type": "stream",
     "text": [
      "Error 200, reqId 420: No security definition has been found for the request, contract: Contract(secType='OPT', symbol='SPX', lastTradeDateOrContractMonth='20190117', strike=1820.0, right='C', exchange='SMART')\n",
      "Unknown contract: Contract(secType='OPT', symbol='SPX', lastTradeDateOrContractMonth='20190117', strike=1820.0, right='C', exchange='SMART')\n"
     ]
    },
    {
     "name": "stdout",
     "output_type": "stream",
     "text": [
      "1825.0 C\n",
      "1830.0 C\n"
     ]
    },
    {
     "name": "stderr",
     "output_type": "stream",
     "text": [
      "Error 200, reqId 422: No security definition has been found for the request, contract: Contract(secType='OPT', symbol='SPX', lastTradeDateOrContractMonth='20190117', strike=1830.0, right='C', exchange='SMART')\n",
      "Unknown contract: Contract(secType='OPT', symbol='SPX', lastTradeDateOrContractMonth='20190117', strike=1830.0, right='C', exchange='SMART')\n"
     ]
    },
    {
     "name": "stdout",
     "output_type": "stream",
     "text": [
      "1840.0 C\n",
      "1850.0 C\n",
      "1860.0 C\n",
      "1870.0 C\n",
      "1875.0 C\n",
      "1880.0 C\n",
      "1890.0 C\n",
      "1900.0 C\n",
      "1910.0 C\n",
      "1920.0 C\n",
      "1925.0 C\n",
      "1930.0 C\n",
      "1940.0 C\n",
      "1950.0 C\n",
      "1960.0 C\n",
      "1970.0 C\n",
      "1975.0 C\n",
      "1980.0 C\n",
      "1990.0 C\n",
      "2000.0 C\n",
      "2010.0 C\n",
      "2020.0 C\n",
      "2025.0 C\n",
      "2030.0 C\n",
      "2040.0 C\n",
      "2045.0 C\n"
     ]
    },
    {
     "name": "stderr",
     "output_type": "stream",
     "text": [
      "Error 200, reqId 448: No security definition has been found for the request, contract: Contract(secType='OPT', symbol='SPX', lastTradeDateOrContractMonth='20190117', strike=2045.0, right='C', exchange='SMART')\n",
      "Unknown contract: Contract(secType='OPT', symbol='SPX', lastTradeDateOrContractMonth='20190117', strike=2045.0, right='C', exchange='SMART')\n"
     ]
    },
    {
     "name": "stdout",
     "output_type": "stream",
     "text": [
      "2050.0 C\n",
      "2055.0 C\n"
     ]
    },
    {
     "name": "stderr",
     "output_type": "stream",
     "text": [
      "Error 200, reqId 450: No security definition has been found for the request, contract: Contract(secType='OPT', symbol='SPX', lastTradeDateOrContractMonth='20190117', strike=2055.0, right='C', exchange='SMART')\n",
      "Unknown contract: Contract(secType='OPT', symbol='SPX', lastTradeDateOrContractMonth='20190117', strike=2055.0, right='C', exchange='SMART')\n"
     ]
    },
    {
     "name": "stdout",
     "output_type": "stream",
     "text": [
      "2060.0 C\n",
      "2065.0 C\n"
     ]
    },
    {
     "name": "stderr",
     "output_type": "stream",
     "text": [
      "Error 200, reqId 452: No security definition has been found for the request, contract: Contract(secType='OPT', symbol='SPX', lastTradeDateOrContractMonth='20190117', strike=2065.0, right='C', exchange='SMART')\n",
      "Unknown contract: Contract(secType='OPT', symbol='SPX', lastTradeDateOrContractMonth='20190117', strike=2065.0, right='C', exchange='SMART')\n"
     ]
    },
    {
     "name": "stdout",
     "output_type": "stream",
     "text": [
      "2070.0 C\n",
      "2075.0 C\n",
      "2080.0 C\n",
      "2085.0 C\n"
     ]
    },
    {
     "name": "stderr",
     "output_type": "stream",
     "text": [
      "Error 200, reqId 456: No security definition has been found for the request, contract: Contract(secType='OPT', symbol='SPX', lastTradeDateOrContractMonth='20190117', strike=2085.0, right='C', exchange='SMART')\n",
      "Unknown contract: Contract(secType='OPT', symbol='SPX', lastTradeDateOrContractMonth='20190117', strike=2085.0, right='C', exchange='SMART')\n"
     ]
    },
    {
     "name": "stdout",
     "output_type": "stream",
     "text": [
      "2090.0 C\n",
      "2095.0 C\n"
     ]
    },
    {
     "name": "stderr",
     "output_type": "stream",
     "text": [
      "Error 200, reqId 458: No security definition has been found for the request, contract: Contract(secType='OPT', symbol='SPX', lastTradeDateOrContractMonth='20190117', strike=2095.0, right='C', exchange='SMART')\n",
      "Unknown contract: Contract(secType='OPT', symbol='SPX', lastTradeDateOrContractMonth='20190117', strike=2095.0, right='C', exchange='SMART')\n"
     ]
    },
    {
     "name": "stdout",
     "output_type": "stream",
     "text": [
      "2100.0 C\n",
      "2105.0 C\n",
      "2110.0 C\n",
      "2115.0 C\n",
      "2120.0 C\n",
      "2125.0 C\n",
      "2130.0 C\n",
      "2135.0 C\n",
      "2140.0 C\n",
      "2145.0 C\n",
      "2150.0 C\n",
      "2155.0 C\n",
      "2160.0 C\n",
      "2165.0 C\n",
      "2170.0 C\n",
      "2175.0 C\n",
      "2180.0 C\n",
      "2185.0 C\n",
      "2190.0 C\n",
      "2195.0 C\n",
      "2200.0 C\n",
      "2205.0 C\n",
      "2210.0 C\n",
      "2215.0 C\n",
      "2220.0 C\n",
      "2225.0 C\n",
      "2230.0 C\n",
      "2235.0 C\n",
      "2240.0 C\n",
      "2245.0 C\n",
      "2250.0 C\n",
      "2255.0 C\n",
      "2260.0 C\n",
      "2265.0 C\n",
      "2270.0 C\n",
      "2275.0 C\n",
      "2280.0 C\n",
      "2285.0 C\n",
      "2290.0 C\n",
      "2295.0 C\n",
      "2300.0 C\n",
      "2305.0 C\n",
      "2310.0 C\n",
      "2315.0 C\n",
      "2320.0 C\n",
      "2325.0 C\n",
      "2330.0 C\n",
      "2335.0 C\n",
      "2340.0 C\n",
      "2345.0 C\n",
      "2350.0 C\n",
      "2355.0 C\n",
      "2360.0 C\n",
      "2365.0 C\n",
      "2370.0 C\n",
      "2375.0 C\n",
      "2380.0 C\n",
      "2385.0 C\n",
      "2390.0 C\n",
      "2395.0 C\n",
      "2400.0 C\n",
      "2405.0 C\n",
      "2410.0 C\n",
      "2415.0 C\n",
      "2420.0 C\n",
      "2425.0 C\n",
      "2430.0 C\n",
      "2435.0 C\n",
      "2440.0 C\n",
      "2445.0 C\n",
      "2450.0 C\n",
      "2455.0 C\n",
      "2460.0 C\n",
      "2465.0 C\n",
      "2470.0 C\n",
      "2475.0 C\n",
      "2480.0 C\n",
      "2485.0 C\n",
      "2490.0 C\n",
      "2495.0 C\n",
      "2500.0 C\n",
      "2505.0 C\n",
      "2510.0 C\n",
      "2515.0 C\n",
      "2520.0 C\n",
      "2525.0 C\n",
      "2530.0 C\n",
      "2535.0 C\n",
      "2540.0 C\n",
      "2545.0 C\n",
      "2550.0 C\n",
      "2555.0 C\n",
      "2560.0 C\n",
      "2565.0 C\n",
      "2570.0 C\n",
      "2575.0 C\n",
      "2580.0 C\n",
      "2585.0 C\n",
      "2590.0 C\n",
      "2595.0 C\n",
      "2600.0 C\n",
      "2605.0 C\n",
      "2610.0 C\n",
      "2615.0 C\n",
      "2620.0 C\n",
      "2625.0 C\n",
      "2630.0 C\n",
      "2635.0 C\n",
      "2640.0 C\n",
      "2645.0 C\n",
      "2650.0 C\n",
      "2655.0 C\n",
      "2660.0 C\n",
      "2665.0 C\n",
      "2670.0 C\n",
      "2675.0 C\n",
      "2680.0 C\n",
      "2685.0 C\n",
      "2690.0 C\n",
      "2695.0 C\n",
      "2700.0 C\n",
      "2705.0 C\n",
      "2710.0 C\n",
      "2715.0 C\n",
      "2720.0 C\n",
      "2725.0 C\n",
      "2730.0 C\n",
      "2735.0 C\n",
      "2740.0 C\n",
      "2745.0 C\n",
      "2750.0 C\n",
      "2755.0 C\n",
      "2760.0 C\n",
      "2765.0 C\n",
      "2770.0 C\n",
      "2775.0 C\n",
      "2780.0 C\n",
      "2785.0 C\n",
      "2790.0 C\n",
      "2795.0 C\n",
      "2800.0 C\n",
      "2805.0 C\n",
      "2810.0 C\n",
      "2815.0 C\n",
      "2820.0 C\n",
      "2825.0 C\n",
      "2830.0 C\n",
      "2835.0 C\n",
      "2840.0 C\n",
      "2845.0 C\n",
      "2850.0 C\n",
      "2855.0 C\n",
      "2860.0 C\n",
      "2865.0 C\n",
      "2870.0 C\n",
      "2875.0 C\n",
      "2880.0 C\n",
      "2885.0 C\n",
      "2890.0 C\n",
      "2895.0 C\n",
      "2900.0 C\n",
      "2905.0 C\n",
      "2910.0 C\n",
      "2915.0 C\n",
      "2920.0 C\n",
      "2925.0 C\n",
      "2930.0 C\n",
      "2935.0 C\n",
      "2940.0 C\n",
      "2945.0 C\n",
      "2950.0 C\n",
      "2955.0 C\n",
      "2960.0 C\n",
      "2965.0 C\n",
      "2970.0 C\n",
      "2975.0 C\n",
      "2980.0 C\n",
      "2985.0 C\n",
      "2990.0 C\n",
      "2995.0 C\n",
      "3000.0 C\n",
      "3005.0 C\n",
      "3010.0 C\n",
      "3015.0 C\n",
      "3020.0 C\n",
      "3025.0 C\n",
      "3030.0 C\n",
      "3035.0 C\n",
      "3040.0 C\n",
      "3045.0 C\n",
      "3050.0 C\n",
      "3055.0 C\n",
      "3060.0 C\n",
      "3065.0 C\n",
      "3070.0 C\n",
      "3075.0 C\n",
      "3080.0 C\n",
      "3085.0 C\n",
      "3090.0 C\n",
      "3095.0 C\n",
      "3100.0 C\n",
      "3105.0 C\n",
      "3110.0 C\n",
      "3115.0 C\n",
      "3120.0 C\n",
      "3125.0 C\n",
      "3130.0 C\n",
      "3135.0 C\n",
      "3140.0 C\n",
      "3145.0 C\n",
      "3150.0 C\n",
      "3160.0 C\n",
      "3170.0 C\n",
      "3175.0 C\n",
      "3180.0 C\n",
      "3190.0 C\n",
      "3200.0 C\n",
      "3210.0 C\n",
      "3220.0 C\n",
      "3225.0 C\n",
      "3250.0 C\n",
      "3275.0 C\n",
      "3300.0 C\n",
      "3350.0 C\n",
      "3400.0 C\n",
      "3500.0 C\n",
      "3600.0 C\n",
      "3700.0 C\n",
      "3800.0 C\n",
      "3900.0 C\n",
      "4000.0 C\n",
      "4100.0 C\n"
     ]
    },
    {
     "name": "stderr",
     "output_type": "stream",
     "text": [
      "Error 200, reqId 690: No security definition has been found for the request, contract: Contract(secType='OPT', symbol='SPX', lastTradeDateOrContractMonth='20190117', strike=4100.0, right='C', exchange='SMART')\n",
      "Unknown contract: Contract(secType='OPT', symbol='SPX', lastTradeDateOrContractMonth='20190117', strike=4100.0, right='C', exchange='SMART')\n"
     ]
    },
    {
     "name": "stdout",
     "output_type": "stream",
     "text": [
      "4200.0 C\n"
     ]
    },
    {
     "name": "stderr",
     "output_type": "stream",
     "text": [
      "Error 200, reqId 691: No security definition has been found for the request, contract: Contract(secType='OPT', symbol='SPX', lastTradeDateOrContractMonth='20190117', strike=4200.0, right='C', exchange='SMART')\n",
      "Unknown contract: Contract(secType='OPT', symbol='SPX', lastTradeDateOrContractMonth='20190117', strike=4200.0, right='C', exchange='SMART')\n"
     ]
    }
   ],
   "source": [
    "for c in contracts:\n",
    "    print (c.strike,c.right)\n",
    "    ib.qualifyContracts(c)\n",
    "    time.sleep(0.1)"
   ]
  },
  {
   "cell_type": "code",
   "execution_count": 209,
   "metadata": {},
   "outputs": [
    {
     "data": {
      "text/plain": [
       "[Ticker(contract=Index(conId=416904, symbol='SPX', exchange='CBOE', currency='USD', localSymbol='SPX'), time=datetime.datetime(2018, 12, 19, 22, 58, 25, 917836, tzinfo=datetime.timezone.utc), bid=-1.0, bidSize=0, ask=-1.0, askSize=0, last=2506.87, lastSize=0, high=2585.29, low=2488.96, ticks=[], tickByTicks=[], domBids=[], domAsks=[], domTicks=[])]"
      ]
     },
     "execution_count": 209,
     "metadata": {},
     "output_type": "execute_result"
    }
   ],
   "source": [
    "ib.tickers()"
   ]
  },
  {
   "cell_type": "code",
   "execution_count": 220,
   "metadata": {},
   "outputs": [
    {
     "ename": "KeyboardInterrupt",
     "evalue": "",
     "output_type": "error",
     "traceback": [
      "\u001b[0;31m---------------------------------------------------------------------------\u001b[0m",
      "\u001b[0;31mKeyboardInterrupt\u001b[0m                         Traceback (most recent call last)",
      "\u001b[0;32m<ipython-input-220-645bcdf8a5d7>\u001b[0m in \u001b[0;36m<module>\u001b[0;34m()\u001b[0m\n\u001b[1;32m      1\u001b[0m \u001b[0;32mfor\u001b[0m \u001b[0mcontract\u001b[0m \u001b[0;32min\u001b[0m \u001b[0mcontracts\u001b[0m\u001b[0;34m:\u001b[0m\u001b[0;34m\u001b[0m\u001b[0m\n\u001b[1;32m      2\u001b[0m     \u001b[0mib\u001b[0m\u001b[0;34m.\u001b[0m\u001b[0mreqMktData\u001b[0m\u001b[0;34m(\u001b[0m\u001b[0mcontract\u001b[0m\u001b[0;34m,\u001b[0m \u001b[0;34m''\u001b[0m\u001b[0;34m,\u001b[0m \u001b[0;32mFalse\u001b[0m\u001b[0;34m,\u001b[0m \u001b[0;32mFalse\u001b[0m\u001b[0;34m)\u001b[0m\u001b[0;34m\u001b[0m\u001b[0m\n\u001b[0;32m----> 3\u001b[0;31m     \u001b[0mtime\u001b[0m\u001b[0;34m.\u001b[0m\u001b[0msleep\u001b[0m\u001b[0;34m(\u001b[0m\u001b[0;36m0.1\u001b[0m\u001b[0;34m)\u001b[0m\u001b[0;34m\u001b[0m\u001b[0m\n\u001b[0m",
      "\u001b[0;31mKeyboardInterrupt\u001b[0m: "
     ]
    },
    {
     "name": "stderr",
     "output_type": "stream",
     "text": [
      "Error 200, reqId 1344: No security definition has been found for the request, contract: Contract(secType='OPT', symbol='SPX', lastTradeDateOrContractMonth='20190117', strike=100.0, right='P', exchange='SMART')\n",
      "Error 200, reqId 1345: No security definition has been found for the request, contract: Contract(secType='OPT', symbol='SPX', lastTradeDateOrContractMonth='20190117', strike=200.0, right='P', exchange='SMART')\n",
      "Error 200, reqId 1346: No security definition has been found for the request, contract: Contract(secType='OPT', symbol='SPX', lastTradeDateOrContractMonth='20190117', strike=250.0, right='P', exchange='SMART')\n",
      "Error 200, reqId 1347: No security definition has been found for the request, contract: Contract(secType='OPT', symbol='SPX', lastTradeDateOrContractMonth='20190117', strike=300.0, right='P', exchange='SMART')\n",
      "Error 200, reqId 1348: No security definition has been found for the request, contract: Contract(secType='OPT', symbol='SPX', lastTradeDateOrContractMonth='20190117', strike=400.0, right='P', exchange='SMART')\n",
      "Error 200, reqId 1349: No security definition has been found for the request, contract: Contract(secType='OPT', symbol='SPX', lastTradeDateOrContractMonth='20190117', strike=500.0, right='P', exchange='SMART')\n",
      "Error 200, reqId 1350: No security definition has been found for the request, contract: Contract(secType='OPT', symbol='SPX', lastTradeDateOrContractMonth='20190117', strike=550.0, right='P', exchange='SMART')\n",
      "Error 200, reqId 1351: No security definition has been found for the request, contract: Contract(secType='OPT', symbol='SPX', lastTradeDateOrContractMonth='20190117', strike=600.0, right='P', exchange='SMART')\n",
      "Error 200, reqId 1352: No security definition has been found for the request, contract: Contract(secType='OPT', symbol='SPX', lastTradeDateOrContractMonth='20190117', strike=650.0, right='P', exchange='SMART')\n",
      "Error 200, reqId 1353: No security definition has been found for the request, contract: Contract(secType='OPT', symbol='SPX', lastTradeDateOrContractMonth='20190117', strike=700.0, right='P', exchange='SMART')\n",
      "Error 200, reqId 1356: No security definition has been found for the request, contract: Contract(secType='OPT', symbol='SPX', lastTradeDateOrContractMonth='20190117', strike=825.0, right='P', exchange='SMART')\n",
      "Error 10090, reqId 1354: Part of requested market data is not subscribed. Subscription-independent ticks are still active.Delayed market data is available.SPX S&P 500 Stock Index/TOP/ALL, contract: Contract(secType='OPT', conId=346047573, symbol='SPX', lastTradeDateOrContractMonth='20190117', strike=750.0, right='P', multiplier='100', exchange='SMART', currency='USD', localSymbol='SPX   190118P00750000', tradingClass='SPX')\n",
      "Error 10090, reqId 1355: Part of requested market data is not subscribed. Subscription-independent ticks are still active.Delayed market data is available.SPX S&P 500 Stock Index/TOP/ALL, contract: Contract(secType='OPT', conId=345951647, symbol='SPX', lastTradeDateOrContractMonth='20190117', strike=800.0, right='P', multiplier='100', exchange='SMART', currency='USD', localSymbol='SPX   190118P00800000', tradingClass='SPX')\n",
      "Error 10090, reqId 1357: Part of requested market data is not subscribed. Subscription-independent ticks are still active.Delayed market data is available.SPX S&P 500 Stock Index/TOP/ALL, contract: Contract(secType='OPT', conId=345951654, symbol='SPX', lastTradeDateOrContractMonth='20190117', strike=850.0, right='P', multiplier='100', exchange='SMART', currency='USD', localSymbol='SPX   190118P00850000', tradingClass='SPX')\n",
      "Error 10090, reqId 1359: Part of requested market data is not subscribed. Subscription-independent ticks are still active.Delayed market data is available.SPX S&P 500 Stock Index/TOP/ALL, contract: Contract(secType='OPT', conId=345951657, symbol='SPX', lastTradeDateOrContractMonth='20190117', strike=900.0, right='P', multiplier='100', exchange='SMART', currency='USD', localSymbol='SPX   190118P00900000', tradingClass='SPX')\n",
      "Error 10090, reqId 1361: Part of requested market data is not subscribed. Subscription-independent ticks are still active.Delayed market data is available.SPX S&P 500 Stock Index/TOP/ALL, contract: Contract(secType='OPT', conId=345951666, symbol='SPX', lastTradeDateOrContractMonth='20190117', strike=950.0, right='P', multiplier='100', exchange='SMART', currency='USD', localSymbol='SPX   190118P00950000', tradingClass='SPX')\n",
      "Error 10090, reqId 1363: Part of requested market data is not subscribed. Subscription-independent ticks are still active.Delayed market data is available.SPX S&P 500 Stock Index/TOP/ALL, contract: Contract(secType='OPT', conId=328546355, symbol='SPX', lastTradeDateOrContractMonth='20190117', strike=1000.0, right='P', multiplier='100', exchange='SMART', currency='USD', localSymbol='SPX   190118P01000000', tradingClass='SPX')\n",
      "Error 10090, reqId 1364: Part of requested market data is not subscribed. Subscription-independent ticks are still active.Delayed market data is available.SPX S&P 500 Stock Index/TOP/ALL, contract: Contract(secType='OPT', conId=346047553, symbol='SPX', lastTradeDateOrContractMonth='20190117', strike=1025.0, right='P', multiplier='100', exchange='SMART', currency='USD', localSymbol='SPX   190118P01025000', tradingClass='SPX')\n",
      "Error 200, reqId 1358: No security definition has been found for the request, contract: Contract(secType='OPT', symbol='SPX', lastTradeDateOrContractMonth='20190117', strike=875.0, right='P', exchange='SMART')\n",
      "Error 200, reqId 1360: No security definition has been found for the request, contract: Contract(secType='OPT', symbol='SPX', lastTradeDateOrContractMonth='20190117', strike=925.0, right='P', exchange='SMART')\n",
      "Error 200, reqId 1362: No security definition has been found for the request, contract: Contract(secType='OPT', symbol='SPX', lastTradeDateOrContractMonth='20190117', strike=975.0, right='P', exchange='SMART')\n",
      "Error 10090, reqId 1367: Part of requested market data is not subscribed. Subscription-independent ticks are still active.Delayed market data is available.SPX S&P 500 Stock Index/TOP/ALL, contract: Contract(secType='OPT', conId=290075911, symbol='SPX', lastTradeDateOrContractMonth='20190117', strike=1100.0, right='P', multiplier='100', exchange='SMART', currency='USD', localSymbol='SPX   190118P01100000', tradingClass='SPX')\n",
      "Error 10090, reqId 1368: Part of requested market data is not subscribed. Subscription-independent ticks are still active.Delayed market data is available.SPX S&P 500 Stock Index/TOP/ALL, contract: Contract(secType='OPT', conId=346047563, symbol='SPX', lastTradeDateOrContractMonth='20190117', strike=1125.0, right='P', multiplier='100', exchange='SMART', currency='USD', localSymbol='SPX   190118P01125000', tradingClass='SPX')\n",
      "Error 10090, reqId 1369: Part of requested market data is not subscribed. Subscription-independent ticks are still active.Delayed market data is available.SPX S&P 500 Stock Index/TOP/ALL, contract: Contract(secType='OPT', conId=290075912, symbol='SPX', lastTradeDateOrContractMonth='20190117', strike=1150.0, right='P', multiplier='100', exchange='SMART', currency='USD', localSymbol='SPX   190118P01150000', tradingClass='SPX')\n",
      "Error 10090, reqId 1370: Part of requested market data is not subscribed. Subscription-independent ticks are still active.Delayed market data is available.SPX S&P 500 Stock Index/TOP/ALL, contract: Contract(secType='OPT', conId=346047566, symbol='SPX', lastTradeDateOrContractMonth='20190117', strike=1175.0, right='P', multiplier='100', exchange='SMART', currency='USD', localSymbol='SPX   190118P01175000', tradingClass='SPX')\n",
      "Error 10090, reqId 1371: Part of requested market data is not subscribed. Subscription-independent ticks are still active.Delayed market data is available.SPX S&P 500 Stock Index/TOP/ALL, contract: Contract(secType='OPT', conId=290075917, symbol='SPX', lastTradeDateOrContractMonth='20190117', strike=1200.0, right='P', multiplier='100', exchange='SMART', currency='USD', localSymbol='SPX   190118P01200000', tradingClass='SPX')\n",
      "Error 10090, reqId 1372: Part of requested market data is not subscribed. Subscription-independent ticks are still active.Delayed market data is available.SPX S&P 500 Stock Index/TOP/ALL, contract: Contract(secType='OPT', conId=346047568, symbol='SPX', lastTradeDateOrContractMonth='20190117', strike=1225.0, right='P', multiplier='100', exchange='SMART', currency='USD', localSymbol='SPX   190118P01225000', tradingClass='SPX')\n"
     ]
    },
    {
     "name": "stderr",
     "output_type": "stream",
     "text": [
      "Error 10090, reqId 1365: Part of requested market data is not subscribed. Subscription-independent ticks are still active.Delayed market data is available.SPX S&P 500 Stock Index/TOP/ALL, contract: Contract(secType='OPT', conId=345951637, symbol='SPX', lastTradeDateOrContractMonth='20190117', strike=1050.0, right='P', multiplier='100', exchange='SMART', currency='USD', localSymbol='SPX   190118P01050000', tradingClass='SPX')\n",
      "Error 10090, reqId 1366: Part of requested market data is not subscribed. Subscription-independent ticks are still active.Delayed market data is available.SPX S&P 500 Stock Index/TOP/ALL, contract: Contract(secType='OPT', conId=346047556, symbol='SPX', lastTradeDateOrContractMonth='20190117', strike=1075.0, right='P', multiplier='100', exchange='SMART', currency='USD', localSymbol='SPX   190118P01075000', tradingClass='SPX')\n",
      "Error 10090, reqId 1373: Part of requested market data is not subscribed. Subscription-independent ticks are still active.Delayed market data is available.SPX S&P 500 Stock Index/TOP/ALL, contract: Contract(secType='OPT', conId=290075923, symbol='SPX', lastTradeDateOrContractMonth='20190117', strike=1250.0, right='P', multiplier='100', exchange='SMART', currency='USD', localSymbol='SPX   190118P01250000', tradingClass='SPX')\n",
      "Error 10090, reqId 1374: Part of requested market data is not subscribed. Subscription-independent ticks are still active.Delayed market data is available.SPX S&P 500 Stock Index/TOP/ALL, contract: Contract(secType='OPT', conId=290075926, symbol='SPX', lastTradeDateOrContractMonth='20190117', strike=1275.0, right='P', multiplier='100', exchange='SMART', currency='USD', localSymbol='SPX   190118P01275000', tradingClass='SPX')\n",
      "Error 10090, reqId 1375: Part of requested market data is not subscribed. Subscription-independent ticks are still active.Delayed market data is available.SPX S&P 500 Stock Index/TOP/ALL, contract: Contract(secType='OPT', conId=290075929, symbol='SPX', lastTradeDateOrContractMonth='20190117', strike=1300.0, right='P', multiplier='100', exchange='SMART', currency='USD', localSymbol='SPX   190118P01300000', tradingClass='SPX')\n",
      "Error 10090, reqId 1376: Part of requested market data is not subscribed. Subscription-independent ticks are still active.Delayed market data is available.SPX S&P 500 Stock Index/TOP/ALL, contract: Contract(secType='OPT', conId=290075932, symbol='SPX', lastTradeDateOrContractMonth='20190117', strike=1325.0, right='P', multiplier='100', exchange='SMART', currency='USD', localSymbol='SPX   190118P01325000', tradingClass='SPX')\n",
      "Error 10090, reqId 1377: Part of requested market data is not subscribed. Subscription-independent ticks are still active.Delayed market data is available.SPX S&P 500 Stock Index/TOP/ALL, contract: Contract(secType='OPT', conId=290075936, symbol='SPX', lastTradeDateOrContractMonth='20190117', strike=1350.0, right='P', multiplier='100', exchange='SMART', currency='USD', localSymbol='SPX   190118P01350000', tradingClass='SPX')\n",
      "Error 10090, reqId 1378: Part of requested market data is not subscribed. Subscription-independent ticks are still active.Delayed market data is available.SPX S&P 500 Stock Index/TOP/ALL, contract: Contract(secType='OPT', conId=290075941, symbol='SPX', lastTradeDateOrContractMonth='20190117', strike=1375.0, right='P', multiplier='100', exchange='SMART', currency='USD', localSymbol='SPX   190118P01375000', tradingClass='SPX')\n",
      "Error 10090, reqId 1379: Part of requested market data is not subscribed. Subscription-independent ticks are still active.Delayed market data is available.SPX S&P 500 Stock Index/TOP/ALL, contract: Contract(secType='OPT', conId=290075946, symbol='SPX', lastTradeDateOrContractMonth='20190117', strike=1400.0, right='P', multiplier='100', exchange='SMART', currency='USD', localSymbol='SPX   190118P01400000', tradingClass='SPX')\n",
      "Error 10090, reqId 1380: Part of requested market data is not subscribed. Subscription-independent ticks are still active.Delayed market data is available.SPX S&P 500 Stock Index/TOP/ALL, contract: Contract(secType='OPT', conId=290075951, symbol='SPX', lastTradeDateOrContractMonth='20190117', strike=1425.0, right='P', multiplier='100', exchange='SMART', currency='USD', localSymbol='SPX   190118P01425000', tradingClass='SPX')\n",
      "Error 10090, reqId 1381: Part of requested market data is not subscribed. Subscription-independent ticks are still active.Delayed market data is available.SPX S&P 500 Stock Index/TOP/ALL, contract: Contract(secType='OPT', conId=290075953, symbol='SPX', lastTradeDateOrContractMonth='20190117', strike=1450.0, right='P', multiplier='100', exchange='SMART', currency='USD', localSymbol='SPX   190118P01450000', tradingClass='SPX')\n",
      "Error 10090, reqId 1382: Part of requested market data is not subscribed. Subscription-independent ticks are still active.Delayed market data is available.SPX S&P 500 Stock Index/TOP/ALL, contract: Contract(secType='OPT', conId=290075956, symbol='SPX', lastTradeDateOrContractMonth='20190117', strike=1475.0, right='P', multiplier='100', exchange='SMART', currency='USD', localSymbol='SPX   190118P01475000', tradingClass='SPX')\n",
      "Error 10090, reqId 1383: Part of requested market data is not subscribed. Subscription-independent ticks are still active.Delayed market data is available.SPX S&P 500 Stock Index/TOP/ALL, contract: Contract(secType='OPT', conId=290075963, symbol='SPX', lastTradeDateOrContractMonth='20190117', strike=1500.0, right='P', multiplier='100', exchange='SMART', currency='USD', localSymbol='SPX   190118P01500000', tradingClass='SPX')\n",
      "Error 10090, reqId 1384: Part of requested market data is not subscribed. Subscription-independent ticks are still active.Delayed market data is available.SPX S&P 500 Stock Index/TOP/ALL, contract: Contract(secType='OPT', conId=290075966, symbol='SPX', lastTradeDateOrContractMonth='20190117', strike=1525.0, right='P', multiplier='100', exchange='SMART', currency='USD', localSymbol='SPX   190118P01525000', tradingClass='SPX')\n",
      "Error 10090, reqId 1385: Part of requested market data is not subscribed. Subscription-independent ticks are still active.Delayed market data is available.SPX S&P 500 Stock Index/TOP/ALL, contract: Contract(secType='OPT', conId=290075971, symbol='SPX', lastTradeDateOrContractMonth='20190117', strike=1550.0, right='P', multiplier='100', exchange='SMART', currency='USD', localSymbol='SPX   190118P01550000', tradingClass='SPX')\n",
      "Error 10090, reqId 1386: Part of requested market data is not subscribed. Subscription-independent ticks are still active.Delayed market data is available.SPX S&P 500 Stock Index/TOP/ALL, contract: Contract(secType='OPT', conId=290075974, symbol='SPX', lastTradeDateOrContractMonth='20190117', strike=1575.0, right='P', multiplier='100', exchange='SMART', currency='USD', localSymbol='SPX   190118P01575000', tradingClass='SPX')\n",
      "Error 10090, reqId 1387: Part of requested market data is not subscribed. Subscription-independent ticks are still active.Delayed market data is available.SPX S&P 500 Stock Index/TOP/ALL, contract: Contract(secType='OPT', conId=290075977, symbol='SPX', lastTradeDateOrContractMonth='20190117', strike=1600.0, right='P', multiplier='100', exchange='SMART', currency='USD', localSymbol='SPX   190118P01600000', tradingClass='SPX')\n",
      "Error 10090, reqId 1388: Part of requested market data is not subscribed. Subscription-independent ticks are still active.Delayed market data is available.SPX S&P 500 Stock Index/TOP/ALL, contract: Contract(secType='OPT', conId=290075980, symbol='SPX', lastTradeDateOrContractMonth='20190117', strike=1625.0, right='P', multiplier='100', exchange='SMART', currency='USD', localSymbol='SPX   190118P01625000', tradingClass='SPX')\n",
      "Error 10090, reqId 1389: Part of requested market data is not subscribed. Subscription-independent ticks are still active.Delayed market data is available.SPX S&P 500 Stock Index/TOP/ALL, contract: Contract(secType='OPT', conId=290075986, symbol='SPX', lastTradeDateOrContractMonth='20190117', strike=1650.0, right='P', multiplier='100', exchange='SMART', currency='USD', localSymbol='SPX   190118P01650000', tradingClass='SPX')\n",
      "Error 10090, reqId 1390: Part of requested market data is not subscribed. Subscription-independent ticks are still active.Delayed market data is available.SPX S&P 500 Stock Index/TOP/ALL, contract: Contract(secType='OPT', conId=290075991, symbol='SPX', lastTradeDateOrContractMonth='20190117', strike=1675.0, right='P', multiplier='100', exchange='SMART', currency='USD', localSymbol='SPX   190118P01675000', tradingClass='SPX')\n"
     ]
    },
    {
     "name": "stderr",
     "output_type": "stream",
     "text": [
      "Error 10090, reqId 1391: Part of requested market data is not subscribed. Subscription-independent ticks are still active.Delayed market data is available.SPX S&P 500 Stock Index/TOP/ALL, contract: Contract(secType='OPT', conId=290075992, symbol='SPX', lastTradeDateOrContractMonth='20190117', strike=1700.0, right='P', multiplier='100', exchange='SMART', currency='USD', localSymbol='SPX   190118P01700000', tradingClass='SPX')\n",
      "Error 10090, reqId 1392: Part of requested market data is not subscribed. Subscription-independent ticks are still active.Delayed market data is available.SPX S&P 500 Stock Index/TOP/ALL, contract: Contract(secType='OPT', conId=290075997, symbol='SPX', lastTradeDateOrContractMonth='20190117', strike=1725.0, right='P', multiplier='100', exchange='SMART', currency='USD', localSymbol='SPX   190118P01725000', tradingClass='SPX')\n",
      "Error 10090, reqId 1393: Part of requested market data is not subscribed. Subscription-independent ticks are still active.Delayed market data is available.SPX S&P 500 Stock Index/TOP/ALL, contract: Contract(secType='OPT', conId=290076001, symbol='SPX', lastTradeDateOrContractMonth='20190117', strike=1750.0, right='P', multiplier='100', exchange='SMART', currency='USD', localSymbol='SPX   190118P01750000', tradingClass='SPX')\n",
      "Error 200, reqId 1395: No security definition has been found for the request, contract: Contract(secType='OPT', symbol='SPX', lastTradeDateOrContractMonth='20190117', strike=1790.0, right='P', exchange='SMART')\n",
      "Error 200, reqId 1397: No security definition has been found for the request, contract: Contract(secType='OPT', symbol='SPX', lastTradeDateOrContractMonth='20190117', strike=1810.0, right='P', exchange='SMART')\n",
      "Error 200, reqId 1398: No security definition has been found for the request, contract: Contract(secType='OPT', symbol='SPX', lastTradeDateOrContractMonth='20190117', strike=1820.0, right='P', exchange='SMART')\n",
      "Error 10090, reqId 1394: Part of requested market data is not subscribed. Subscription-independent ticks are still active.Delayed market data is available.SPX S&P 500 Stock Index/TOP/ALL, contract: Contract(secType='OPT', conId=290076004, symbol='SPX', lastTradeDateOrContractMonth='20190117', strike=1775.0, right='P', multiplier='100', exchange='SMART', currency='USD', localSymbol='SPX   190118P01775000', tradingClass='SPX')\n",
      "Error 10090, reqId 1396: Part of requested market data is not subscribed. Subscription-independent ticks are still active.Delayed market data is available.SPX S&P 500 Stock Index/TOP/ALL, contract: Contract(secType='OPT', conId=290076011, symbol='SPX', lastTradeDateOrContractMonth='20190117', strike=1800.0, right='P', multiplier='100', exchange='SMART', currency='USD', localSymbol='SPX   190118P01800000', tradingClass='SPX')\n",
      "Error 10090, reqId 1399: Part of requested market data is not subscribed. Subscription-independent ticks are still active.Delayed market data is available.SPX S&P 500 Stock Index/TOP/ALL, contract: Contract(secType='OPT', conId=290076014, symbol='SPX', lastTradeDateOrContractMonth='20190117', strike=1825.0, right='P', multiplier='100', exchange='SMART', currency='USD', localSymbol='SPX   190118P01825000', tradingClass='SPX')\n",
      "Error 10090, reqId 1401: Part of requested market data is not subscribed. Subscription-independent ticks are still active.Delayed market data is available.SPX S&P 500 Stock Index/TOP/ALL, contract: Contract(secType='OPT', conId=345324022, symbol='SPX', lastTradeDateOrContractMonth='20190117', strike=1840.0, right='P', multiplier='100', exchange='SMART', currency='USD', localSymbol='SPX   190118P01840000', tradingClass='SPX')\n",
      "Error 10090, reqId 1402: Part of requested market data is not subscribed. Subscription-independent ticks are still active.Delayed market data is available.SPX S&P 500 Stock Index/TOP/ALL, contract: Contract(secType='OPT', conId=290076016, symbol='SPX', lastTradeDateOrContractMonth='20190117', strike=1850.0, right='P', multiplier='100', exchange='SMART', currency='USD', localSymbol='SPX   190118P01850000', tradingClass='SPX')\n",
      "Error 10090, reqId 1403: Part of requested market data is not subscribed. Subscription-independent ticks are still active.Delayed market data is available.SPX S&P 500 Stock Index/TOP/ALL, contract: Contract(secType='OPT', conId=339681961, symbol='SPX', lastTradeDateOrContractMonth='20190117', strike=1860.0, right='P', multiplier='100', exchange='SMART', currency='USD', localSymbol='SPX   190118P01860000', tradingClass='SPX')\n",
      "Error 10090, reqId 1404: Part of requested market data is not subscribed. Subscription-independent ticks are still active.Delayed market data is available.SPX S&P 500 Stock Index/TOP/ALL, contract: Contract(secType='OPT', conId=339681975, symbol='SPX', lastTradeDateOrContractMonth='20190117', strike=1870.0, right='P', multiplier='100', exchange='SMART', currency='USD', localSymbol='SPX   190118P01870000', tradingClass='SPX')\n",
      "Error 200, reqId 1400: No security definition has been found for the request, contract: Contract(secType='OPT', symbol='SPX', lastTradeDateOrContractMonth='20190117', strike=1830.0, right='P', exchange='SMART')\n",
      "Error 10090, reqId 1405: Part of requested market data is not subscribed. Subscription-independent ticks are still active.Delayed market data is available.SPX S&P 500 Stock Index/TOP/ALL, contract: Contract(secType='OPT', conId=290076021, symbol='SPX', lastTradeDateOrContractMonth='20190117', strike=1875.0, right='P', multiplier='100', exchange='SMART', currency='USD', localSymbol='SPX   190118P01875000', tradingClass='SPX')\n",
      "Error 10090, reqId 1406: Part of requested market data is not subscribed. Subscription-independent ticks are still active.Delayed market data is available.SPX S&P 500 Stock Index/TOP/ALL, contract: Contract(secType='OPT', conId=339681976, symbol='SPX', lastTradeDateOrContractMonth='20190117', strike=1880.0, right='P', multiplier='100', exchange='SMART', currency='USD', localSymbol='SPX   190118P01880000', tradingClass='SPX')\n",
      "Error 10090, reqId 1407: Part of requested market data is not subscribed. Subscription-independent ticks are still active.Delayed market data is available.SPX S&P 500 Stock Index/TOP/ALL, contract: Contract(secType='OPT', conId=339299375, symbol='SPX', lastTradeDateOrContractMonth='20190117', strike=1890.0, right='P', multiplier='100', exchange='SMART', currency='USD', localSymbol='SPX   190118P01890000', tradingClass='SPX')\n",
      "Error 10090, reqId 1408: Part of requested market data is not subscribed. Subscription-independent ticks are still active.Delayed market data is available.SPX S&P 500 Stock Index/TOP/ALL, contract: Contract(secType='OPT', conId=290076026, symbol='SPX', lastTradeDateOrContractMonth='20190117', strike=1900.0, right='P', multiplier='100', exchange='SMART', currency='USD', localSymbol='SPX   190118P01900000', tradingClass='SPX')\n",
      "Error 10090, reqId 1409: Part of requested market data is not subscribed. Subscription-independent ticks are still active.Delayed market data is available.SPX S&P 500 Stock Index/TOP/ALL, contract: Contract(secType='OPT', conId=337284171, symbol='SPX', lastTradeDateOrContractMonth='20190117', strike=1910.0, right='P', multiplier='100', exchange='SMART', currency='USD', localSymbol='SPX   190118P01910000', tradingClass='SPX')\n",
      "Error 10090, reqId 1410: Part of requested market data is not subscribed. Subscription-independent ticks are still active.Delayed market data is available.SPX S&P 500 Stock Index/TOP/ALL, contract: Contract(secType='OPT', conId=337284181, symbol='SPX', lastTradeDateOrContractMonth='20190117', strike=1920.0, right='P', multiplier='100', exchange='SMART', currency='USD', localSymbol='SPX   190118P01920000', tradingClass='SPX')\n",
      "Error 10090, reqId 1411: Part of requested market data is not subscribed. Subscription-independent ticks are still active.Delayed market data is available.SPX S&P 500 Stock Index/TOP/ALL, contract: Contract(secType='OPT', conId=290076031, symbol='SPX', lastTradeDateOrContractMonth='20190117', strike=1925.0, right='P', multiplier='100', exchange='SMART', currency='USD', localSymbol='SPX   190118P01925000', tradingClass='SPX')\n",
      "Error 10090, reqId 1412: Part of requested market data is not subscribed. Subscription-independent ticks are still active.Delayed market data is available.SPX S&P 500 Stock Index/TOP/ALL, contract: Contract(secType='OPT', conId=337284191, symbol='SPX', lastTradeDateOrContractMonth='20190117', strike=1930.0, right='P', multiplier='100', exchange='SMART', currency='USD', localSymbol='SPX   190118P01930000', tradingClass='SPX')\n"
     ]
    },
    {
     "name": "stderr",
     "output_type": "stream",
     "text": [
      "Error 10090, reqId 1413: Part of requested market data is not subscribed. Subscription-independent ticks are still active.Delayed market data is available.SPX S&P 500 Stock Index/TOP/ALL, contract: Contract(secType='OPT', conId=337284195, symbol='SPX', lastTradeDateOrContractMonth='20190117', strike=1940.0, right='P', multiplier='100', exchange='SMART', currency='USD', localSymbol='SPX   190118P01940000', tradingClass='SPX')\n",
      "Error 10090, reqId 1414: Part of requested market data is not subscribed. Subscription-independent ticks are still active.Delayed market data is available.SPX S&P 500 Stock Index/TOP/ALL, contract: Contract(secType='OPT', conId=290076032, symbol='SPX', lastTradeDateOrContractMonth='20190117', strike=1950.0, right='P', multiplier='100', exchange='SMART', currency='USD', localSymbol='SPX   190118P01950000', tradingClass='SPX')\n",
      "Error 10090, reqId 1415: Part of requested market data is not subscribed. Subscription-independent ticks are still active.Delayed market data is available.SPX S&P 500 Stock Index/TOP/ALL, contract: Contract(secType='OPT', conId=336948293, symbol='SPX', lastTradeDateOrContractMonth='20190117', strike=1960.0, right='P', multiplier='100', exchange='SMART', currency='USD', localSymbol='SPX   190118P01960000', tradingClass='SPX')\n",
      "Error 10090, reqId 1416: Part of requested market data is not subscribed. Subscription-independent ticks are still active.Delayed market data is available.SPX S&P 500 Stock Index/TOP/ALL, contract: Contract(secType='OPT', conId=336948303, symbol='SPX', lastTradeDateOrContractMonth='20190117', strike=1970.0, right='P', multiplier='100', exchange='SMART', currency='USD', localSymbol='SPX   190118P01970000', tradingClass='SPX')\n",
      "Error 10090, reqId 1417: Part of requested market data is not subscribed. Subscription-independent ticks are still active.Delayed market data is available.SPX S&P 500 Stock Index/TOP/ALL, contract: Contract(secType='OPT', conId=290076037, symbol='SPX', lastTradeDateOrContractMonth='20190117', strike=1975.0, right='P', multiplier='100', exchange='SMART', currency='USD', localSymbol='SPX   190118P01975000', tradingClass='SPX')\n",
      "Error 10090, reqId 1420: Part of requested market data is not subscribed. Subscription-independent ticks are still active.Delayed market data is available.SPX S&P 500 Stock Index/TOP/ALL, contract: Contract(secType='OPT', conId=290076042, symbol='SPX', lastTradeDateOrContractMonth='20190117', strike=2000.0, right='P', multiplier='100', exchange='SMART', currency='USD', localSymbol='SPX   190118P02000000', tradingClass='SPX')\n",
      "Error 10090, reqId 1421: Part of requested market data is not subscribed. Subscription-independent ticks are still active.Delayed market data is available.SPX S&P 500 Stock Index/TOP/ALL, contract: Contract(secType='OPT', conId=336948322, symbol='SPX', lastTradeDateOrContractMonth='20190117', strike=2010.0, right='P', multiplier='100', exchange='SMART', currency='USD', localSymbol='SPX   190118P02010000', tradingClass='SPX')\n",
      "Error 10090, reqId 1422: Part of requested market data is not subscribed. Subscription-independent ticks are still active.Delayed market data is available.SPX S&P 500 Stock Index/TOP/ALL, contract: Contract(secType='OPT', conId=336385816, symbol='SPX', lastTradeDateOrContractMonth='20190117', strike=2020.0, right='P', multiplier='100', exchange='SMART', currency='USD', localSymbol='SPX   190118P02020000', tradingClass='SPX')\n",
      "Error 10090, reqId 1423: Part of requested market data is not subscribed. Subscription-independent ticks are still active.Delayed market data is available.SPX S&P 500 Stock Index/TOP/ALL, contract: Contract(secType='OPT', conId=290076047, symbol='SPX', lastTradeDateOrContractMonth='20190117', strike=2025.0, right='P', multiplier='100', exchange='SMART', currency='USD', localSymbol='SPX   190118P02025000', tradingClass='SPX')\n",
      "Error 10090, reqId 1424: Part of requested market data is not subscribed. Subscription-independent ticks are still active.Delayed market data is available.SPX S&P 500 Stock Index/TOP/ALL, contract: Contract(secType='OPT', conId=336385825, symbol='SPX', lastTradeDateOrContractMonth='20190117', strike=2030.0, right='P', multiplier='100', exchange='SMART', currency='USD', localSymbol='SPX   190118P02030000', tradingClass='SPX')\n",
      "Error 10090, reqId 1418: Part of requested market data is not subscribed. Subscription-independent ticks are still active.Delayed market data is available.SPX S&P 500 Stock Index/TOP/ALL, contract: Contract(secType='OPT', conId=336948305, symbol='SPX', lastTradeDateOrContractMonth='20190117', strike=1980.0, right='P', multiplier='100', exchange='SMART', currency='USD', localSymbol='SPX   190118P01980000', tradingClass='SPX')\n",
      "Error 10090, reqId 1419: Part of requested market data is not subscribed. Subscription-independent ticks are still active.Delayed market data is available.SPX S&P 500 Stock Index/TOP/ALL, contract: Contract(secType='OPT', conId=336948318, symbol='SPX', lastTradeDateOrContractMonth='20190117', strike=1990.0, right='P', multiplier='100', exchange='SMART', currency='USD', localSymbol='SPX   190118P01990000', tradingClass='SPX')\n",
      "Error 200, reqId 1426: No security definition has been found for the request, contract: Contract(secType='OPT', symbol='SPX', lastTradeDateOrContractMonth='20190117', strike=2045.0, right='P', exchange='SMART')\n",
      "Error 200, reqId 1428: No security definition has been found for the request, contract: Contract(secType='OPT', symbol='SPX', lastTradeDateOrContractMonth='20190117', strike=2055.0, right='P', exchange='SMART')\n",
      "Error 200, reqId 1430: No security definition has been found for the request, contract: Contract(secType='OPT', symbol='SPX', lastTradeDateOrContractMonth='20190117', strike=2065.0, right='P', exchange='SMART')\n",
      "Error 10090, reqId 1427: Part of requested market data is not subscribed. Subscription-independent ticks are still active.Delayed market data is available.SPX S&P 500 Stock Index/TOP/ALL, contract: Contract(secType='OPT', conId=290076049, symbol='SPX', lastTradeDateOrContractMonth='20190117', strike=2050.0, right='P', multiplier='100', exchange='SMART', currency='USD', localSymbol='SPX   190118P02050000', tradingClass='SPX')\n",
      "Error 10090, reqId 1425: Part of requested market data is not subscribed. Subscription-independent ticks are still active.Delayed market data is available.SPX S&P 500 Stock Index/TOP/ALL, contract: Contract(secType='OPT', conId=335313771, symbol='SPX', lastTradeDateOrContractMonth='20190117', strike=2040.0, right='P', multiplier='100', exchange='SMART', currency='USD', localSymbol='SPX   190118P02040000', tradingClass='SPX')\n",
      "Error 10090, reqId 1431: Part of requested market data is not subscribed. Subscription-independent ticks are still active.Delayed market data is available.SPX S&P 500 Stock Index/TOP/ALL, contract: Contract(secType='OPT', conId=334828130, symbol='SPX', lastTradeDateOrContractMonth='20190117', strike=2070.0, right='P', multiplier='100', exchange='SMART', currency='USD', localSymbol='SPX   190118P02070000', tradingClass='SPX')\n",
      "Error 10090, reqId 1429: Part of requested market data is not subscribed. Subscription-independent ticks are still active.Delayed market data is available.SPX S&P 500 Stock Index/TOP/ALL, contract: Contract(secType='OPT', conId=334828113, symbol='SPX', lastTradeDateOrContractMonth='20190117', strike=2060.0, right='P', multiplier='100', exchange='SMART', currency='USD', localSymbol='SPX   190118P02060000', tradingClass='SPX')\n",
      "Error 10090, reqId 1432: Part of requested market data is not subscribed. Subscription-independent ticks are still active.Delayed market data is available.SPX S&P 500 Stock Index/TOP/ALL, contract: Contract(secType='OPT', conId=290076052, symbol='SPX', lastTradeDateOrContractMonth='20190117', strike=2075.0, right='P', multiplier='100', exchange='SMART', currency='USD', localSymbol='SPX   190118P02075000', tradingClass='SPX')\n",
      "Error 10090, reqId 1433: Part of requested market data is not subscribed. Subscription-independent ticks are still active.Delayed market data is available.SPX S&P 500 Stock Index/TOP/ALL, contract: Contract(secType='OPT', conId=334828141, symbol='SPX', lastTradeDateOrContractMonth='20190117', strike=2080.0, right='P', multiplier='100', exchange='SMART', currency='USD', localSymbol='SPX   190118P02080000', tradingClass='SPX')\n"
     ]
    },
    {
     "name": "stderr",
     "output_type": "stream",
     "text": [
      "Error 200, reqId 1434: No security definition has been found for the request, contract: Contract(secType='OPT', symbol='SPX', lastTradeDateOrContractMonth='20190117', strike=2085.0, right='P', exchange='SMART')\n",
      "Error 200, reqId 1436: No security definition has been found for the request, contract: Contract(secType='OPT', symbol='SPX', lastTradeDateOrContractMonth='20190117', strike=2095.0, right='P', exchange='SMART')\n",
      "Error 10090, reqId 1435: Part of requested market data is not subscribed. Subscription-independent ticks are still active.Delayed market data is available.SPX S&P 500 Stock Index/TOP/ALL, contract: Contract(secType='OPT', conId=334828153, symbol='SPX', lastTradeDateOrContractMonth='20190117', strike=2090.0, right='P', multiplier='100', exchange='SMART', currency='USD', localSymbol='SPX   190118P02090000', tradingClass='SPX')\n",
      "Error 10090, reqId 1437: Part of requested market data is not subscribed. Subscription-independent ticks are still active.Delayed market data is available.SPX S&P 500 Stock Index/TOP/ALL, contract: Contract(secType='OPT', conId=290076059, symbol='SPX', lastTradeDateOrContractMonth='20190117', strike=2100.0, right='P', multiplier='100', exchange='SMART', currency='USD', localSymbol='SPX   190118P02100000', tradingClass='SPX')\n",
      "Error 10090, reqId 1438: Part of requested market data is not subscribed. Subscription-independent ticks are still active.Delayed market data is available.SPX S&P 500 Stock Index/TOP/ALL, contract: Contract(secType='OPT', conId=345324032, symbol='SPX', lastTradeDateOrContractMonth='20190117', strike=2105.0, right='P', multiplier='100', exchange='SMART', currency='USD', localSymbol='SPX   190118P02105000', tradingClass='SPX')\n",
      "Error 10090, reqId 1439: Part of requested market data is not subscribed. Subscription-independent ticks are still active.Delayed market data is available.SPX S&P 500 Stock Index/TOP/ALL, contract: Contract(secType='OPT', conId=334828166, symbol='SPX', lastTradeDateOrContractMonth='20190117', strike=2110.0, right='P', multiplier='100', exchange='SMART', currency='USD', localSymbol='SPX   190118P02110000', tradingClass='SPX')\n",
      "Error 10090, reqId 1440: Part of requested market data is not subscribed. Subscription-independent ticks are still active.Delayed market data is available.SPX S&P 500 Stock Index/TOP/ALL, contract: Contract(secType='OPT', conId=339858558, symbol='SPX', lastTradeDateOrContractMonth='20190117', strike=2115.0, right='P', multiplier='100', exchange='SMART', currency='USD', localSymbol='SPX   190118P02115000', tradingClass='SPX')\n",
      "Error 10090, reqId 1441: Part of requested market data is not subscribed. Subscription-independent ticks are still active.Delayed market data is available.SPX S&P 500 Stock Index/TOP/ALL, contract: Contract(secType='OPT', conId=334828178, symbol='SPX', lastTradeDateOrContractMonth='20190117', strike=2120.0, right='P', multiplier='100', exchange='SMART', currency='USD', localSymbol='SPX   190118P02120000', tradingClass='SPX')\n",
      "Error 10090, reqId 1442: Part of requested market data is not subscribed. Subscription-independent ticks are still active.Delayed market data is available.SPX S&P 500 Stock Index/TOP/ALL, contract: Contract(secType='OPT', conId=290076062, symbol='SPX', lastTradeDateOrContractMonth='20190117', strike=2125.0, right='P', multiplier='100', exchange='SMART', currency='USD', localSymbol='SPX   190118P02125000', tradingClass='SPX')\n",
      "Error 10090, reqId 1443: Part of requested market data is not subscribed. Subscription-independent ticks are still active.Delayed market data is available.SPX S&P 500 Stock Index/TOP/ALL, contract: Contract(secType='OPT', conId=334828184, symbol='SPX', lastTradeDateOrContractMonth='20190117', strike=2130.0, right='P', multiplier='100', exchange='SMART', currency='USD', localSymbol='SPX   190118P02130000', tradingClass='SPX')\n",
      "Error 10090, reqId 1444: Part of requested market data is not subscribed. Subscription-independent ticks are still active.Delayed market data is available.SPX S&P 500 Stock Index/TOP/ALL, contract: Contract(secType='OPT', conId=339681981, symbol='SPX', lastTradeDateOrContractMonth='20190117', strike=2135.0, right='P', multiplier='100', exchange='SMART', currency='USD', localSymbol='SPX   190118P02135000', tradingClass='SPX')\n",
      "Error 10090, reqId 1448: Part of requested market data is not subscribed. Subscription-independent ticks are still active.Delayed market data is available.SPX S&P 500 Stock Index/TOP/ALL, contract: Contract(secType='OPT', conId=339681994, symbol='SPX', lastTradeDateOrContractMonth='20190117', strike=2155.0, right='P', multiplier='100', exchange='SMART', currency='USD', localSymbol='SPX   190118P02155000', tradingClass='SPX')\n",
      "Error 10090, reqId 1450: Part of requested market data is not subscribed. Subscription-independent ticks are still active.Delayed market data is available.SPX S&P 500 Stock Index/TOP/ALL, contract: Contract(secType='OPT', conId=339299377, symbol='SPX', lastTradeDateOrContractMonth='20190117', strike=2165.0, right='P', multiplier='100', exchange='SMART', currency='USD', localSymbol='SPX   190118P02165000', tradingClass='SPX')\n",
      "Error 10090, reqId 1451: Part of requested market data is not subscribed. Subscription-independent ticks are still active.Delayed market data is available.SPX S&P 500 Stock Index/TOP/ALL, contract: Contract(secType='OPT', conId=334828223, symbol='SPX', lastTradeDateOrContractMonth='20190117', strike=2170.0, right='P', multiplier='100', exchange='SMART', currency='USD', localSymbol='SPX   190118P02170000', tradingClass='SPX')\n",
      "Error 10090, reqId 1447: Part of requested market data is not subscribed. Subscription-independent ticks are still active.Delayed market data is available.SPX S&P 500 Stock Index/TOP/ALL, contract: Contract(secType='OPT', conId=290076066, symbol='SPX', lastTradeDateOrContractMonth='20190117', strike=2150.0, right='P', multiplier='100', exchange='SMART', currency='USD', localSymbol='SPX   190118P02150000', tradingClass='SPX')\n",
      "Error 10090, reqId 1446: Part of requested market data is not subscribed. Subscription-independent ticks are still active.Delayed market data is available.SPX S&P 500 Stock Index/TOP/ALL, contract: Contract(secType='OPT', conId=339681989, symbol='SPX', lastTradeDateOrContractMonth='20190117', strike=2145.0, right='P', multiplier='100', exchange='SMART', currency='USD', localSymbol='SPX   190118P02145000', tradingClass='SPX')\n",
      "Error 10090, reqId 1449: Part of requested market data is not subscribed. Subscription-independent ticks are still active.Delayed market data is available.SPX S&P 500 Stock Index/TOP/ALL, contract: Contract(secType='OPT', conId=334828208, symbol='SPX', lastTradeDateOrContractMonth='20190117', strike=2160.0, right='P', multiplier='100', exchange='SMART', currency='USD', localSymbol='SPX   190118P02160000', tradingClass='SPX')\n",
      "Error 10090, reqId 1452: Part of requested market data is not subscribed. Subscription-independent ticks are still active.Delayed market data is available.SPX S&P 500 Stock Index/TOP/ALL, contract: Contract(secType='OPT', conId=290076071, symbol='SPX', lastTradeDateOrContractMonth='20190117', strike=2175.0, right='P', multiplier='100', exchange='SMART', currency='USD', localSymbol='SPX   190118P02175000', tradingClass='SPX')\n",
      "Error 10090, reqId 1445: Part of requested market data is not subscribed. Subscription-independent ticks are still active.Delayed market data is available.SPX S&P 500 Stock Index/TOP/ALL, contract: Contract(secType='OPT', conId=334828196, symbol='SPX', lastTradeDateOrContractMonth='20190117', strike=2140.0, right='P', multiplier='100', exchange='SMART', currency='USD', localSymbol='SPX   190118P02140000', tradingClass='SPX')\n",
      "Error 10090, reqId 1453: Part of requested market data is not subscribed. Subscription-independent ticks are still active.Delayed market data is available.SPX S&P 500 Stock Index/TOP/ALL, contract: Contract(secType='OPT', conId=334828232, symbol='SPX', lastTradeDateOrContractMonth='20190117', strike=2180.0, right='P', multiplier='100', exchange='SMART', currency='USD', localSymbol='SPX   190118P02180000', tradingClass='SPX')\n",
      "Error 10090, reqId 1454: Part of requested market data is not subscribed. Subscription-independent ticks are still active.Delayed market data is available.SPX S&P 500 Stock Index/TOP/ALL, contract: Contract(secType='OPT', conId=337284198, symbol='SPX', lastTradeDateOrContractMonth='20190117', strike=2185.0, right='P', multiplier='100', exchange='SMART', currency='USD', localSymbol='SPX   190118P02185000', tradingClass='SPX')\n"
     ]
    },
    {
     "name": "stderr",
     "output_type": "stream",
     "text": [
      "Error 10090, reqId 1455: Part of requested market data is not subscribed. Subscription-independent ticks are still active.Delayed market data is available.SPX S&P 500 Stock Index/TOP/ALL, contract: Contract(secType='OPT', conId=334828249, symbol='SPX', lastTradeDateOrContractMonth='20190117', strike=2190.0, right='P', multiplier='100', exchange='SMART', currency='USD', localSymbol='SPX   190118P02190000', tradingClass='SPX')\n",
      "Error 10090, reqId 1456: Part of requested market data is not subscribed. Subscription-independent ticks are still active.Delayed market data is available.SPX S&P 500 Stock Index/TOP/ALL, contract: Contract(secType='OPT', conId=337284201, symbol='SPX', lastTradeDateOrContractMonth='20190117', strike=2195.0, right='P', multiplier='100', exchange='SMART', currency='USD', localSymbol='SPX   190118P02195000', tradingClass='SPX')\n",
      "Error 10090, reqId 1460: Part of requested market data is not subscribed. Subscription-independent ticks are still active.Delayed market data is available.SPX S&P 500 Stock Index/TOP/ALL, contract: Contract(secType='OPT', conId=337284210, symbol='SPX', lastTradeDateOrContractMonth='20190117', strike=2215.0, right='P', multiplier='100', exchange='SMART', currency='USD', localSymbol='SPX   190118P02215000', tradingClass='SPX')\n",
      "Error 10090, reqId 1459: Part of requested market data is not subscribed. Subscription-independent ticks are still active.Delayed market data is available.SPX S&P 500 Stock Index/TOP/ALL, contract: Contract(secType='OPT', conId=334828261, symbol='SPX', lastTradeDateOrContractMonth='20190117', strike=2210.0, right='P', multiplier='100', exchange='SMART', currency='USD', localSymbol='SPX   190118P02210000', tradingClass='SPX')\n",
      "Error 10090, reqId 1457: Part of requested market data is not subscribed. Subscription-independent ticks are still active.Delayed market data is available.SPX S&P 500 Stock Index/TOP/ALL, contract: Contract(secType='OPT', conId=290076072, symbol='SPX', lastTradeDateOrContractMonth='20190117', strike=2200.0, right='P', multiplier='100', exchange='SMART', currency='USD', localSymbol='SPX   190118P02200000', tradingClass='SPX')\n",
      "Error 10090, reqId 1458: Part of requested market data is not subscribed. Subscription-independent ticks are still active.Delayed market data is available.SPX S&P 500 Stock Index/TOP/ALL, contract: Contract(secType='OPT', conId=337284204, symbol='SPX', lastTradeDateOrContractMonth='20190117', strike=2205.0, right='P', multiplier='100', exchange='SMART', currency='USD', localSymbol='SPX   190118P02205000', tradingClass='SPX')\n",
      "Error 10090, reqId 1461: Part of requested market data is not subscribed. Subscription-independent ticks are still active.Delayed market data is available.SPX S&P 500 Stock Index/TOP/ALL, contract: Contract(secType='OPT', conId=334828273, symbol='SPX', lastTradeDateOrContractMonth='20190117', strike=2220.0, right='P', multiplier='100', exchange='SMART', currency='USD', localSymbol='SPX   190118P02220000', tradingClass='SPX')\n",
      "Error 10090, reqId 1463: Part of requested market data is not subscribed. Subscription-independent ticks are still active.Delayed market data is available.SPX S&P 500 Stock Index/TOP/ALL, contract: Contract(secType='OPT', conId=334828286, symbol='SPX', lastTradeDateOrContractMonth='20190117', strike=2230.0, right='P', multiplier='100', exchange='SMART', currency='USD', localSymbol='SPX   190118P02230000', tradingClass='SPX')\n",
      "Error 10090, reqId 1462: Part of requested market data is not subscribed. Subscription-independent ticks are still active.Delayed market data is available.SPX S&P 500 Stock Index/TOP/ALL, contract: Contract(secType='OPT', conId=290076077, symbol='SPX', lastTradeDateOrContractMonth='20190117', strike=2225.0, right='P', multiplier='100', exchange='SMART', currency='USD', localSymbol='SPX   190118P02225000', tradingClass='SPX')\n",
      "Error 10090, reqId 1465: Part of requested market data is not subscribed. Subscription-independent ticks are still active.Delayed market data is available.SPX S&P 500 Stock Index/TOP/ALL, contract: Contract(secType='OPT', conId=334828298, symbol='SPX', lastTradeDateOrContractMonth='20190117', strike=2240.0, right='P', multiplier='100', exchange='SMART', currency='USD', localSymbol='SPX   190118P02240000', tradingClass='SPX')\n",
      "Error 10090, reqId 1464: Part of requested market data is not subscribed. Subscription-independent ticks are still active.Delayed market data is available.SPX S&P 500 Stock Index/TOP/ALL, contract: Contract(secType='OPT', conId=336948328, symbol='SPX', lastTradeDateOrContractMonth='20190117', strike=2235.0, right='P', multiplier='100', exchange='SMART', currency='USD', localSymbol='SPX   190118P02235000', tradingClass='SPX')\n",
      "Error 10090, reqId 1466: Part of requested market data is not subscribed. Subscription-independent ticks are still active.Delayed market data is available.SPX S&P 500 Stock Index/TOP/ALL, contract: Contract(secType='OPT', conId=336948333, symbol='SPX', lastTradeDateOrContractMonth='20190117', strike=2245.0, right='P', multiplier='100', exchange='SMART', currency='USD', localSymbol='SPX   190118P02245000', tradingClass='SPX')\n",
      "Error 10090, reqId 1467: Part of requested market data is not subscribed. Subscription-independent ticks are still active.Delayed market data is available.SPX S&P 500 Stock Index/TOP/ALL, contract: Contract(secType='OPT', conId=290076083, symbol='SPX', lastTradeDateOrContractMonth='20190117', strike=2250.0, right='P', multiplier='100', exchange='SMART', currency='USD', localSymbol='SPX   190118P02250000', tradingClass='SPX')\n",
      "Error 10090, reqId 1468: Part of requested market data is not subscribed. Subscription-independent ticks are still active.Delayed market data is available.SPX S&P 500 Stock Index/TOP/ALL, contract: Contract(secType='OPT', conId=336948342, symbol='SPX', lastTradeDateOrContractMonth='20190117', strike=2255.0, right='P', multiplier='100', exchange='SMART', currency='USD', localSymbol='SPX   190118P02255000', tradingClass='SPX')\n",
      "Error 10090, reqId 1469: Part of requested market data is not subscribed. Subscription-independent ticks are still active.Delayed market data is available.SPX S&P 500 Stock Index/TOP/ALL, contract: Contract(secType='OPT', conId=334828305, symbol='SPX', lastTradeDateOrContractMonth='20190117', strike=2260.0, right='P', multiplier='100', exchange='SMART', currency='USD', localSymbol='SPX   190118P02260000', tradingClass='SPX')\n",
      "Error 10090, reqId 1470: Part of requested market data is not subscribed. Subscription-independent ticks are still active.Delayed market data is available.SPX S&P 500 Stock Index/TOP/ALL, contract: Contract(secType='OPT', conId=336948345, symbol='SPX', lastTradeDateOrContractMonth='20190117', strike=2265.0, right='P', multiplier='100', exchange='SMART', currency='USD', localSymbol='SPX   190118P02265000', tradingClass='SPX')\n",
      "Error 10090, reqId 1471: Part of requested market data is not subscribed. Subscription-independent ticks are still active.Delayed market data is available.SPX S&P 500 Stock Index/TOP/ALL, contract: Contract(secType='OPT', conId=334828318, symbol='SPX', lastTradeDateOrContractMonth='20190117', strike=2270.0, right='P', multiplier='100', exchange='SMART', currency='USD', localSymbol='SPX   190118P02270000', tradingClass='SPX')\n",
      "Error 10090, reqId 1472: Part of requested market data is not subscribed. Subscription-independent ticks are still active.Delayed market data is available.SPX S&P 500 Stock Index/TOP/ALL, contract: Contract(secType='OPT', conId=290076086, symbol='SPX', lastTradeDateOrContractMonth='20190117', strike=2275.0, right='P', multiplier='100', exchange='SMART', currency='USD', localSymbol='SPX   190118P02275000', tradingClass='SPX')\n",
      "Error 10090, reqId 1475: Part of requested market data is not subscribed. Subscription-independent ticks are still active.Delayed market data is available.SPX S&P 500 Stock Index/TOP/ALL, contract: Contract(secType='OPT', conId=334828345, symbol='SPX', lastTradeDateOrContractMonth='20190117', strike=2290.0, right='P', multiplier='100', exchange='SMART', currency='USD', localSymbol='SPX   190118P02290000', tradingClass='SPX')\n",
      "Error 10090, reqId 1474: Part of requested market data is not subscribed. Subscription-independent ticks are still active.Delayed market data is available.SPX S&P 500 Stock Index/TOP/ALL, contract: Contract(secType='OPT', conId=336948348, symbol='SPX', lastTradeDateOrContractMonth='20190117', strike=2285.0, right='P', multiplier='100', exchange='SMART', currency='USD', localSymbol='SPX   190118P02285000', tradingClass='SPX')\n"
     ]
    },
    {
     "name": "stderr",
     "output_type": "stream",
     "text": [
      "Error 10090, reqId 1476: Part of requested market data is not subscribed. Subscription-independent ticks are still active.Delayed market data is available.SPX S&P 500 Stock Index/TOP/ALL, contract: Contract(secType='OPT', conId=336948355, symbol='SPX', lastTradeDateOrContractMonth='20190117', strike=2295.0, right='P', multiplier='100', exchange='SMART', currency='USD', localSymbol='SPX   190118P02295000', tradingClass='SPX')\n",
      "Error 10090, reqId 1477: Part of requested market data is not subscribed. Subscription-independent ticks are still active.Delayed market data is available.SPX S&P 500 Stock Index/TOP/ALL, contract: Contract(secType='OPT', conId=290076089, symbol='SPX', lastTradeDateOrContractMonth='20190117', strike=2300.0, right='P', multiplier='100', exchange='SMART', currency='USD', localSymbol='SPX   190118P02300000', tradingClass='SPX')\n",
      "Error 10090, reqId 1478: Part of requested market data is not subscribed. Subscription-independent ticks are still active.Delayed market data is available.SPX S&P 500 Stock Index/TOP/ALL, contract: Contract(secType='OPT', conId=336385828, symbol='SPX', lastTradeDateOrContractMonth='20190117', strike=2305.0, right='P', multiplier='100', exchange='SMART', currency='USD', localSymbol='SPX   190118P02305000', tradingClass='SPX')\n",
      "Error 10090, reqId 1479: Part of requested market data is not subscribed. Subscription-independent ticks are still active.Delayed market data is available.SPX S&P 500 Stock Index/TOP/ALL, contract: Contract(secType='OPT', conId=334828356, symbol='SPX', lastTradeDateOrContractMonth='20190117', strike=2310.0, right='P', multiplier='100', exchange='SMART', currency='USD', localSymbol='SPX   190118P02310000', tradingClass='SPX')\n",
      "Error 10090, reqId 1481: Part of requested market data is not subscribed. Subscription-independent ticks are still active.Delayed market data is available.SPX S&P 500 Stock Index/TOP/ALL, contract: Contract(secType='OPT', conId=334828368, symbol='SPX', lastTradeDateOrContractMonth='20190117', strike=2320.0, right='P', multiplier='100', exchange='SMART', currency='USD', localSymbol='SPX   190118P02320000', tradingClass='SPX')\n",
      "Error 10090, reqId 1480: Part of requested market data is not subscribed. Subscription-independent ticks are still active.Delayed market data is available.SPX S&P 500 Stock Index/TOP/ALL, contract: Contract(secType='OPT', conId=336385835, symbol='SPX', lastTradeDateOrContractMonth='20190117', strike=2315.0, right='P', multiplier='100', exchange='SMART', currency='USD', localSymbol='SPX   190118P02315000', tradingClass='SPX')\n",
      "Error 10090, reqId 1482: Part of requested market data is not subscribed. Subscription-independent ticks are still active.Delayed market data is available.SPX S&P 500 Stock Index/TOP/ALL, contract: Contract(secType='OPT', conId=290076092, symbol='SPX', lastTradeDateOrContractMonth='20190117', strike=2325.0, right='P', multiplier='100', exchange='SMART', currency='USD', localSymbol='SPX   190118P02325000', tradingClass='SPX')\n",
      "Error 10090, reqId 1473: Part of requested market data is not subscribed. Subscription-independent ticks are still active.Delayed market data is available.SPX S&P 500 Stock Index/TOP/ALL, contract: Contract(secType='OPT', conId=334828328, symbol='SPX', lastTradeDateOrContractMonth='20190117', strike=2280.0, right='P', multiplier='100', exchange='SMART', currency='USD', localSymbol='SPX   190118P02280000', tradingClass='SPX')\n",
      "Error 10090, reqId 1483: Part of requested market data is not subscribed. Subscription-independent ticks are still active.Delayed market data is available.SPX S&P 500 Stock Index/TOP/ALL, contract: Contract(secType='OPT', conId=334828378, symbol='SPX', lastTradeDateOrContractMonth='20190117', strike=2330.0, right='P', multiplier='100', exchange='SMART', currency='USD', localSymbol='SPX   190118P02330000', tradingClass='SPX')\n",
      "Error 10090, reqId 1484: Part of requested market data is not subscribed. Subscription-independent ticks are still active.Delayed market data is available.SPX S&P 500 Stock Index/TOP/ALL, contract: Contract(secType='OPT', conId=335023099, symbol='SPX', lastTradeDateOrContractMonth='20190117', strike=2335.0, right='P', multiplier='100', exchange='SMART', currency='USD', localSymbol='SPX   190118P02335000', tradingClass='SPX')\n",
      "Error 10090, reqId 1485: Part of requested market data is not subscribed. Subscription-independent ticks are still active.Delayed market data is available.SPX S&P 500 Stock Index/TOP/ALL, contract: Contract(secType='OPT', conId=334828393, symbol='SPX', lastTradeDateOrContractMonth='20190117', strike=2340.0, right='P', multiplier='100', exchange='SMART', currency='USD', localSymbol='SPX   190118P02340000', tradingClass='SPX')\n",
      "Error 10090, reqId 1486: Part of requested market data is not subscribed. Subscription-independent ticks are still active.Delayed market data is available.SPX S&P 500 Stock Index/TOP/ALL, contract: Contract(secType='OPT', conId=334828402, symbol='SPX', lastTradeDateOrContractMonth='20190117', strike=2345.0, right='P', multiplier='100', exchange='SMART', currency='USD', localSymbol='SPX   190118P02345000', tradingClass='SPX')\n",
      "Error 10090, reqId 1487: Part of requested market data is not subscribed. Subscription-independent ticks are still active.Delayed market data is available.SPX S&P 500 Stock Index/TOP/ALL, contract: Contract(secType='OPT', conId=290076097, symbol='SPX', lastTradeDateOrContractMonth='20190117', strike=2350.0, right='P', multiplier='100', exchange='SMART', currency='USD', localSymbol='SPX   190118P02350000', tradingClass='SPX')\n",
      "Error 10090, reqId 1488: Part of requested market data is not subscribed. Subscription-independent ticks are still active.Delayed market data is available.SPX S&P 500 Stock Index/TOP/ALL, contract: Contract(secType='OPT', conId=334828413, symbol='SPX', lastTradeDateOrContractMonth='20190117', strike=2355.0, right='P', multiplier='100', exchange='SMART', currency='USD', localSymbol='SPX   190118P02355000', tradingClass='SPX')\n",
      "Error 10090, reqId 1489: Part of requested market data is not subscribed. Subscription-independent ticks are still active.Delayed market data is available.SPX S&P 500 Stock Index/TOP/ALL, contract: Contract(secType='OPT', conId=334828418, symbol='SPX', lastTradeDateOrContractMonth='20190117', strike=2360.0, right='P', multiplier='100', exchange='SMART', currency='USD', localSymbol='SPX   190118P02360000', tradingClass='SPX')\n",
      "Error 10090, reqId 1490: Part of requested market data is not subscribed. Subscription-independent ticks are still active.Delayed market data is available.SPX S&P 500 Stock Index/TOP/ALL, contract: Contract(secType='OPT', conId=334828429, symbol='SPX', lastTradeDateOrContractMonth='20190117', strike=2365.0, right='P', multiplier='100', exchange='SMART', currency='USD', localSymbol='SPX   190118P02365000', tradingClass='SPX')\n",
      "Error 10090, reqId 1491: Part of requested market data is not subscribed. Subscription-independent ticks are still active.Delayed market data is available.SPX S&P 500 Stock Index/TOP/ALL, contract: Contract(secType='OPT', conId=334828438, symbol='SPX', lastTradeDateOrContractMonth='20190117', strike=2370.0, right='P', multiplier='100', exchange='SMART', currency='USD', localSymbol='SPX   190118P02370000', tradingClass='SPX')\n",
      "Error 10090, reqId 1492: Part of requested market data is not subscribed. Subscription-independent ticks are still active.Delayed market data is available.SPX S&P 500 Stock Index/TOP/ALL, contract: Contract(secType='OPT', conId=290076100, symbol='SPX', lastTradeDateOrContractMonth='20190117', strike=2375.0, right='P', multiplier='100', exchange='SMART', currency='USD', localSymbol='SPX   190118P02375000', tradingClass='SPX')\n",
      "Error 10090, reqId 1493: Part of requested market data is not subscribed. Subscription-independent ticks are still active.Delayed market data is available.SPX S&P 500 Stock Index/TOP/ALL, contract: Contract(secType='OPT', conId=334828448, symbol='SPX', lastTradeDateOrContractMonth='20190117', strike=2380.0, right='P', multiplier='100', exchange='SMART', currency='USD', localSymbol='SPX   190118P02380000', tradingClass='SPX')\n",
      "Error 10090, reqId 1494: Part of requested market data is not subscribed. Subscription-independent ticks are still active.Delayed market data is available.SPX S&P 500 Stock Index/TOP/ALL, contract: Contract(secType='OPT', conId=334828458, symbol='SPX', lastTradeDateOrContractMonth='20190117', strike=2385.0, right='P', multiplier='100', exchange='SMART', currency='USD', localSymbol='SPX   190118P02385000', tradingClass='SPX')\n"
     ]
    },
    {
     "name": "stderr",
     "output_type": "stream",
     "text": [
      "Error 10090, reqId 1495: Part of requested market data is not subscribed. Subscription-independent ticks are still active.Delayed market data is available.SPX S&P 500 Stock Index/TOP/ALL, contract: Contract(secType='OPT', conId=334828468, symbol='SPX', lastTradeDateOrContractMonth='20190117', strike=2390.0, right='P', multiplier='100', exchange='SMART', currency='USD', localSymbol='SPX   190118P02390000', tradingClass='SPX')\n",
      "Error 10090, reqId 1496: Part of requested market data is not subscribed. Subscription-independent ticks are still active.Delayed market data is available.SPX S&P 500 Stock Index/TOP/ALL, contract: Contract(secType='OPT', conId=334828478, symbol='SPX', lastTradeDateOrContractMonth='20190117', strike=2395.0, right='P', multiplier='100', exchange='SMART', currency='USD', localSymbol='SPX   190118P02395000', tradingClass='SPX')\n",
      "Error 10090, reqId 1497: Part of requested market data is not subscribed. Subscription-independent ticks are still active.Delayed market data is available.SPX S&P 500 Stock Index/TOP/ALL, contract: Contract(secType='OPT', conId=290076107, symbol='SPX', lastTradeDateOrContractMonth='20190117', strike=2400.0, right='P', multiplier='100', exchange='SMART', currency='USD', localSymbol='SPX   190118P02400000', tradingClass='SPX')\n",
      "Error 10090, reqId 1498: Part of requested market data is not subscribed. Subscription-independent ticks are still active.Delayed market data is available.SPX S&P 500 Stock Index/TOP/ALL, contract: Contract(secType='OPT', conId=334828489, symbol='SPX', lastTradeDateOrContractMonth='20190117', strike=2405.0, right='P', multiplier='100', exchange='SMART', currency='USD', localSymbol='SPX   190118P02405000', tradingClass='SPX')\n",
      "Error 10090, reqId 1499: Part of requested market data is not subscribed. Subscription-independent ticks are still active.Delayed market data is available.SPX S&P 500 Stock Index/TOP/ALL, contract: Contract(secType='OPT', conId=334828498, symbol='SPX', lastTradeDateOrContractMonth='20190117', strike=2410.0, right='P', multiplier='100', exchange='SMART', currency='USD', localSymbol='SPX   190118P02410000', tradingClass='SPX')\n",
      "Error 10090, reqId 1500: Part of requested market data is not subscribed. Subscription-independent ticks are still active.Delayed market data is available.SPX S&P 500 Stock Index/TOP/ALL, contract: Contract(secType='OPT', conId=334828509, symbol='SPX', lastTradeDateOrContractMonth='20190117', strike=2415.0, right='P', multiplier='100', exchange='SMART', currency='USD', localSymbol='SPX   190118P02415000', tradingClass='SPX')\n",
      "Error 10090, reqId 1501: Part of requested market data is not subscribed. Subscription-independent ticks are still active.Delayed market data is available.SPX S&P 500 Stock Index/TOP/ALL, contract: Contract(secType='OPT', conId=334828528, symbol='SPX', lastTradeDateOrContractMonth='20190117', strike=2420.0, right='P', multiplier='100', exchange='SMART', currency='USD', localSymbol='SPX   190118P02420000', tradingClass='SPX')\n",
      "Error 10090, reqId 1502: Part of requested market data is not subscribed. Subscription-independent ticks are still active.Delayed market data is available.SPX S&P 500 Stock Index/TOP/ALL, contract: Contract(secType='OPT', conId=290076110, symbol='SPX', lastTradeDateOrContractMonth='20190117', strike=2425.0, right='P', multiplier='100', exchange='SMART', currency='USD', localSymbol='SPX   190118P02425000', tradingClass='SPX')\n",
      "Error 10090, reqId 1503: Part of requested market data is not subscribed. Subscription-independent ticks are still active.Delayed market data is available.SPX S&P 500 Stock Index/TOP/ALL, contract: Contract(secType='OPT', conId=334828543, symbol='SPX', lastTradeDateOrContractMonth='20190117', strike=2430.0, right='P', multiplier='100', exchange='SMART', currency='USD', localSymbol='SPX   190118P02430000', tradingClass='SPX')\n",
      "Error 10090, reqId 1504: Part of requested market data is not subscribed. Subscription-independent ticks are still active.Delayed market data is available.SPX S&P 500 Stock Index/TOP/ALL, contract: Contract(secType='OPT', conId=334828551, symbol='SPX', lastTradeDateOrContractMonth='20190117', strike=2435.0, right='P', multiplier='100', exchange='SMART', currency='USD', localSymbol='SPX   190118P02435000', tradingClass='SPX')\n",
      "Error 10090, reqId 1505: Part of requested market data is not subscribed. Subscription-independent ticks are still active.Delayed market data is available.SPX S&P 500 Stock Index/TOP/ALL, contract: Contract(secType='OPT', conId=334828563, symbol='SPX', lastTradeDateOrContractMonth='20190117', strike=2440.0, right='P', multiplier='100', exchange='SMART', currency='USD', localSymbol='SPX   190118P02440000', tradingClass='SPX')\n",
      "Error 10090, reqId 1506: Part of requested market data is not subscribed. Subscription-independent ticks are still active.Delayed market data is available.SPX S&P 500 Stock Index/TOP/ALL, contract: Contract(secType='OPT', conId=334828569, symbol='SPX', lastTradeDateOrContractMonth='20190117', strike=2445.0, right='P', multiplier='100', exchange='SMART', currency='USD', localSymbol='SPX   190118P02445000', tradingClass='SPX')\n",
      "Error 10090, reqId 1507: Part of requested market data is not subscribed. Subscription-independent ticks are still active.Delayed market data is available.SPX S&P 500 Stock Index/TOP/ALL, contract: Contract(secType='OPT', conId=290076112, symbol='SPX', lastTradeDateOrContractMonth='20190117', strike=2450.0, right='P', multiplier='100', exchange='SMART', currency='USD', localSymbol='SPX   190118P02450000', tradingClass='SPX')\n",
      "Error 10090, reqId 1508: Part of requested market data is not subscribed. Subscription-independent ticks are still active.Delayed market data is available.SPX S&P 500 Stock Index/TOP/ALL, contract: Contract(secType='OPT', conId=334828581, symbol='SPX', lastTradeDateOrContractMonth='20190117', strike=2455.0, right='P', multiplier='100', exchange='SMART', currency='USD', localSymbol='SPX   190118P02455000', tradingClass='SPX')\n",
      "Error 10090, reqId 1509: Part of requested market data is not subscribed. Subscription-independent ticks are still active.Delayed market data is available.SPX S&P 500 Stock Index/TOP/ALL, contract: Contract(secType='OPT', conId=334828593, symbol='SPX', lastTradeDateOrContractMonth='20190117', strike=2460.0, right='P', multiplier='100', exchange='SMART', currency='USD', localSymbol='SPX   190118P02460000', tradingClass='SPX')\n",
      "Error 10090, reqId 1510: Part of requested market data is not subscribed. Subscription-independent ticks are still active.Delayed market data is available.SPX S&P 500 Stock Index/TOP/ALL, contract: Contract(secType='OPT', conId=334828596, symbol='SPX', lastTradeDateOrContractMonth='20190117', strike=2465.0, right='P', multiplier='100', exchange='SMART', currency='USD', localSymbol='SPX   190118P02465000', tradingClass='SPX')\n",
      "Error 10090, reqId 1511: Part of requested market data is not subscribed. Subscription-independent ticks are still active.Delayed market data is available.SPX S&P 500 Stock Index/TOP/ALL, contract: Contract(secType='OPT', conId=334828611, symbol='SPX', lastTradeDateOrContractMonth='20190117', strike=2470.0, right='P', multiplier='100', exchange='SMART', currency='USD', localSymbol='SPX   190118P02470000', tradingClass='SPX')\n",
      "Error 10090, reqId 1512: Part of requested market data is not subscribed. Subscription-independent ticks are still active.Delayed market data is available.SPX S&P 500 Stock Index/TOP/ALL, contract: Contract(secType='OPT', conId=290076117, symbol='SPX', lastTradeDateOrContractMonth='20190117', strike=2475.0, right='P', multiplier='100', exchange='SMART', currency='USD', localSymbol='SPX   190118P02475000', tradingClass='SPX')\n",
      "Error 10090, reqId 1513: Part of requested market data is not subscribed. Subscription-independent ticks are still active.Delayed market data is available.SPX S&P 500 Stock Index/TOP/ALL, contract: Contract(secType='OPT', conId=334828617, symbol='SPX', lastTradeDateOrContractMonth='20190117', strike=2480.0, right='P', multiplier='100', exchange='SMART', currency='USD', localSymbol='SPX   190118P02480000', tradingClass='SPX')\n",
      "Error 10090, reqId 1518: Part of requested market data is not subscribed. Subscription-independent ticks are still active.Delayed market data is available.SPX S&P 500 Stock Index/TOP/ALL, contract: Contract(secType='OPT', conId=334828671, symbol='SPX', lastTradeDateOrContractMonth='20190117', strike=2505.0, right='P', multiplier='100', exchange='SMART', currency='USD', localSymbol='SPX   190118P02505000', tradingClass='SPX')\n"
     ]
    },
    {
     "name": "stderr",
     "output_type": "stream",
     "text": [
      "Error 10090, reqId 1519: Part of requested market data is not subscribed. Subscription-independent ticks are still active.Delayed market data is available.SPX S&P 500 Stock Index/TOP/ALL, contract: Contract(secType='OPT', conId=334828689, symbol='SPX', lastTradeDateOrContractMonth='20190117', strike=2510.0, right='P', multiplier='100', exchange='SMART', currency='USD', localSymbol='SPX   190118P02510000', tradingClass='SPX')\n",
      "Error 10090, reqId 1514: Part of requested market data is not subscribed. Subscription-independent ticks are still active.Delayed market data is available.SPX S&P 500 Stock Index/TOP/ALL, contract: Contract(secType='OPT', conId=334828626, symbol='SPX', lastTradeDateOrContractMonth='20190117', strike=2485.0, right='P', multiplier='100', exchange='SMART', currency='USD', localSymbol='SPX   190118P02485000', tradingClass='SPX')\n",
      "Error 10090, reqId 1515: Part of requested market data is not subscribed. Subscription-independent ticks are still active.Delayed market data is available.SPX S&P 500 Stock Index/TOP/ALL, contract: Contract(secType='OPT', conId=334828637, symbol='SPX', lastTradeDateOrContractMonth='20190117', strike=2490.0, right='P', multiplier='100', exchange='SMART', currency='USD', localSymbol='SPX   190118P02490000', tradingClass='SPX')\n",
      "Error 10090, reqId 1516: Part of requested market data is not subscribed. Subscription-independent ticks are still active.Delayed market data is available.SPX S&P 500 Stock Index/TOP/ALL, contract: Contract(secType='OPT', conId=334828654, symbol='SPX', lastTradeDateOrContractMonth='20190117', strike=2495.0, right='P', multiplier='100', exchange='SMART', currency='USD', localSymbol='SPX   190118P02495000', tradingClass='SPX')\n",
      "Error 10090, reqId 1517: Part of requested market data is not subscribed. Subscription-independent ticks are still active.Delayed market data is available.SPX S&P 500 Stock Index/TOP/ALL, contract: Contract(secType='OPT', conId=290076122, symbol='SPX', lastTradeDateOrContractMonth='20190117', strike=2500.0, right='P', multiplier='100', exchange='SMART', currency='USD', localSymbol='SPX   190118P02500000', tradingClass='SPX')\n",
      "Error 10090, reqId 1520: Part of requested market data is not subscribed. Subscription-independent ticks are still active.Delayed market data is available.SPX S&P 500 Stock Index/TOP/ALL, contract: Contract(secType='OPT', conId=334828706, symbol='SPX', lastTradeDateOrContractMonth='20190117', strike=2515.0, right='P', multiplier='100', exchange='SMART', currency='USD', localSymbol='SPX   190118P02515000', tradingClass='SPX')\n",
      "Error 10090, reqId 1521: Part of requested market data is not subscribed. Subscription-independent ticks are still active.Delayed market data is available.SPX S&P 500 Stock Index/TOP/ALL, contract: Contract(secType='OPT', conId=334828717, symbol='SPX', lastTradeDateOrContractMonth='20190117', strike=2520.0, right='P', multiplier='100', exchange='SMART', currency='USD', localSymbol='SPX   190118P02520000', tradingClass='SPX')\n",
      "Error 10090, reqId 1522: Part of requested market data is not subscribed. Subscription-independent ticks are still active.Delayed market data is available.SPX S&P 500 Stock Index/TOP/ALL, contract: Contract(secType='OPT', conId=290076127, symbol='SPX', lastTradeDateOrContractMonth='20190117', strike=2525.0, right='P', multiplier='100', exchange='SMART', currency='USD', localSymbol='SPX   190118P02525000', tradingClass='SPX')\n",
      "Error 10090, reqId 1526: Part of requested market data is not subscribed. Subscription-independent ticks are still active.Delayed market data is available.SPX S&P 500 Stock Index/TOP/ALL, contract: Contract(secType='OPT', conId=334828777, symbol='SPX', lastTradeDateOrContractMonth='20190117', strike=2545.0, right='P', multiplier='100', exchange='SMART', currency='USD', localSymbol='SPX   190118P02545000', tradingClass='SPX')\n",
      "Error 10090, reqId 1527: Part of requested market data is not subscribed. Subscription-independent ticks are still active.Delayed market data is available.SPX S&P 500 Stock Index/TOP/ALL, contract: Contract(secType='OPT', conId=290076131, symbol='SPX', lastTradeDateOrContractMonth='20190117', strike=2550.0, right='P', multiplier='100', exchange='SMART', currency='USD', localSymbol='SPX   190118P02550000', tradingClass='SPX')\n",
      "Error 10090, reqId 1529: Part of requested market data is not subscribed. Subscription-independent ticks are still active.Delayed market data is available.SPX S&P 500 Stock Index/TOP/ALL, contract: Contract(secType='OPT', conId=334828803, symbol='SPX', lastTradeDateOrContractMonth='20190117', strike=2560.0, right='P', multiplier='100', exchange='SMART', currency='USD', localSymbol='SPX   190118P02560000', tradingClass='SPX')\n",
      "Error 10090, reqId 1531: Part of requested market data is not subscribed. Subscription-independent ticks are still active.Delayed market data is available.SPX S&P 500 Stock Index/TOP/ALL, contract: Contract(secType='OPT', conId=334828818, symbol='SPX', lastTradeDateOrContractMonth='20190117', strike=2570.0, right='P', multiplier='100', exchange='SMART', currency='USD', localSymbol='SPX   190118P02570000', tradingClass='SPX')\n",
      "Error 10090, reqId 1532: Part of requested market data is not subscribed. Subscription-independent ticks are still active.Delayed market data is available.SPX S&P 500 Stock Index/TOP/ALL, contract: Contract(secType='OPT', conId=290076134, symbol='SPX', lastTradeDateOrContractMonth='20190117', strike=2575.0, right='P', multiplier='100', exchange='SMART', currency='USD', localSymbol='SPX   190118P02575000', tradingClass='SPX')\n",
      "Error 10090, reqId 1533: Part of requested market data is not subscribed. Subscription-independent ticks are still active.Delayed market data is available.SPX S&P 500 Stock Index/TOP/ALL, contract: Contract(secType='OPT', conId=334828829, symbol='SPX', lastTradeDateOrContractMonth='20190117', strike=2580.0, right='P', multiplier='100', exchange='SMART', currency='USD', localSymbol='SPX   190118P02580000', tradingClass='SPX')\n",
      "Error 10090, reqId 1523: Part of requested market data is not subscribed. Subscription-independent ticks are still active.Delayed market data is available.SPX S&P 500 Stock Index/TOP/ALL, contract: Contract(secType='OPT', conId=334828732, symbol='SPX', lastTradeDateOrContractMonth='20190117', strike=2530.0, right='P', multiplier='100', exchange='SMART', currency='USD', localSymbol='SPX   190118P02530000', tradingClass='SPX')\n",
      "Error 10090, reqId 1524: Part of requested market data is not subscribed. Subscription-independent ticks are still active.Delayed market data is available.SPX S&P 500 Stock Index/TOP/ALL, contract: Contract(secType='OPT', conId=334828750, symbol='SPX', lastTradeDateOrContractMonth='20190117', strike=2535.0, right='P', multiplier='100', exchange='SMART', currency='USD', localSymbol='SPX   190118P02535000', tradingClass='SPX')\n",
      "Error 10090, reqId 1525: Part of requested market data is not subscribed. Subscription-independent ticks are still active.Delayed market data is available.SPX S&P 500 Stock Index/TOP/ALL, contract: Contract(secType='OPT', conId=334828767, symbol='SPX', lastTradeDateOrContractMonth='20190117', strike=2540.0, right='P', multiplier='100', exchange='SMART', currency='USD', localSymbol='SPX   190118P02540000', tradingClass='SPX')\n",
      "Error 10090, reqId 1528: Part of requested market data is not subscribed. Subscription-independent ticks are still active.Delayed market data is available.SPX S&P 500 Stock Index/TOP/ALL, contract: Contract(secType='OPT', conId=334828791, symbol='SPX', lastTradeDateOrContractMonth='20190117', strike=2555.0, right='P', multiplier='100', exchange='SMART', currency='USD', localSymbol='SPX   190118P02555000', tradingClass='SPX')\n",
      "Error 10090, reqId 1530: Part of requested market data is not subscribed. Subscription-independent ticks are still active.Delayed market data is available.SPX S&P 500 Stock Index/TOP/ALL, contract: Contract(secType='OPT', conId=334828809, symbol='SPX', lastTradeDateOrContractMonth='20190117', strike=2565.0, right='P', multiplier='100', exchange='SMART', currency='USD', localSymbol='SPX   190118P02565000', tradingClass='SPX')\n",
      "Error 10090, reqId 1535: Part of requested market data is not subscribed. Subscription-independent ticks are still active.Delayed market data is available.SPX S&P 500 Stock Index/TOP/ALL, contract: Contract(secType='OPT', conId=334828848, symbol='SPX', lastTradeDateOrContractMonth='20190117', strike=2590.0, right='P', multiplier='100', exchange='SMART', currency='USD', localSymbol='SPX   190118P02590000', tradingClass='SPX')\n"
     ]
    },
    {
     "name": "stderr",
     "output_type": "stream",
     "text": [
      "Error 10090, reqId 1539: Part of requested market data is not subscribed. Subscription-independent ticks are still active.Delayed market data is available.SPX S&P 500 Stock Index/TOP/ALL, contract: Contract(secType='OPT', conId=334828883, symbol='SPX', lastTradeDateOrContractMonth='20190117', strike=2610.0, right='P', multiplier='100', exchange='SMART', currency='USD', localSymbol='SPX   190118P02610000', tradingClass='SPX')\n",
      "Error 10090, reqId 1538: Part of requested market data is not subscribed. Subscription-independent ticks are still active.Delayed market data is available.SPX S&P 500 Stock Index/TOP/ALL, contract: Contract(secType='OPT', conId=334828871, symbol='SPX', lastTradeDateOrContractMonth='20190117', strike=2605.0, right='P', multiplier='100', exchange='SMART', currency='USD', localSymbol='SPX   190118P02605000', tradingClass='SPX')\n",
      "Error 10090, reqId 1534: Part of requested market data is not subscribed. Subscription-independent ticks are still active.Delayed market data is available.SPX S&P 500 Stock Index/TOP/ALL, contract: Contract(secType='OPT', conId=334828843, symbol='SPX', lastTradeDateOrContractMonth='20190117', strike=2585.0, right='P', multiplier='100', exchange='SMART', currency='USD', localSymbol='SPX   190118P02585000', tradingClass='SPX')\n",
      "Error 10090, reqId 1540: Part of requested market data is not subscribed. Subscription-independent ticks are still active.Delayed market data is available.SPX S&P 500 Stock Index/TOP/ALL, contract: Contract(secType='OPT', conId=334828889, symbol='SPX', lastTradeDateOrContractMonth='20190117', strike=2615.0, right='P', multiplier='100', exchange='SMART', currency='USD', localSymbol='SPX   190118P02615000', tradingClass='SPX')\n",
      "Error 10090, reqId 1541: Part of requested market data is not subscribed. Subscription-independent ticks are still active.Delayed market data is available.SPX S&P 500 Stock Index/TOP/ALL, contract: Contract(secType='OPT', conId=334828896, symbol='SPX', lastTradeDateOrContractMonth='20190117', strike=2620.0, right='P', multiplier='100', exchange='SMART', currency='USD', localSymbol='SPX   190118P02620000', tradingClass='SPX')\n",
      "Error 10090, reqId 1542: Part of requested market data is not subscribed. Subscription-independent ticks are still active.Delayed market data is available.SPX S&P 500 Stock Index/TOP/ALL, contract: Contract(secType='OPT', conId=290076140, symbol='SPX', lastTradeDateOrContractMonth='20190117', strike=2625.0, right='P', multiplier='100', exchange='SMART', currency='USD', localSymbol='SPX   190118P02625000', tradingClass='SPX')\n",
      "Error 10090, reqId 1543: Part of requested market data is not subscribed. Subscription-independent ticks are still active.Delayed market data is available.SPX S&P 500 Stock Index/TOP/ALL, contract: Contract(secType='OPT', conId=334828913, symbol='SPX', lastTradeDateOrContractMonth='20190117', strike=2630.0, right='P', multiplier='100', exchange='SMART', currency='USD', localSymbol='SPX   190118P02630000', tradingClass='SPX')\n",
      "Error 10090, reqId 1536: Part of requested market data is not subscribed. Subscription-independent ticks are still active.Delayed market data is available.SPX S&P 500 Stock Index/TOP/ALL, contract: Contract(secType='OPT', conId=334828858, symbol='SPX', lastTradeDateOrContractMonth='20190117', strike=2595.0, right='P', multiplier='100', exchange='SMART', currency='USD', localSymbol='SPX   190118P02595000', tradingClass='SPX')\n",
      "Error 10090, reqId 1537: Part of requested market data is not subscribed. Subscription-independent ticks are still active.Delayed market data is available.SPX S&P 500 Stock Index/TOP/ALL, contract: Contract(secType='OPT', conId=290076137, symbol='SPX', lastTradeDateOrContractMonth='20190117', strike=2600.0, right='P', multiplier='100', exchange='SMART', currency='USD', localSymbol='SPX   190118P02600000', tradingClass='SPX')\n",
      "Error 10090, reqId 1544: Part of requested market data is not subscribed. Subscription-independent ticks are still active.Delayed market data is available.SPX S&P 500 Stock Index/TOP/ALL, contract: Contract(secType='OPT', conId=334828929, symbol='SPX', lastTradeDateOrContractMonth='20190117', strike=2635.0, right='P', multiplier='100', exchange='SMART', currency='USD', localSymbol='SPX   190118P02635000', tradingClass='SPX')\n",
      "Error 10090, reqId 1549: Part of requested market data is not subscribed. Subscription-independent ticks are still active.Delayed market data is available.SPX S&P 500 Stock Index/TOP/ALL, contract: Contract(secType='OPT', conId=334828966, symbol='SPX', lastTradeDateOrContractMonth='20190117', strike=2660.0, right='P', multiplier='100', exchange='SMART', currency='USD', localSymbol='SPX   190118P02660000', tradingClass='SPX')\n",
      "Error 10090, reqId 1551: Part of requested market data is not subscribed. Subscription-independent ticks are still active.Delayed market data is available.SPX S&P 500 Stock Index/TOP/ALL, contract: Contract(secType='OPT', conId=334828983, symbol='SPX', lastTradeDateOrContractMonth='20190117', strike=2670.0, right='P', multiplier='100', exchange='SMART', currency='USD', localSymbol='SPX   190118P02670000', tradingClass='SPX')\n",
      "Error 10090, reqId 1547: Part of requested market data is not subscribed. Subscription-independent ticks are still active.Delayed market data is available.SPX S&P 500 Stock Index/TOP/ALL, contract: Contract(secType='OPT', conId=290076146, symbol='SPX', lastTradeDateOrContractMonth='20190117', strike=2650.0, right='P', multiplier='100', exchange='SMART', currency='USD', localSymbol='SPX   190118P02650000', tradingClass='SPX')\n",
      "Error 10090, reqId 1552: Part of requested market data is not subscribed. Subscription-independent ticks are still active.Delayed market data is available.SPX S&P 500 Stock Index/TOP/ALL, contract: Contract(secType='OPT', conId=290076151, symbol='SPX', lastTradeDateOrContractMonth='20190117', strike=2675.0, right='P', multiplier='100', exchange='SMART', currency='USD', localSymbol='SPX   190118P02675000', tradingClass='SPX')\n",
      "Error 10090, reqId 1550: Part of requested market data is not subscribed. Subscription-independent ticks are still active.Delayed market data is available.SPX S&P 500 Stock Index/TOP/ALL, contract: Contract(secType='OPT', conId=334828972, symbol='SPX', lastTradeDateOrContractMonth='20190117', strike=2665.0, right='P', multiplier='100', exchange='SMART', currency='USD', localSymbol='SPX   190118P02665000', tradingClass='SPX')\n",
      "Error 10090, reqId 1546: Part of requested market data is not subscribed. Subscription-independent ticks are still active.Delayed market data is available.SPX S&P 500 Stock Index/TOP/ALL, contract: Contract(secType='OPT', conId=334828954, symbol='SPX', lastTradeDateOrContractMonth='20190117', strike=2645.0, right='P', multiplier='100', exchange='SMART', currency='USD', localSymbol='SPX   190118P02645000', tradingClass='SPX')\n",
      "Error 10090, reqId 1545: Part of requested market data is not subscribed. Subscription-independent ticks are still active.Delayed market data is available.SPX S&P 500 Stock Index/TOP/ALL, contract: Contract(secType='OPT', conId=334828942, symbol='SPX', lastTradeDateOrContractMonth='20190117', strike=2640.0, right='P', multiplier='100', exchange='SMART', currency='USD', localSymbol='SPX   190118P02640000', tradingClass='SPX')\n",
      "Error 10090, reqId 1548: Part of requested market data is not subscribed. Subscription-independent ticks are still active.Delayed market data is available.SPX S&P 500 Stock Index/TOP/ALL, contract: Contract(secType='OPT', conId=334828963, symbol='SPX', lastTradeDateOrContractMonth='20190117', strike=2655.0, right='P', multiplier='100', exchange='SMART', currency='USD', localSymbol='SPX   190118P02655000', tradingClass='SPX')\n",
      "Error 10090, reqId 1553: Part of requested market data is not subscribed. Subscription-independent ticks are still active.Delayed market data is available.SPX S&P 500 Stock Index/TOP/ALL, contract: Contract(secType='OPT', conId=334828984, symbol='SPX', lastTradeDateOrContractMonth='20190117', strike=2680.0, right='P', multiplier='100', exchange='SMART', currency='USD', localSymbol='SPX   190118P02680000', tradingClass='SPX')\n",
      "Error 10090, reqId 1555: Part of requested market data is not subscribed. Subscription-independent ticks are still active.Delayed market data is available.SPX S&P 500 Stock Index/TOP/ALL, contract: Contract(secType='OPT', conId=334828992, symbol='SPX', lastTradeDateOrContractMonth='20190117', strike=2690.0, right='P', multiplier='100', exchange='SMART', currency='USD', localSymbol='SPX   190118P02690000', tradingClass='SPX')\n"
     ]
    },
    {
     "name": "stderr",
     "output_type": "stream",
     "text": [
      "Error 10090, reqId 1554: Part of requested market data is not subscribed. Subscription-independent ticks are still active.Delayed market data is available.SPX S&P 500 Stock Index/TOP/ALL, contract: Contract(secType='OPT', conId=334828989, symbol='SPX', lastTradeDateOrContractMonth='20190117', strike=2685.0, right='P', multiplier='100', exchange='SMART', currency='USD', localSymbol='SPX   190118P02685000', tradingClass='SPX')\n",
      "Error 10090, reqId 1556: Part of requested market data is not subscribed. Subscription-independent ticks are still active.Delayed market data is available.SPX S&P 500 Stock Index/TOP/ALL, contract: Contract(secType='OPT', conId=334829009, symbol='SPX', lastTradeDateOrContractMonth='20190117', strike=2695.0, right='P', multiplier='100', exchange='SMART', currency='USD', localSymbol='SPX   190118P02695000', tradingClass='SPX')\n",
      "Error 10090, reqId 1557: Part of requested market data is not subscribed. Subscription-independent ticks are still active.Delayed market data is available.SPX S&P 500 Stock Index/TOP/ALL, contract: Contract(secType='OPT', conId=290076152, symbol='SPX', lastTradeDateOrContractMonth='20190117', strike=2700.0, right='P', multiplier='100', exchange='SMART', currency='USD', localSymbol='SPX   190118P02700000', tradingClass='SPX')\n",
      "Error 10090, reqId 1558: Part of requested market data is not subscribed. Subscription-independent ticks are still active.Delayed market data is available.SPX S&P 500 Stock Index/TOP/ALL, contract: Contract(secType='OPT', conId=334829012, symbol='SPX', lastTradeDateOrContractMonth='20190117', strike=2705.0, right='P', multiplier='100', exchange='SMART', currency='USD', localSymbol='SPX   190118P02705000', tradingClass='SPX')\n",
      "Error 10090, reqId 1559: Part of requested market data is not subscribed. Subscription-independent ticks are still active.Delayed market data is available.SPX S&P 500 Stock Index/TOP/ALL, contract: Contract(secType='OPT', conId=334829022, symbol='SPX', lastTradeDateOrContractMonth='20190117', strike=2710.0, right='P', multiplier='100', exchange='SMART', currency='USD', localSymbol='SPX   190118P02710000', tradingClass='SPX')\n",
      "Error 10090, reqId 1560: Part of requested market data is not subscribed. Subscription-independent ticks are still active.Delayed market data is available.SPX S&P 500 Stock Index/TOP/ALL, contract: Contract(secType='OPT', conId=334829026, symbol='SPX', lastTradeDateOrContractMonth='20190117', strike=2715.0, right='P', multiplier='100', exchange='SMART', currency='USD', localSymbol='SPX   190118P02715000', tradingClass='SPX')\n",
      "Error 10090, reqId 1561: Part of requested market data is not subscribed. Subscription-independent ticks are still active.Delayed market data is available.SPX S&P 500 Stock Index/TOP/ALL, contract: Contract(secType='OPT', conId=334829031, symbol='SPX', lastTradeDateOrContractMonth='20190117', strike=2720.0, right='P', multiplier='100', exchange='SMART', currency='USD', localSymbol='SPX   190118P02720000', tradingClass='SPX')\n",
      "Error 10090, reqId 1562: Part of requested market data is not subscribed. Subscription-independent ticks are still active.Delayed market data is available.SPX S&P 500 Stock Index/TOP/ALL, contract: Contract(secType='OPT', conId=290076157, symbol='SPX', lastTradeDateOrContractMonth='20190117', strike=2725.0, right='P', multiplier='100', exchange='SMART', currency='USD', localSymbol='SPX   190118P02725000', tradingClass='SPX')\n",
      "Error 10090, reqId 1563: Part of requested market data is not subscribed. Subscription-independent ticks are still active.Delayed market data is available.SPX S&P 500 Stock Index/TOP/ALL, contract: Contract(secType='OPT', conId=334829037, symbol='SPX', lastTradeDateOrContractMonth='20190117', strike=2730.0, right='P', multiplier='100', exchange='SMART', currency='USD', localSymbol='SPX   190118P02730000', tradingClass='SPX')\n",
      "Error 10090, reqId 1564: Part of requested market data is not subscribed. Subscription-independent ticks are still active.Delayed market data is available.SPX S&P 500 Stock Index/TOP/ALL, contract: Contract(secType='OPT', conId=334829046, symbol='SPX', lastTradeDateOrContractMonth='20190117', strike=2735.0, right='P', multiplier='100', exchange='SMART', currency='USD', localSymbol='SPX   190118P02735000', tradingClass='SPX')\n",
      "Error 10090, reqId 1565: Part of requested market data is not subscribed. Subscription-independent ticks are still active.Delayed market data is available.SPX S&P 500 Stock Index/TOP/ALL, contract: Contract(secType='OPT', conId=334829056, symbol='SPX', lastTradeDateOrContractMonth='20190117', strike=2740.0, right='P', multiplier='100', exchange='SMART', currency='USD', localSymbol='SPX   190118P02740000', tradingClass='SPX')\n",
      "Error 10090, reqId 1569: Part of requested market data is not subscribed. Subscription-independent ticks are still active.Delayed market data is available.SPX S&P 500 Stock Index/TOP/ALL, contract: Contract(secType='OPT', conId=334829110, symbol='SPX', lastTradeDateOrContractMonth='20190117', strike=2760.0, right='P', multiplier='100', exchange='SMART', currency='USD', localSymbol='SPX   190118P02760000', tradingClass='SPX')\n",
      "Error 10090, reqId 1567: Part of requested market data is not subscribed. Subscription-independent ticks are still active.Delayed market data is available.SPX S&P 500 Stock Index/TOP/ALL, contract: Contract(secType='OPT', conId=290076161, symbol='SPX', lastTradeDateOrContractMonth='20190117', strike=2750.0, right='P', multiplier='100', exchange='SMART', currency='USD', localSymbol='SPX   190118P02750000', tradingClass='SPX')\n",
      "Error 10090, reqId 1568: Part of requested market data is not subscribed. Subscription-independent ticks are still active.Delayed market data is available.SPX S&P 500 Stock Index/TOP/ALL, contract: Contract(secType='OPT', conId=334829090, symbol='SPX', lastTradeDateOrContractMonth='20190117', strike=2755.0, right='P', multiplier='100', exchange='SMART', currency='USD', localSymbol='SPX   190118P02755000', tradingClass='SPX')\n",
      "Error 10090, reqId 1566: Part of requested market data is not subscribed. Subscription-independent ticks are still active.Delayed market data is available.SPX S&P 500 Stock Index/TOP/ALL, contract: Contract(secType='OPT', conId=334829073, symbol='SPX', lastTradeDateOrContractMonth='20190117', strike=2745.0, right='P', multiplier='100', exchange='SMART', currency='USD', localSymbol='SPX   190118P02745000', tradingClass='SPX')\n",
      "Error 10090, reqId 1571: Part of requested market data is not subscribed. Subscription-independent ticks are still active.Delayed market data is available.SPX S&P 500 Stock Index/TOP/ALL, contract: Contract(secType='OPT', conId=334829155, symbol='SPX', lastTradeDateOrContractMonth='20190117', strike=2770.0, right='P', multiplier='100', exchange='SMART', currency='USD', localSymbol='SPX   190118P02770000', tradingClass='SPX')\n",
      "Error 10090, reqId 1570: Part of requested market data is not subscribed. Subscription-independent ticks are still active.Delayed market data is available.SPX S&P 500 Stock Index/TOP/ALL, contract: Contract(secType='OPT', conId=334829131, symbol='SPX', lastTradeDateOrContractMonth='20190117', strike=2765.0, right='P', multiplier='100', exchange='SMART', currency='USD', localSymbol='SPX   190118P02765000', tradingClass='SPX')\n",
      "Error 10090, reqId 1572: Part of requested market data is not subscribed. Subscription-independent ticks are still active.Delayed market data is available.SPX S&P 500 Stock Index/TOP/ALL, contract: Contract(secType='OPT', conId=290076164, symbol='SPX', lastTradeDateOrContractMonth='20190117', strike=2775.0, right='P', multiplier='100', exchange='SMART', currency='USD', localSymbol='SPX   190118P02775000', tradingClass='SPX')\n",
      "Error 10090, reqId 1573: Part of requested market data is not subscribed. Subscription-independent ticks are still active.Delayed market data is available.SPX S&P 500 Stock Index/TOP/ALL, contract: Contract(secType='OPT', conId=334829164, symbol='SPX', lastTradeDateOrContractMonth='20190117', strike=2780.0, right='P', multiplier='100', exchange='SMART', currency='USD', localSymbol='SPX   190118P02780000', tradingClass='SPX')\n",
      "Error 10090, reqId 1574: Part of requested market data is not subscribed. Subscription-independent ticks are still active.Delayed market data is available.SPX S&P 500 Stock Index/TOP/ALL, contract: Contract(secType='OPT', conId=334829176, symbol='SPX', lastTradeDateOrContractMonth='20190117', strike=2785.0, right='P', multiplier='100', exchange='SMART', currency='USD', localSymbol='SPX   190118P02785000', tradingClass='SPX')\n"
     ]
    },
    {
     "name": "stderr",
     "output_type": "stream",
     "text": [
      "Error 10090, reqId 1576: Part of requested market data is not subscribed. Subscription-independent ticks are still active.Delayed market data is available.SPX S&P 500 Stock Index/TOP/ALL, contract: Contract(secType='OPT', conId=334829192, symbol='SPX', lastTradeDateOrContractMonth='20190117', strike=2795.0, right='P', multiplier='100', exchange='SMART', currency='USD', localSymbol='SPX   190118P02795000', tradingClass='SPX')\n",
      "Error 10090, reqId 1575: Part of requested market data is not subscribed. Subscription-independent ticks are still active.Delayed market data is available.SPX S&P 500 Stock Index/TOP/ALL, contract: Contract(secType='OPT', conId=334829191, symbol='SPX', lastTradeDateOrContractMonth='20190117', strike=2790.0, right='P', multiplier='100', exchange='SMART', currency='USD', localSymbol='SPX   190118P02790000', tradingClass='SPX')\n",
      "Error 10090, reqId 1577: Part of requested market data is not subscribed. Subscription-independent ticks are still active.Delayed market data is available.SPX S&P 500 Stock Index/TOP/ALL, contract: Contract(secType='OPT', conId=290076171, symbol='SPX', lastTradeDateOrContractMonth='20190117', strike=2800.0, right='P', multiplier='100', exchange='SMART', currency='USD', localSymbol='SPX   190118P02800000', tradingClass='SPX')\n",
      "Error 10090, reqId 1578: Part of requested market data is not subscribed. Subscription-independent ticks are still active.Delayed market data is available.SPX S&P 500 Stock Index/TOP/ALL, contract: Contract(secType='OPT', conId=334829221, symbol='SPX', lastTradeDateOrContractMonth='20190117', strike=2805.0, right='P', multiplier='100', exchange='SMART', currency='USD', localSymbol='SPX   190118P02805000', tradingClass='SPX')\n",
      "Error 10090, reqId 1579: Part of requested market data is not subscribed. Subscription-independent ticks are still active.Delayed market data is available.SPX S&P 500 Stock Index/TOP/ALL, contract: Contract(secType='OPT', conId=334829246, symbol='SPX', lastTradeDateOrContractMonth='20190117', strike=2810.0, right='P', multiplier='100', exchange='SMART', currency='USD', localSymbol='SPX   190118P02810000', tradingClass='SPX')\n",
      "Error 10090, reqId 1580: Part of requested market data is not subscribed. Subscription-independent ticks are still active.Delayed market data is available.SPX S&P 500 Stock Index/TOP/ALL, contract: Contract(secType='OPT', conId=334829271, symbol='SPX', lastTradeDateOrContractMonth='20190117', strike=2815.0, right='P', multiplier='100', exchange='SMART', currency='USD', localSymbol='SPX   190118P02815000', tradingClass='SPX')\n",
      "Error 10090, reqId 1581: Part of requested market data is not subscribed. Subscription-independent ticks are still active.Delayed market data is available.SPX S&P 500 Stock Index/TOP/ALL, contract: Contract(secType='OPT', conId=334829291, symbol='SPX', lastTradeDateOrContractMonth='20190117', strike=2820.0, right='P', multiplier='100', exchange='SMART', currency='USD', localSymbol='SPX   190118P02820000', tradingClass='SPX')\n",
      "Error 10090, reqId 1582: Part of requested market data is not subscribed. Subscription-independent ticks are still active.Delayed market data is available.SPX S&P 500 Stock Index/TOP/ALL, contract: Contract(secType='OPT', conId=295209641, symbol='SPX', lastTradeDateOrContractMonth='20190117', strike=2825.0, right='P', multiplier='100', exchange='SMART', currency='USD', localSymbol='SPX   190118P02825000', tradingClass='SPX')\n",
      "Error 10090, reqId 1593: Part of requested market data is not subscribed. Subscription-independent ticks are still active.Delayed market data is available.SPX S&P 500 Stock Index/TOP/ALL, contract: Contract(secType='OPT', conId=334829410, symbol='SPX', lastTradeDateOrContractMonth='20190117', strike=2880.0, right='P', multiplier='100', exchange='SMART', currency='USD', localSymbol='SPX   190118P02880000', tradingClass='SPX')\n",
      "Error 10090, reqId 1583: Part of requested market data is not subscribed. Subscription-independent ticks are still active.Delayed market data is available.SPX S&P 500 Stock Index/TOP/ALL, contract: Contract(secType='OPT', conId=334829311, symbol='SPX', lastTradeDateOrContractMonth='20190117', strike=2830.0, right='P', multiplier='100', exchange='SMART', currency='USD', localSymbol='SPX   190118P02830000', tradingClass='SPX')\n",
      "Error 10090, reqId 1584: Part of requested market data is not subscribed. Subscription-independent ticks are still active.Delayed market data is available.SPX S&P 500 Stock Index/TOP/ALL, contract: Contract(secType='OPT', conId=334829338, symbol='SPX', lastTradeDateOrContractMonth='20190117', strike=2835.0, right='P', multiplier='100', exchange='SMART', currency='USD', localSymbol='SPX   190118P02835000', tradingClass='SPX')\n",
      "Error 10090, reqId 1585: Part of requested market data is not subscribed. Subscription-independent ticks are still active.Delayed market data is available.SPX S&P 500 Stock Index/TOP/ALL, contract: Contract(secType='OPT', conId=334829350, symbol='SPX', lastTradeDateOrContractMonth='20190117', strike=2840.0, right='P', multiplier='100', exchange='SMART', currency='USD', localSymbol='SPX   190118P02840000', tradingClass='SPX')\n",
      "Error 10090, reqId 1586: Part of requested market data is not subscribed. Subscription-independent ticks are still active.Delayed market data is available.SPX S&P 500 Stock Index/TOP/ALL, contract: Contract(secType='OPT', conId=334829353, symbol='SPX', lastTradeDateOrContractMonth='20190117', strike=2845.0, right='P', multiplier='100', exchange='SMART', currency='USD', localSymbol='SPX   190118P02845000', tradingClass='SPX')\n",
      "Error 10090, reqId 1587: Part of requested market data is not subscribed. Subscription-independent ticks are still active.Delayed market data is available.SPX S&P 500 Stock Index/TOP/ALL, contract: Contract(secType='OPT', conId=290076174, symbol='SPX', lastTradeDateOrContractMonth='20190117', strike=2850.0, right='P', multiplier='100', exchange='SMART', currency='USD', localSymbol='SPX   190118P02850000', tradingClass='SPX')\n",
      "Error 10090, reqId 1588: Part of requested market data is not subscribed. Subscription-independent ticks are still active.Delayed market data is available.SPX S&P 500 Stock Index/TOP/ALL, contract: Contract(secType='OPT', conId=334829368, symbol='SPX', lastTradeDateOrContractMonth='20190117', strike=2855.0, right='P', multiplier='100', exchange='SMART', currency='USD', localSymbol='SPX   190118P02855000', tradingClass='SPX')\n",
      "Error 10090, reqId 1589: Part of requested market data is not subscribed. Subscription-independent ticks are still active.Delayed market data is available.SPX S&P 500 Stock Index/TOP/ALL, contract: Contract(secType='OPT', conId=334829381, symbol='SPX', lastTradeDateOrContractMonth='20190117', strike=2860.0, right='P', multiplier='100', exchange='SMART', currency='USD', localSymbol='SPX   190118P02860000', tradingClass='SPX')\n",
      "Error 10090, reqId 1590: Part of requested market data is not subscribed. Subscription-independent ticks are still active.Delayed market data is available.SPX S&P 500 Stock Index/TOP/ALL, contract: Contract(secType='OPT', conId=334829391, symbol='SPX', lastTradeDateOrContractMonth='20190117', strike=2865.0, right='P', multiplier='100', exchange='SMART', currency='USD', localSymbol='SPX   190118P02865000', tradingClass='SPX')\n",
      "Error 10090, reqId 1591: Part of requested market data is not subscribed. Subscription-independent ticks are still active.Delayed market data is available.SPX S&P 500 Stock Index/TOP/ALL, contract: Contract(secType='OPT', conId=334829396, symbol='SPX', lastTradeDateOrContractMonth='20190117', strike=2870.0, right='P', multiplier='100', exchange='SMART', currency='USD', localSymbol='SPX   190118P02870000', tradingClass='SPX')\n",
      "Error 10090, reqId 1592: Part of requested market data is not subscribed. Subscription-independent ticks are still active.Delayed market data is available.SPX S&P 500 Stock Index/TOP/ALL, contract: Contract(secType='OPT', conId=295209644, symbol='SPX', lastTradeDateOrContractMonth='20190117', strike=2875.0, right='P', multiplier='100', exchange='SMART', currency='USD', localSymbol='SPX   190118P02875000', tradingClass='SPX')\n",
      "Error 10090, reqId 1594: Part of requested market data is not subscribed. Subscription-independent ticks are still active.Delayed market data is available.SPX S&P 500 Stock Index/TOP/ALL, contract: Contract(secType='OPT', conId=334829421, symbol='SPX', lastTradeDateOrContractMonth='20190117', strike=2885.0, right='P', multiplier='100', exchange='SMART', currency='USD', localSymbol='SPX   190118P02885000', tradingClass='SPX')\n"
     ]
    },
    {
     "name": "stderr",
     "output_type": "stream",
     "text": [
      "Error 10090, reqId 1595: Part of requested market data is not subscribed. Subscription-independent ticks are still active.Delayed market data is available.SPX S&P 500 Stock Index/TOP/ALL, contract: Contract(secType='OPT', conId=334829433, symbol='SPX', lastTradeDateOrContractMonth='20190117', strike=2890.0, right='P', multiplier='100', exchange='SMART', currency='USD', localSymbol='SPX   190118P02890000', tradingClass='SPX')\n",
      "Error 10090, reqId 1596: Part of requested market data is not subscribed. Subscription-independent ticks are still active.Delayed market data is available.SPX S&P 500 Stock Index/TOP/ALL, contract: Contract(secType='OPT', conId=334829446, symbol='SPX', lastTradeDateOrContractMonth='20190117', strike=2895.0, right='P', multiplier='100', exchange='SMART', currency='USD', localSymbol='SPX   190118P02895000', tradingClass='SPX')\n",
      "Error 10090, reqId 1597: Part of requested market data is not subscribed. Subscription-independent ticks are still active.Delayed market data is available.SPX S&P 500 Stock Index/TOP/ALL, contract: Contract(secType='OPT', conId=290076176, symbol='SPX', lastTradeDateOrContractMonth='20190117', strike=2900.0, right='P', multiplier='100', exchange='SMART', currency='USD', localSymbol='SPX   190118P02900000', tradingClass='SPX')\n",
      "Error 10090, reqId 1598: Part of requested market data is not subscribed. Subscription-independent ticks are still active.Delayed market data is available.SPX S&P 500 Stock Index/TOP/ALL, contract: Contract(secType='OPT', conId=334829449, symbol='SPX', lastTradeDateOrContractMonth='20190117', strike=2905.0, right='P', multiplier='100', exchange='SMART', currency='USD', localSymbol='SPX   190118P02905000', tradingClass='SPX')\n",
      "Error 10090, reqId 1599: Part of requested market data is not subscribed. Subscription-independent ticks are still active.Delayed market data is available.SPX S&P 500 Stock Index/TOP/ALL, contract: Contract(secType='OPT', conId=334829463, symbol='SPX', lastTradeDateOrContractMonth='20190117', strike=2910.0, right='P', multiplier='100', exchange='SMART', currency='USD', localSymbol='SPX   190118P02910000', tradingClass='SPX')\n",
      "Error 10090, reqId 1600: Part of requested market data is not subscribed. Subscription-independent ticks are still active.Delayed market data is available.SPX S&P 500 Stock Index/TOP/ALL, contract: Contract(secType='OPT', conId=334829476, symbol='SPX', lastTradeDateOrContractMonth='20190117', strike=2915.0, right='P', multiplier='100', exchange='SMART', currency='USD', localSymbol='SPX   190118P02915000', tradingClass='SPX')\n",
      "Error 10090, reqId 1601: Part of requested market data is not subscribed. Subscription-independent ticks are still active.Delayed market data is available.SPX S&P 500 Stock Index/TOP/ALL, contract: Contract(secType='OPT', conId=334829488, symbol='SPX', lastTradeDateOrContractMonth='20190117', strike=2920.0, right='P', multiplier='100', exchange='SMART', currency='USD', localSymbol='SPX   190118P02920000', tradingClass='SPX')\n",
      "Error 10090, reqId 1602: Part of requested market data is not subscribed. Subscription-independent ticks are still active.Delayed market data is available.SPX S&P 500 Stock Index/TOP/ALL, contract: Contract(secType='OPT', conId=302976156, symbol='SPX', lastTradeDateOrContractMonth='20190117', strike=2925.0, right='P', multiplier='100', exchange='SMART', currency='USD', localSymbol='SPX   190118P02925000', tradingClass='SPX')\n",
      "Error 10090, reqId 1613: Part of requested market data is not subscribed. Subscription-independent ticks are still active.Delayed market data is available.SPX S&P 500 Stock Index/TOP/ALL, contract: Contract(secType='OPT', conId=334829618, symbol='SPX', lastTradeDateOrContractMonth='20190117', strike=2980.0, right='P', multiplier='100', exchange='SMART', currency='USD', localSymbol='SPX   190118P02980000', tradingClass='SPX')\n",
      "Error 10090, reqId 1603: Part of requested market data is not subscribed. Subscription-independent ticks are still active.Delayed market data is available.SPX S&P 500 Stock Index/TOP/ALL, contract: Contract(secType='OPT', conId=334829503, symbol='SPX', lastTradeDateOrContractMonth='20190117', strike=2930.0, right='P', multiplier='100', exchange='SMART', currency='USD', localSymbol='SPX   190118P02930000', tradingClass='SPX')\n",
      "Error 10090, reqId 1604: Part of requested market data is not subscribed. Subscription-independent ticks are still active.Delayed market data is available.SPX S&P 500 Stock Index/TOP/ALL, contract: Contract(secType='OPT', conId=334829517, symbol='SPX', lastTradeDateOrContractMonth='20190117', strike=2935.0, right='P', multiplier='100', exchange='SMART', currency='USD', localSymbol='SPX   190118P02935000', tradingClass='SPX')\n",
      "Error 10090, reqId 1605: Part of requested market data is not subscribed. Subscription-independent ticks are still active.Delayed market data is available.SPX S&P 500 Stock Index/TOP/ALL, contract: Contract(secType='OPT', conId=334829529, symbol='SPX', lastTradeDateOrContractMonth='20190117', strike=2940.0, right='P', multiplier='100', exchange='SMART', currency='USD', localSymbol='SPX   190118P02940000', tradingClass='SPX')\n",
      "Error 10090, reqId 1606: Part of requested market data is not subscribed. Subscription-independent ticks are still active.Delayed market data is available.SPX S&P 500 Stock Index/TOP/ALL, contract: Contract(secType='OPT', conId=334829546, symbol='SPX', lastTradeDateOrContractMonth='20190117', strike=2945.0, right='P', multiplier='100', exchange='SMART', currency='USD', localSymbol='SPX   190118P02945000', tradingClass='SPX')\n",
      "Error 10090, reqId 1607: Part of requested market data is not subscribed. Subscription-independent ticks are still active.Delayed market data is available.SPX S&P 500 Stock Index/TOP/ALL, contract: Contract(secType='OPT', conId=295209655, symbol='SPX', lastTradeDateOrContractMonth='20190117', strike=2950.0, right='P', multiplier='100', exchange='SMART', currency='USD', localSymbol='SPX   190118P02950000', tradingClass='SPX')\n",
      "Error 10090, reqId 1608: Part of requested market data is not subscribed. Subscription-independent ticks are still active.Delayed market data is available.SPX S&P 500 Stock Index/TOP/ALL, contract: Contract(secType='OPT', conId=334829566, symbol='SPX', lastTradeDateOrContractMonth='20190117', strike=2955.0, right='P', multiplier='100', exchange='SMART', currency='USD', localSymbol='SPX   190118P02955000', tradingClass='SPX')\n",
      "Error 10090, reqId 1609: Part of requested market data is not subscribed. Subscription-independent ticks are still active.Delayed market data is available.SPX S&P 500 Stock Index/TOP/ALL, contract: Contract(secType='OPT', conId=334829579, symbol='SPX', lastTradeDateOrContractMonth='20190117', strike=2960.0, right='P', multiplier='100', exchange='SMART', currency='USD', localSymbol='SPX   190118P02960000', tradingClass='SPX')\n",
      "Error 10090, reqId 1610: Part of requested market data is not subscribed. Subscription-independent ticks are still active.Delayed market data is available.SPX S&P 500 Stock Index/TOP/ALL, contract: Contract(secType='OPT', conId=334829589, symbol='SPX', lastTradeDateOrContractMonth='20190117', strike=2965.0, right='P', multiplier='100', exchange='SMART', currency='USD', localSymbol='SPX   190118P02965000', tradingClass='SPX')\n",
      "Error 10090, reqId 1611: Part of requested market data is not subscribed. Subscription-independent ticks are still active.Delayed market data is available.SPX S&P 500 Stock Index/TOP/ALL, contract: Contract(secType='OPT', conId=334829599, symbol='SPX', lastTradeDateOrContractMonth='20190117', strike=2970.0, right='P', multiplier='100', exchange='SMART', currency='USD', localSymbol='SPX   190118P02970000', tradingClass='SPX')\n",
      "Error 10090, reqId 1612: Part of requested market data is not subscribed. Subscription-independent ticks are still active.Delayed market data is available.SPX S&P 500 Stock Index/TOP/ALL, contract: Contract(secType='OPT', conId=302976160, symbol='SPX', lastTradeDateOrContractMonth='20190117', strike=2975.0, right='P', multiplier='100', exchange='SMART', currency='USD', localSymbol='SPX   190118P02975000', tradingClass='SPX')\n",
      "Error 10090, reqId 1614: Part of requested market data is not subscribed. Subscription-independent ticks are still active.Delayed market data is available.SPX S&P 500 Stock Index/TOP/ALL, contract: Contract(secType='OPT', conId=334829637, symbol='SPX', lastTradeDateOrContractMonth='20190117', strike=2985.0, right='P', multiplier='100', exchange='SMART', currency='USD', localSymbol='SPX   190118P02985000', tradingClass='SPX')\n"
     ]
    },
    {
     "name": "stderr",
     "output_type": "stream",
     "text": [
      "Error 10090, reqId 1615: Part of requested market data is not subscribed. Subscription-independent ticks are still active.Delayed market data is available.SPX S&P 500 Stock Index/TOP/ALL, contract: Contract(secType='OPT', conId=334829652, symbol='SPX', lastTradeDateOrContractMonth='20190117', strike=2990.0, right='P', multiplier='100', exchange='SMART', currency='USD', localSymbol='SPX   190118P02990000', tradingClass='SPX')\n",
      "Error 10090, reqId 1616: Part of requested market data is not subscribed. Subscription-independent ticks are still active.Delayed market data is available.SPX S&P 500 Stock Index/TOP/ALL, contract: Contract(secType='OPT', conId=334829671, symbol='SPX', lastTradeDateOrContractMonth='20190117', strike=2995.0, right='P', multiplier='100', exchange='SMART', currency='USD', localSymbol='SPX   190118P02995000', tradingClass='SPX')\n",
      "Error 10090, reqId 1617: Part of requested market data is not subscribed. Subscription-independent ticks are still active.Delayed market data is available.SPX S&P 500 Stock Index/TOP/ALL, contract: Contract(secType='OPT', conId=290076181, symbol='SPX', lastTradeDateOrContractMonth='20190117', strike=3000.0, right='P', multiplier='100', exchange='SMART', currency='USD', localSymbol='SPX   190118P03000000', tradingClass='SPX')\n",
      "Error 10090, reqId 1618: Part of requested market data is not subscribed. Subscription-independent ticks are still active.Delayed market data is available.SPX S&P 500 Stock Index/TOP/ALL, contract: Contract(secType='OPT', conId=334829683, symbol='SPX', lastTradeDateOrContractMonth='20190117', strike=3005.0, right='P', multiplier='100', exchange='SMART', currency='USD', localSymbol='SPX   190118P03005000', tradingClass='SPX')\n",
      "Error 10090, reqId 1619: Part of requested market data is not subscribed. Subscription-independent ticks are still active.Delayed market data is available.SPX S&P 500 Stock Index/TOP/ALL, contract: Contract(secType='OPT', conId=334829702, symbol='SPX', lastTradeDateOrContractMonth='20190117', strike=3010.0, right='P', multiplier='100', exchange='SMART', currency='USD', localSymbol='SPX   190118P03010000', tradingClass='SPX')\n",
      "Error 10090, reqId 1620: Part of requested market data is not subscribed. Subscription-independent ticks are still active.Delayed market data is available.SPX S&P 500 Stock Index/TOP/ALL, contract: Contract(secType='OPT', conId=334829720, symbol='SPX', lastTradeDateOrContractMonth='20190117', strike=3015.0, right='P', multiplier='100', exchange='SMART', currency='USD', localSymbol='SPX   190118P03015000', tradingClass='SPX')\n",
      "Error 10090, reqId 1621: Part of requested market data is not subscribed. Subscription-independent ticks are still active.Delayed market data is available.SPX S&P 500 Stock Index/TOP/ALL, contract: Contract(secType='OPT', conId=334829807, symbol='SPX', lastTradeDateOrContractMonth='20190117', strike=3020.0, right='P', multiplier='100', exchange='SMART', currency='USD', localSymbol='SPX   190118P03020000', tradingClass='SPX')\n",
      "Error 10090, reqId 1622: Part of requested market data is not subscribed. Subscription-independent ticks are still active.Delayed market data is available.SPX S&P 500 Stock Index/TOP/ALL, contract: Contract(secType='OPT', conId=304784904, symbol='SPX', lastTradeDateOrContractMonth='20190117', strike=3025.0, right='P', multiplier='100', exchange='SMART', currency='USD', localSymbol='SPX   190118P03025000', tradingClass='SPX')\n",
      "Error 10090, reqId 1623: Part of requested market data is not subscribed. Subscription-independent ticks are still active.Delayed market data is available.SPX S&P 500 Stock Index/TOP/ALL, contract: Contract(secType='OPT', conId=334829819, symbol='SPX', lastTradeDateOrContractMonth='20190117', strike=3030.0, right='P', multiplier='100', exchange='SMART', currency='USD', localSymbol='SPX   190118P03030000', tradingClass='SPX')\n",
      "Error 10090, reqId 1624: Part of requested market data is not subscribed. Subscription-independent ticks are still active.Delayed market data is available.SPX S&P 500 Stock Index/TOP/ALL, contract: Contract(secType='OPT', conId=334829841, symbol='SPX', lastTradeDateOrContractMonth='20190117', strike=3035.0, right='P', multiplier='100', exchange='SMART', currency='USD', localSymbol='SPX   190118P03035000', tradingClass='SPX')\n",
      "Error 10090, reqId 1625: Part of requested market data is not subscribed. Subscription-independent ticks are still active.Delayed market data is available.SPX S&P 500 Stock Index/TOP/ALL, contract: Contract(secType='OPT', conId=334829863, symbol='SPX', lastTradeDateOrContractMonth='20190117', strike=3040.0, right='P', multiplier='100', exchange='SMART', currency='USD', localSymbol='SPX   190118P03040000', tradingClass='SPX')\n",
      "Error 10090, reqId 1626: Part of requested market data is not subscribed. Subscription-independent ticks are still active.Delayed market data is available.SPX S&P 500 Stock Index/TOP/ALL, contract: Contract(secType='OPT', conId=334829875, symbol='SPX', lastTradeDateOrContractMonth='20190117', strike=3045.0, right='P', multiplier='100', exchange='SMART', currency='USD', localSymbol='SPX   190118P03045000', tradingClass='SPX')\n",
      "Error 10090, reqId 1627: Part of requested market data is not subscribed. Subscription-independent ticks are still active.Delayed market data is available.SPX S&P 500 Stock Index/TOP/ALL, contract: Contract(secType='OPT', conId=302976165, symbol='SPX', lastTradeDateOrContractMonth='20190117', strike=3050.0, right='P', multiplier='100', exchange='SMART', currency='USD', localSymbol='SPX   190118P03050000', tradingClass='SPX')\n",
      "Error 10090, reqId 1628: Part of requested market data is not subscribed. Subscription-independent ticks are still active.Delayed market data is available.SPX S&P 500 Stock Index/TOP/ALL, contract: Contract(secType='OPT', conId=334829884, symbol='SPX', lastTradeDateOrContractMonth='20190117', strike=3055.0, right='P', multiplier='100', exchange='SMART', currency='USD', localSymbol='SPX   190118P03055000', tradingClass='SPX')\n"
     ]
    },
    {
     "name": "stdout",
     "output_type": "stream",
     "text": [
      "SPX   190118P02425000 -1.0 -1.0\n",
      "SPX   190118P02470000 -1.0 -1.0\n",
      "SPX   190118P02195000 -1.0 -1.0\n",
      "SPX   190118P02225000 -1.0 -1.0\n",
      "SPX   190118P02255000 -1.0 -1.0\n",
      "SPX   190118P02285000 -1.0 -1.0\n",
      "SPX   190118P02360000 -1.0 -1.0\n",
      "SPX   190118P02390000 -1.0 -1.0\n",
      "SPX   190118P02515000 -1.0 -1.0\n",
      "SPX   190118P02485000 -1.0 -1.0\n",
      "SPX   190118P02545000 -1.0 -1.0\n",
      "SPX   190118P02575000 -1.0 -1.0\n",
      "SPX   190118P01100000 -1.0 -1.0\n",
      "SPX   190118P01325000 -1.0 -1.0\n",
      "SPX   190118P01550000 -1.0 -1.0\n",
      "SPX   190118P01775000 -1.0 -1.0\n",
      "SPX   190118P01860000 -1.0 -1.0\n",
      "SPX   190118P01930000 -1.0 -1.0\n",
      "SPX   190118P02010000 -1.0 -1.0\n",
      "SPX   190118P02110000 -1.0 -1.0\n",
      "SPX   190118P02155000 -1.0 -1.0\n",
      "SPX   190118P02200000 -1.0 -1.0\n",
      "SPX   190118P02310000 -1.0 -1.0\n",
      "SPX   190118P02340000 -1.0 -1.0\n",
      "SPX   190118P02415000 -1.0 -1.0\n",
      "SPX   190118P02460000 -1.0 -1.0\n",
      "SPX   190118P02505000 -1.0 -1.0\n",
      "SPX   190118P02535000 -1.0 -1.0\n",
      "SPX   190118P00950000 -1.0 -1.0\n",
      "SPX   190118P01175000 -1.0 -1.0\n",
      "SPX   190118P01400000 -1.0 -1.0\n",
      "SPX   190118P01625000 -1.0 -1.0\n",
      "SPX   190118P01880000 -1.0 -1.0\n",
      "SPX   190118P01960000 -1.0 -1.0\n",
      "SPX   190118P02030000 -1.0 -1.0\n",
      "SPX   190118P02080000 -1.0 -1.0\n",
      "SPX   190118P02125000 -1.0 -1.0\n",
      "SPX   190118P02170000 -1.0 -1.0\n",
      "SPX   190118P02290000 -1.0 -1.0\n",
      "SPX   190118P02230000 -1.0 -1.0\n",
      "SPX   190118P02260000 -1.0 -1.0\n",
      "SPX   190118P02365000 -1.0 -1.0\n",
      "SPX   190118P02540000 -1.0 -1.0\n",
      "SPX   190118P02570000 -1.0 -1.0\n",
      "SPX   190118P00850000 -1.0 -1.0\n",
      "SPX   190118P01075000 -1.0 -1.0\n",
      "SPX   190118P01300000 -1.0 -1.0\n",
      "SPX   190118P01525000 -1.0 -1.0\n",
      "SPX   190118P01750000 -1.0 -1.0\n",
      "SPX   190118P01850000 -1.0 -1.0\n",
      "SPX   190118P01925000 -1.0 -1.0\n",
      "SPX   190118P02000000 -1.0 -1.0\n",
      "SPX   190118P02105000 -1.0 -1.0\n",
      "SPX   190118P02060000 -1.0 -1.0\n",
      "SPX   190118P02315000 -1.0 -1.0\n",
      "SPX   190118P02345000 -1.0 -1.0\n",
      "SPX   190118P02420000 -1.0 -1.0\n",
      "SPX   190118P02465000 -1.0 -1.0\n",
      "SPX   190118P02510000 -1.0 -1.0\n",
      "SPX   190118P02205000 -1.0 -1.0\n",
      "SPX   190118P02235000 -1.0 -1.0\n",
      "SPX   190118P02295000 -1.0 -1.0\n",
      "SPX   190118P02370000 -1.0 -1.0\n",
      "SPX   190118P02565000 -1.0 -1.0\n",
      "SPX   190118P01050000 -1.0 -1.0\n",
      "SPX   190118P01275000 -1.0 -1.0\n",
      "SPX   190118P01500000 -1.0 -1.0\n",
      "SPX   190118P01725000 -1.0 -1.0\n",
      "SPX   190118P01840000 -1.0 -1.0\n",
      "SPX   190118P01920000 -1.0 -1.0\n",
      "SPX   190118P01990000 -1.0 -1.0\n",
      "SPX   190118P02100000 -1.0 -1.0\n",
      "SPX   190118P02145000 -1.0 -1.0\n",
      "SPX   190118P02190000 -1.0 -1.0\n",
      "SPX   190118P02320000 -1.0 -1.0\n",
      "SPX   190118P02395000 -1.0 -1.0\n",
      "SPX   190118P02440000 -1.0 -1.0\n",
      "SPX   190118P02180000 -1.0 -1.0\n",
      "SPX   190118P02210000 -1.0 -1.0\n",
      "SPX   190118P02240000 -1.0 -1.0\n",
      "SPX   190118P02270000 -1.0 -1.0\n",
      "SPX   190118P02300000 -1.0 -1.0\n",
      "SPX   190118P02375000 -1.0 -1.0\n",
      "SPX   190118P02560000 -1.0 -1.0\n",
      "SPX   190118P00800000 -1.0 -1.0\n",
      "SPX   190118P01025000 -1.0 -1.0\n",
      "SPX   190118P01250000 -1.0 -1.0\n",
      "SPX   190118P01475000 -1.0 -1.0\n",
      "SPX   190118P01700000 -1.0 -1.0\n",
      "SPX   190118P01910000 -1.0 -1.0\n",
      "SPX   190118P01980000 -1.0 -1.0\n",
      "SPX   190118P02050000 -1.0 -1.0\n",
      "SPX   190118P02140000 -1.0 -1.0\n",
      "SPX   190118P02185000 -1.0 -1.0\n",
      "SPX   190118P02435000 -1.0 -1.0\n",
      "SPX   190118P02450000 -1.0 -1.0\n",
      "SPX   190118P02480000 -1.0 -1.0\n",
      "SPX   190118P02245000 -1.0 -1.0\n",
      "SPX   190118P02215000 -1.0 -1.0\n",
      "SPX   190118P02275000 -1.0 -1.0\n",
      "SPX   190118P02350000 -1.0 -1.0\n",
      "SPX   190118P02380000 -1.0 -1.0\n",
      "SPX   190118P02495000 -1.0 -1.0\n",
      "SPX   190118P02525000 -1.0 -1.0\n",
      "SPX   190118P02555000 -1.0 -1.0\n",
      "SPX   190118P01150000 -1.0 -1.0\n",
      "SPX   190118P01375000 -1.0 -1.0\n",
      "SPX   190118P01600000 -1.0 -1.0\n",
      "SPX   190118P01800000 -1.0 -1.0\n",
      "SPX   190118P01875000 -1.0 -1.0\n",
      "SPX   190118P01950000 -1.0 -1.0\n",
      "SPX   190118P02025000 -1.0 -1.0\n",
      "SPX   190118P02075000 -1.0 -1.0\n",
      "SPX   190118P02120000 -1.0 -1.0\n",
      "SPX   190118P02165000 -1.0 -1.0\n",
      "SPX   190118P02150000 -1.0 -1.0\n",
      "SPX   190118P02330000 -1.0 -1.0\n",
      "SPX   190118P02405000 -1.0 -1.0\n",
      "SPX   190118P01000000 -1.0 -1.0\n",
      "SPX   190118P01225000 -1.0 -1.0\n",
      "SPX   190118P00750000 -1.0 -1.0\n",
      "SPX   190118P01450000 -1.0 -1.0\n",
      "SPX   190118P01675000 -1.0 -1.0\n",
      "SPX   190118P01825000 -1.0 -1.0\n",
      "SPX   190118P01900000 -1.0 -1.0\n",
      "SPX   190118P01975000 -1.0 -1.0\n",
      "SPX   190118P02090000 -1.0 -1.0\n",
      "SPX   190118P02135000 -1.0 -1.0\n",
      "SPX   190118P02325000 -1.0 -1.0\n",
      "SPX   190118P02400000 -1.0 -1.0\n",
      "SPX   190118P02430000 -1.0 -1.0\n",
      "SPX   190118P02445000 -1.0 -1.0\n",
      "SPX   190118P02475000 -1.0 -1.0\n",
      "SPX   190118P02250000 -1.0 -1.0\n",
      "SPX   190118P02280000 -1.0 -1.0\n",
      "SPX   190118P02355000 -1.0 -1.0\n",
      "SPX   190118P02385000 -1.0 -1.0\n",
      "SPX   190118P02490000 -1.0 -1.0\n",
      "SPX   190118P02520000 -1.0 -1.0\n",
      "SPX   190118P02550000 -1.0 -1.0\n",
      "SPX   190118P02580000 -1.0 -1.0\n",
      "SPX   190118P00900000 -1.0 -1.0\n",
      "SPX   190118P01125000 -1.0 -1.0\n",
      "SPX   190118P01350000 -1.0 -1.0\n",
      "SPX   190118P01575000 -1.0 -1.0\n",
      "SPX   190118P01870000 -1.0 -1.0\n",
      "SPX   190118P01940000 -1.0 -1.0\n",
      "SPX   190118P02020000 -1.0 -1.0\n",
      "SPX   190118P02070000 -1.0 -1.0\n",
      "SPX   190118P02115000 -1.0 -1.0\n",
      "SPX   190118P02160000 -1.0 -1.0\n",
      "SPX   190118P02335000 -1.0 -1.0\n",
      "SPX   190118P02305000 -1.0 -1.0\n",
      "SPX   190118P02410000 -1.0 -1.0\n",
      "SPX   190118P02455000 -1.0 -1.0\n",
      "SPX   190118P02500000 -1.0 -1.0\n",
      "SPX   190118P02530000 -1.0 -1.0\n",
      "SPX   190118P01200000 -1.0 -1.0\n",
      "SPX   190118P01425000 -1.0 -1.0\n",
      "SPX   190118P01650000 -1.0 -1.0\n",
      "SPX   190118P01890000 -1.0 -1.0\n",
      "SPX   190118P01970000 -1.0 -1.0\n",
      "SPX   190118P02040000 -1.0 -1.0\n",
      "SPX   190118P02130000 -1.0 -1.0\n",
      "SPX   190118P02175000 -1.0 -1.0\n",
      "SPX   190118P02220000 -1.0 -1.0\n",
      "SPX   190118P02265000 -1.0 -1.0\n"
     ]
    },
    {
     "name": "stderr",
     "output_type": "stream",
     "text": [
      "Error 10090, reqId 1629: Part of requested market data is not subscribed. Subscription-independent ticks are still active.Delayed market data is available.SPX S&P 500 Stock Index/TOP/ALL, contract: Contract(secType='OPT', conId=334829902, symbol='SPX', lastTradeDateOrContractMonth='20190117', strike=3060.0, right='P', multiplier='100', exchange='SMART', currency='USD', localSymbol='SPX   190118P03060000', tradingClass='SPX')\n",
      "Error 10090, reqId 1630: Part of requested market data is not subscribed. Subscription-independent ticks are still active.Delayed market data is available.SPX S&P 500 Stock Index/TOP/ALL, contract: Contract(secType='OPT', conId=334829914, symbol='SPX', lastTradeDateOrContractMonth='20190117', strike=3065.0, right='P', multiplier='100', exchange='SMART', currency='USD', localSymbol='SPX   190118P03065000', tradingClass='SPX')\n",
      "Error 10090, reqId 1631: Part of requested market data is not subscribed. Subscription-independent ticks are still active.Delayed market data is available.SPX S&P 500 Stock Index/TOP/ALL, contract: Contract(secType='OPT', conId=334829926, symbol='SPX', lastTradeDateOrContractMonth='20190117', strike=3070.0, right='P', multiplier='100', exchange='SMART', currency='USD', localSymbol='SPX   190118P03070000', tradingClass='SPX')\n",
      "Error 10090, reqId 1632: Part of requested market data is not subscribed. Subscription-independent ticks are still active.Delayed market data is available.SPX S&P 500 Stock Index/TOP/ALL, contract: Contract(secType='OPT', conId=304784909, symbol='SPX', lastTradeDateOrContractMonth='20190117', strike=3075.0, right='P', multiplier='100', exchange='SMART', currency='USD', localSymbol='SPX   190118P03075000', tradingClass='SPX')\n",
      "Error 10090, reqId 1633: Part of requested market data is not subscribed. Subscription-independent ticks are still active.Delayed market data is available.SPX S&P 500 Stock Index/TOP/ALL, contract: Contract(secType='OPT', conId=334829938, symbol='SPX', lastTradeDateOrContractMonth='20190117', strike=3080.0, right='P', multiplier='100', exchange='SMART', currency='USD', localSymbol='SPX   190118P03080000', tradingClass='SPX')\n",
      "Error 10090, reqId 1634: Part of requested market data is not subscribed. Subscription-independent ticks are still active.Delayed market data is available.SPX S&P 500 Stock Index/TOP/ALL, contract: Contract(secType='OPT', conId=334829949, symbol='SPX', lastTradeDateOrContractMonth='20190117', strike=3085.0, right='P', multiplier='100', exchange='SMART', currency='USD', localSymbol='SPX   190118P03085000', tradingClass='SPX')\n",
      "Error 10090, reqId 1635: Part of requested market data is not subscribed. Subscription-independent ticks are still active.Delayed market data is available.SPX S&P 500 Stock Index/TOP/ALL, contract: Contract(secType='OPT', conId=334829959, symbol='SPX', lastTradeDateOrContractMonth='20190117', strike=3090.0, right='P', multiplier='100', exchange='SMART', currency='USD', localSymbol='SPX   190118P03090000', tradingClass='SPX')\n",
      "Error 10090, reqId 1636: Part of requested market data is not subscribed. Subscription-independent ticks are still active.Delayed market data is available.SPX S&P 500 Stock Index/TOP/ALL, contract: Contract(secType='OPT', conId=334829971, symbol='SPX', lastTradeDateOrContractMonth='20190117', strike=3095.0, right='P', multiplier='100', exchange='SMART', currency='USD', localSymbol='SPX   190118P03095000', tradingClass='SPX')\n",
      "Error 10090, reqId 1637: Part of requested market data is not subscribed. Subscription-independent ticks are still active.Delayed market data is available.SPX S&P 500 Stock Index/TOP/ALL, contract: Contract(secType='OPT', conId=290076186, symbol='SPX', lastTradeDateOrContractMonth='20190117', strike=3100.0, right='P', multiplier='100', exchange='SMART', currency='USD', localSymbol='SPX   190118P03100000', tradingClass='SPX')\n",
      "Error 10090, reqId 1638: Part of requested market data is not subscribed. Subscription-independent ticks are still active.Delayed market data is available.SPX S&P 500 Stock Index/TOP/ALL, contract: Contract(secType='OPT', conId=334829980, symbol='SPX', lastTradeDateOrContractMonth='20190117', strike=3105.0, right='P', multiplier='100', exchange='SMART', currency='USD', localSymbol='SPX   190118P03105000', tradingClass='SPX')\n",
      "Error 10090, reqId 1639: Part of requested market data is not subscribed. Subscription-independent ticks are still active.Delayed market data is available.SPX S&P 500 Stock Index/TOP/ALL, contract: Contract(secType='OPT', conId=334829999, symbol='SPX', lastTradeDateOrContractMonth='20190117', strike=3110.0, right='P', multiplier='100', exchange='SMART', currency='USD', localSymbol='SPX   190118P03110000', tradingClass='SPX')\n",
      "Error 10090, reqId 1640: Part of requested market data is not subscribed. Subscription-independent ticks are still active.Delayed market data is available.SPX S&P 500 Stock Index/TOP/ALL, contract: Contract(secType='OPT', conId=334830011, symbol='SPX', lastTradeDateOrContractMonth='20190117', strike=3115.0, right='P', multiplier='100', exchange='SMART', currency='USD', localSymbol='SPX   190118P03115000', tradingClass='SPX')\n",
      "Error 10090, reqId 1641: Part of requested market data is not subscribed. Subscription-independent ticks are still active.Delayed market data is available.SPX S&P 500 Stock Index/TOP/ALL, contract: Contract(secType='OPT', conId=334830019, symbol='SPX', lastTradeDateOrContractMonth='20190117', strike=3120.0, right='P', multiplier='100', exchange='SMART', currency='USD', localSymbol='SPX   190118P03120000', tradingClass='SPX')\n",
      "Error 10090, reqId 1642: Part of requested market data is not subscribed. Subscription-independent ticks are still active.Delayed market data is available.SPX S&P 500 Stock Index/TOP/ALL, contract: Contract(secType='OPT', conId=304784915, symbol='SPX', lastTradeDateOrContractMonth='20190117', strike=3125.0, right='P', multiplier='100', exchange='SMART', currency='USD', localSymbol='SPX   190118P03125000', tradingClass='SPX')\n",
      "Error 10090, reqId 1643: Part of requested market data is not subscribed. Subscription-independent ticks are still active.Delayed market data is available.SPX S&P 500 Stock Index/TOP/ALL, contract: Contract(secType='OPT', conId=334830028, symbol='SPX', lastTradeDateOrContractMonth='20190117', strike=3130.0, right='P', multiplier='100', exchange='SMART', currency='USD', localSymbol='SPX   190118P03130000', tradingClass='SPX')\n",
      "Error 10090, reqId 1647: Part of requested market data is not subscribed. Subscription-independent ticks are still active.Delayed market data is available.SPX S&P 500 Stock Index/TOP/ALL, contract: Contract(secType='OPT', conId=302976170, symbol='SPX', lastTradeDateOrContractMonth='20190117', strike=3150.0, right='P', multiplier='100', exchange='SMART', currency='USD', localSymbol='SPX   190118P03150000', tradingClass='SPX')\n",
      "Error 10090, reqId 1646: Part of requested market data is not subscribed. Subscription-independent ticks are still active.Delayed market data is available.SPX S&P 500 Stock Index/TOP/ALL, contract: Contract(secType='OPT', conId=334830064, symbol='SPX', lastTradeDateOrContractMonth='20190117', strike=3145.0, right='P', multiplier='100', exchange='SMART', currency='USD', localSymbol='SPX   190118P03145000', tradingClass='SPX')\n",
      "Error 10090, reqId 1653: Part of requested market data is not subscribed. Subscription-independent ticks are still active.Delayed market data is available.SPX S&P 500 Stock Index/TOP/ALL, contract: Contract(secType='OPT', conId=290076191, symbol='SPX', lastTradeDateOrContractMonth='20190117', strike=3200.0, right='P', multiplier='100', exchange='SMART', currency='USD', localSymbol='SPX   190118P03200000', tradingClass='SPX')\n",
      "Error 10090, reqId 1649: Part of requested market data is not subscribed. Subscription-independent ticks are still active.Delayed market data is available.SPX S&P 500 Stock Index/TOP/ALL, contract: Contract(secType='OPT', conId=334830086, symbol='SPX', lastTradeDateOrContractMonth='20190117', strike=3170.0, right='P', multiplier='100', exchange='SMART', currency='USD', localSymbol='SPX   190118P03170000', tradingClass='SPX')\n",
      "Error 10090, reqId 1654: Part of requested market data is not subscribed. Subscription-independent ticks are still active.Delayed market data is available.SPX S&P 500 Stock Index/TOP/ALL, contract: Contract(secType='OPT', conId=334830123, symbol='SPX', lastTradeDateOrContractMonth='20190117', strike=3210.0, right='P', multiplier='100', exchange='SMART', currency='USD', localSymbol='SPX   190118P03210000', tradingClass='SPX')\n"
     ]
    },
    {
     "name": "stderr",
     "output_type": "stream",
     "text": [
      "Error 10090, reqId 1648: Part of requested market data is not subscribed. Subscription-independent ticks are still active.Delayed market data is available.SPX S&P 500 Stock Index/TOP/ALL, contract: Contract(secType='OPT', conId=334830074, symbol='SPX', lastTradeDateOrContractMonth='20190117', strike=3160.0, right='P', multiplier='100', exchange='SMART', currency='USD', localSymbol='SPX   190118P03160000', tradingClass='SPX')\n",
      "Error 10090, reqId 1652: Part of requested market data is not subscribed. Subscription-independent ticks are still active.Delayed market data is available.SPX S&P 500 Stock Index/TOP/ALL, contract: Contract(secType='OPT', conId=334830113, symbol='SPX', lastTradeDateOrContractMonth='20190117', strike=3190.0, right='P', multiplier='100', exchange='SMART', currency='USD', localSymbol='SPX   190118P03190000', tradingClass='SPX')\n",
      "Error 10090, reqId 1645: Part of requested market data is not subscribed. Subscription-independent ticks are still active.Delayed market data is available.SPX S&P 500 Stock Index/TOP/ALL, contract: Contract(secType='OPT', conId=334830052, symbol='SPX', lastTradeDateOrContractMonth='20190117', strike=3140.0, right='P', multiplier='100', exchange='SMART', currency='USD', localSymbol='SPX   190118P03140000', tradingClass='SPX')\n",
      "Error 10090, reqId 1650: Part of requested market data is not subscribed. Subscription-independent ticks are still active.Delayed market data is available.SPX S&P 500 Stock Index/TOP/ALL, contract: Contract(secType='OPT', conId=304784918, symbol='SPX', lastTradeDateOrContractMonth='20190117', strike=3175.0, right='P', multiplier='100', exchange='SMART', currency='USD', localSymbol='SPX   190118P03175000', tradingClass='SPX')\n",
      "Error 10090, reqId 1651: Part of requested market data is not subscribed. Subscription-independent ticks are still active.Delayed market data is available.SPX S&P 500 Stock Index/TOP/ALL, contract: Contract(secType='OPT', conId=334830098, symbol='SPX', lastTradeDateOrContractMonth='20190117', strike=3180.0, right='P', multiplier='100', exchange='SMART', currency='USD', localSymbol='SPX   190118P03180000', tradingClass='SPX')\n",
      "Error 10090, reqId 1644: Part of requested market data is not subscribed. Subscription-independent ticks are still active.Delayed market data is available.SPX S&P 500 Stock Index/TOP/ALL, contract: Contract(secType='OPT', conId=334830039, symbol='SPX', lastTradeDateOrContractMonth='20190117', strike=3135.0, right='P', multiplier='100', exchange='SMART', currency='USD', localSymbol='SPX   190118P03135000', tradingClass='SPX')\n",
      "Error 10090, reqId 1659: Part of requested market data is not subscribed. Subscription-independent ticks are still active.Delayed market data is available.SPX S&P 500 Stock Index/TOP/ALL, contract: Contract(secType='OPT', conId=290076195, symbol='SPX', lastTradeDateOrContractMonth='20190117', strike=3300.0, right='P', multiplier='100', exchange='SMART', currency='USD', localSymbol='SPX   190118P03300000', tradingClass='SPX')\n",
      "Error 10090, reqId 1655: Part of requested market data is not subscribed. Subscription-independent ticks are still active.Delayed market data is available.SPX S&P 500 Stock Index/TOP/ALL, contract: Contract(secType='OPT', conId=334830133, symbol='SPX', lastTradeDateOrContractMonth='20190117', strike=3220.0, right='P', multiplier='100', exchange='SMART', currency='USD', localSymbol='SPX   190118P03220000', tradingClass='SPX')\n",
      "Error 10090, reqId 1656: Part of requested market data is not subscribed. Subscription-independent ticks are still active.Delayed market data is available.SPX S&P 500 Stock Index/TOP/ALL, contract: Contract(secType='OPT', conId=332319754, symbol='SPX', lastTradeDateOrContractMonth='20190117', strike=3225.0, right='P', multiplier='100', exchange='SMART', currency='USD', localSymbol='SPX   190118P03225000', tradingClass='SPX')\n",
      "Error 10090, reqId 1663: Part of requested market data is not subscribed. Subscription-independent ticks are still active.Delayed market data is available.SPX S&P 500 Stock Index/TOP/ALL, contract: Contract(secType='OPT', conId=290076204, symbol='SPX', lastTradeDateOrContractMonth='20190117', strike=3600.0, right='P', multiplier='100', exchange='SMART', currency='USD', localSymbol='SPX   190118P03600000', tradingClass='SPX')\n",
      "Error 10090, reqId 1660: Part of requested market data is not subscribed. Subscription-independent ticks are still active.Delayed market data is available.SPX S&P 500 Stock Index/TOP/ALL, contract: Contract(secType='OPT', conId=334181726, symbol='SPX', lastTradeDateOrContractMonth='20190117', strike=3350.0, right='P', multiplier='100', exchange='SMART', currency='USD', localSymbol='SPX   190118P03350000', tradingClass='SPX')\n",
      "Error 10090, reqId 1658: Part of requested market data is not subscribed. Subscription-independent ticks are still active.Delayed market data is available.SPX S&P 500 Stock Index/TOP/ALL, contract: Contract(secType='OPT', conId=334181723, symbol='SPX', lastTradeDateOrContractMonth='20190117', strike=3275.0, right='P', multiplier='100', exchange='SMART', currency='USD', localSymbol='SPX   190118P03275000', tradingClass='SPX')\n",
      "Error 10090, reqId 1661: Part of requested market data is not subscribed. Subscription-independent ticks are still active.Delayed market data is available.SPX S&P 500 Stock Index/TOP/ALL, contract: Contract(secType='OPT', conId=290076198, symbol='SPX', lastTradeDateOrContractMonth='20190117', strike=3400.0, right='P', multiplier='100', exchange='SMART', currency='USD', localSymbol='SPX   190118P03400000', tradingClass='SPX')\n",
      "Error 10090, reqId 1662: Part of requested market data is not subscribed. Subscription-independent ticks are still active.Delayed market data is available.SPX S&P 500 Stock Index/TOP/ALL, contract: Contract(secType='OPT', conId=290076201, symbol='SPX', lastTradeDateOrContractMonth='20190117', strike=3500.0, right='P', multiplier='100', exchange='SMART', currency='USD', localSymbol='SPX   190118P03500000', tradingClass='SPX')\n",
      "Error 10090, reqId 1657: Part of requested market data is not subscribed. Subscription-independent ticks are still active.Delayed market data is available.SPX S&P 500 Stock Index/TOP/ALL, contract: Contract(secType='OPT', conId=304784921, symbol='SPX', lastTradeDateOrContractMonth='20190117', strike=3250.0, right='P', multiplier='100', exchange='SMART', currency='USD', localSymbol='SPX   190118P03250000', tradingClass='SPX')\n",
      "Error 10090, reqId 1664: Part of requested market data is not subscribed. Subscription-independent ticks are still active.Delayed market data is available.SPX S&P 500 Stock Index/TOP/ALL, contract: Contract(secType='OPT', conId=302976175, symbol='SPX', lastTradeDateOrContractMonth='20190117', strike=3700.0, right='P', multiplier='100', exchange='SMART', currency='USD', localSymbol='SPX   190118P03700000', tradingClass='SPX')\n",
      "Error 10090, reqId 1666: Part of requested market data is not subscribed. Subscription-independent ticks are still active.Delayed market data is available.SPX S&P 500 Stock Index/TOP/ALL, contract: Contract(secType='OPT', conId=302976180, symbol='SPX', lastTradeDateOrContractMonth='20190117', strike=3900.0, right='P', multiplier='100', exchange='SMART', currency='USD', localSymbol='SPX   190118P03900000', tradingClass='SPX')\n",
      "Error 10090, reqId 1667: Part of requested market data is not subscribed. Subscription-independent ticks are still active.Delayed market data is available.SPX S&P 500 Stock Index/TOP/ALL, contract: Contract(secType='OPT', conId=302976187, symbol='SPX', lastTradeDateOrContractMonth='20190117', strike=4000.0, right='P', multiplier='100', exchange='SMART', currency='USD', localSymbol='SPX   190118P04000000', tradingClass='SPX')\n",
      "Error 10090, reqId 1665: Part of requested market data is not subscribed. Subscription-independent ticks are still active.Delayed market data is available.SPX S&P 500 Stock Index/TOP/ALL, contract: Contract(secType='OPT', conId=302976177, symbol='SPX', lastTradeDateOrContractMonth='20190117', strike=3800.0, right='P', multiplier='100', exchange='SMART', currency='USD', localSymbol='SPX   190118P03800000', tradingClass='SPX')\n",
      "Error 200, reqId 1668: No security definition has been found for the request, contract: Contract(secType='OPT', symbol='SPX', lastTradeDateOrContractMonth='20190117', strike=4100.0, right='P', exchange='SMART')\n"
     ]
    },
    {
     "name": "stderr",
     "output_type": "stream",
     "text": [
      "Error 200, reqId 1669: No security definition has been found for the request, contract: Contract(secType='OPT', symbol='SPX', lastTradeDateOrContractMonth='20190117', strike=4200.0, right='P', exchange='SMART')\n",
      "Error 200, reqId 1670: No security definition has been found for the request, contract: Contract(secType='OPT', symbol='SPX', lastTradeDateOrContractMonth='20190117', strike=100.0, right='C', exchange='SMART')\n",
      "Error 200, reqId 1671: No security definition has been found for the request, contract: Contract(secType='OPT', symbol='SPX', lastTradeDateOrContractMonth='20190117', strike=200.0, right='C', exchange='SMART')\n",
      "Error 200, reqId 1673: No security definition has been found for the request, contract: Contract(secType='OPT', symbol='SPX', lastTradeDateOrContractMonth='20190117', strike=300.0, right='C', exchange='SMART')\n",
      "Error 200, reqId 1672: No security definition has been found for the request, contract: Contract(secType='OPT', symbol='SPX', lastTradeDateOrContractMonth='20190117', strike=250.0, right='C', exchange='SMART')\n",
      "Error 200, reqId 1674: No security definition has been found for the request, contract: Contract(secType='OPT', symbol='SPX', lastTradeDateOrContractMonth='20190117', strike=400.0, right='C', exchange='SMART')\n",
      "Error 200, reqId 1675: No security definition has been found for the request, contract: Contract(secType='OPT', symbol='SPX', lastTradeDateOrContractMonth='20190117', strike=500.0, right='C', exchange='SMART')\n",
      "Error 10090, reqId 1680: Part of requested market data is not subscribed. Subscription-independent ticks are still active.Delayed market data is available.SPX S&P 500 Stock Index/TOP/ALL, contract: Contract(secType='OPT', conId=346047548, symbol='SPX', lastTradeDateOrContractMonth='20190117', strike=750.0, right='C', multiplier='100', exchange='SMART', currency='USD', localSymbol='SPX   190118C00750000', tradingClass='SPX')\n",
      "Error 10090, reqId 1681: Part of requested market data is not subscribed. Subscription-independent ticks are still active.Delayed market data is available.SPX S&P 500 Stock Index/TOP/ALL, contract: Contract(secType='OPT', conId=345951601, symbol='SPX', lastTradeDateOrContractMonth='20190117', strike=800.0, right='C', multiplier='100', exchange='SMART', currency='USD', localSymbol='SPX   190118C00800000', tradingClass='SPX')\n",
      "Error 200, reqId 1676: No security definition has been found for the request, contract: Contract(secType='OPT', symbol='SPX', lastTradeDateOrContractMonth='20190117', strike=550.0, right='C', exchange='SMART')\n",
      "Error 200, reqId 1677: No security definition has been found for the request, contract: Contract(secType='OPT', symbol='SPX', lastTradeDateOrContractMonth='20190117', strike=600.0, right='C', exchange='SMART')\n",
      "Error 200, reqId 1678: No security definition has been found for the request, contract: Contract(secType='OPT', symbol='SPX', lastTradeDateOrContractMonth='20190117', strike=650.0, right='C', exchange='SMART')\n",
      "Error 200, reqId 1679: No security definition has been found for the request, contract: Contract(secType='OPT', symbol='SPX', lastTradeDateOrContractMonth='20190117', strike=700.0, right='C', exchange='SMART')\n",
      "Error 200, reqId 1682: No security definition has been found for the request, contract: Contract(secType='OPT', symbol='SPX', lastTradeDateOrContractMonth='20190117', strike=825.0, right='C', exchange='SMART')\n",
      "Error 200, reqId 1684: No security definition has been found for the request, contract: Contract(secType='OPT', symbol='SPX', lastTradeDateOrContractMonth='20190117', strike=875.0, right='C', exchange='SMART')\n",
      "Error 200, reqId 1686: No security definition has been found for the request, contract: Contract(secType='OPT', symbol='SPX', lastTradeDateOrContractMonth='20190117', strike=925.0, right='C', exchange='SMART')\n",
      "Error 10090, reqId 1683: Part of requested market data is not subscribed. Subscription-independent ticks are still active.Delayed market data is available.SPX S&P 500 Stock Index/TOP/ALL, contract: Contract(secType='OPT', conId=345951614, symbol='SPX', lastTradeDateOrContractMonth='20190117', strike=850.0, right='C', multiplier='100', exchange='SMART', currency='USD', localSymbol='SPX   190118C00850000', tradingClass='SPX')\n",
      "Error 10090, reqId 1685: Part of requested market data is not subscribed. Subscription-independent ticks are still active.Delayed market data is available.SPX S&P 500 Stock Index/TOP/ALL, contract: Contract(secType='OPT', conId=345951617, symbol='SPX', lastTradeDateOrContractMonth='20190117', strike=900.0, right='C', multiplier='100', exchange='SMART', currency='USD', localSymbol='SPX   190118C00900000', tradingClass='SPX')\n",
      "Error 10090, reqId 1687: Part of requested market data is not subscribed. Subscription-independent ticks are still active.Delayed market data is available.SPX S&P 500 Stock Index/TOP/ALL, contract: Contract(secType='OPT', conId=345951630, symbol='SPX', lastTradeDateOrContractMonth='20190117', strike=950.0, right='C', multiplier='100', exchange='SMART', currency='USD', localSymbol='SPX   190118C00950000', tradingClass='SPX')\n",
      "Error 10090, reqId 1689: Part of requested market data is not subscribed. Subscription-independent ticks are still active.Delayed market data is available.SPX S&P 500 Stock Index/TOP/ALL, contract: Contract(secType='OPT', conId=328546324, symbol='SPX', lastTradeDateOrContractMonth='20190117', strike=1000.0, right='C', multiplier='100', exchange='SMART', currency='USD', localSymbol='SPX   190118C01000000', tradingClass='SPX')\n",
      "Error 10090, reqId 1690: Part of requested market data is not subscribed. Subscription-independent ticks are still active.Delayed market data is available.SPX S&P 500 Stock Index/TOP/ALL, contract: Contract(secType='OPT', conId=346047420, symbol='SPX', lastTradeDateOrContractMonth='20190117', strike=1025.0, right='C', multiplier='100', exchange='SMART', currency='USD', localSymbol='SPX   190118C01025000', tradingClass='SPX')\n",
      "Error 10090, reqId 1691: Part of requested market data is not subscribed. Subscription-independent ticks are still active.Delayed market data is available.SPX S&P 500 Stock Index/TOP/ALL, contract: Contract(secType='OPT', conId=345951521, symbol='SPX', lastTradeDateOrContractMonth='20190117', strike=1050.0, right='C', multiplier='100', exchange='SMART', currency='USD', localSymbol='SPX   190118C01050000', tradingClass='SPX')\n",
      "Error 10090, reqId 1692: Part of requested market data is not subscribed. Subscription-independent ticks are still active.Delayed market data is available.SPX S&P 500 Stock Index/TOP/ALL, contract: Contract(secType='OPT', conId=346047533, symbol='SPX', lastTradeDateOrContractMonth='20190117', strike=1075.0, right='C', multiplier='100', exchange='SMART', currency='USD', localSymbol='SPX   190118C01075000', tradingClass='SPX')\n",
      "Error 200, reqId 1688: No security definition has been found for the request, contract: Contract(secType='OPT', symbol='SPX', lastTradeDateOrContractMonth='20190117', strike=975.0, right='C', exchange='SMART')\n",
      "Error 10090, reqId 1693: Part of requested market data is not subscribed. Subscription-independent ticks are still active.Delayed market data is available.SPX S&P 500 Stock Index/TOP/ALL, contract: Contract(secType='OPT', conId=290075609, symbol='SPX', lastTradeDateOrContractMonth='20190117', strike=1100.0, right='C', multiplier='100', exchange='SMART', currency='USD', localSymbol='SPX   190118C01100000', tradingClass='SPX')\n",
      "Error 10090, reqId 1694: Part of requested market data is not subscribed. Subscription-independent ticks are still active.Delayed market data is available.SPX S&P 500 Stock Index/TOP/ALL, contract: Contract(secType='OPT', conId=346047539, symbol='SPX', lastTradeDateOrContractMonth='20190117', strike=1125.0, right='C', multiplier='100', exchange='SMART', currency='USD', localSymbol='SPX   190118C01125000', tradingClass='SPX')\n",
      "Error 10090, reqId 1695: Part of requested market data is not subscribed. Subscription-independent ticks are still active.Delayed market data is available.SPX S&P 500 Stock Index/TOP/ALL, contract: Contract(secType='OPT', conId=290075612, symbol='SPX', lastTradeDateOrContractMonth='20190117', strike=1150.0, right='C', multiplier='100', exchange='SMART', currency='USD', localSymbol='SPX   190118C01150000', tradingClass='SPX')\n"
     ]
    },
    {
     "name": "stderr",
     "output_type": "stream",
     "text": [
      "Error 10090, reqId 1696: Part of requested market data is not subscribed. Subscription-independent ticks are still active.Delayed market data is available.SPX S&P 500 Stock Index/TOP/ALL, contract: Contract(secType='OPT', conId=346047542, symbol='SPX', lastTradeDateOrContractMonth='20190117', strike=1175.0, right='C', multiplier='100', exchange='SMART', currency='USD', localSymbol='SPX   190118C01175000', tradingClass='SPX')\n",
      "Error 10090, reqId 1697: Part of requested market data is not subscribed. Subscription-independent ticks are still active.Delayed market data is available.SPX S&P 500 Stock Index/TOP/ALL, contract: Contract(secType='OPT', conId=290075616, symbol='SPX', lastTradeDateOrContractMonth='20190117', strike=1200.0, right='C', multiplier='100', exchange='SMART', currency='USD', localSymbol='SPX   190118C01200000', tradingClass='SPX')\n",
      "Error 10090, reqId 1698: Part of requested market data is not subscribed. Subscription-independent ticks are still active.Delayed market data is available.SPX S&P 500 Stock Index/TOP/ALL, contract: Contract(secType='OPT', conId=346047545, symbol='SPX', lastTradeDateOrContractMonth='20190117', strike=1225.0, right='C', multiplier='100', exchange='SMART', currency='USD', localSymbol='SPX   190118C01225000', tradingClass='SPX')\n",
      "Error 10090, reqId 1699: Part of requested market data is not subscribed. Subscription-independent ticks are still active.Delayed market data is available.SPX S&P 500 Stock Index/TOP/ALL, contract: Contract(secType='OPT', conId=290075621, symbol='SPX', lastTradeDateOrContractMonth='20190117', strike=1250.0, right='C', multiplier='100', exchange='SMART', currency='USD', localSymbol='SPX   190118C01250000', tradingClass='SPX')\n",
      "Error 10090, reqId 1700: Part of requested market data is not subscribed. Subscription-independent ticks are still active.Delayed market data is available.SPX S&P 500 Stock Index/TOP/ALL, contract: Contract(secType='OPT', conId=290075626, symbol='SPX', lastTradeDateOrContractMonth='20190117', strike=1275.0, right='C', multiplier='100', exchange='SMART', currency='USD', localSymbol='SPX   190118C01275000', tradingClass='SPX')\n",
      "Error 10090, reqId 1701: Part of requested market data is not subscribed. Subscription-independent ticks are still active.Delayed market data is available.SPX S&P 500 Stock Index/TOP/ALL, contract: Contract(secType='OPT', conId=290075631, symbol='SPX', lastTradeDateOrContractMonth='20190117', strike=1300.0, right='C', multiplier='100', exchange='SMART', currency='USD', localSymbol='SPX   190118C01300000', tradingClass='SPX')\n",
      "Error 10090, reqId 1702: Part of requested market data is not subscribed. Subscription-independent ticks are still active.Delayed market data is available.SPX S&P 500 Stock Index/TOP/ALL, contract: Contract(secType='OPT', conId=290075633, symbol='SPX', lastTradeDateOrContractMonth='20190117', strike=1325.0, right='C', multiplier='100', exchange='SMART', currency='USD', localSymbol='SPX   190118C01325000', tradingClass='SPX')\n",
      "Error 10090, reqId 1703: Part of requested market data is not subscribed. Subscription-independent ticks are still active.Delayed market data is available.SPX S&P 500 Stock Index/TOP/ALL, contract: Contract(secType='OPT', conId=290075636, symbol='SPX', lastTradeDateOrContractMonth='20190117', strike=1350.0, right='C', multiplier='100', exchange='SMART', currency='USD', localSymbol='SPX   190118C01350000', tradingClass='SPX')\n",
      "Error 10090, reqId 1704: Part of requested market data is not subscribed. Subscription-independent ticks are still active.Delayed market data is available.SPX S&P 500 Stock Index/TOP/ALL, contract: Contract(secType='OPT', conId=290075643, symbol='SPX', lastTradeDateOrContractMonth='20190117', strike=1375.0, right='C', multiplier='100', exchange='SMART', currency='USD', localSymbol='SPX   190118C01375000', tradingClass='SPX')\n",
      "Error 10090, reqId 1705: Part of requested market data is not subscribed. Subscription-independent ticks are still active.Delayed market data is available.SPX S&P 500 Stock Index/TOP/ALL, contract: Contract(secType='OPT', conId=290075646, symbol='SPX', lastTradeDateOrContractMonth='20190117', strike=1400.0, right='C', multiplier='100', exchange='SMART', currency='USD', localSymbol='SPX   190118C01400000', tradingClass='SPX')\n",
      "Error 10090, reqId 1706: Part of requested market data is not subscribed. Subscription-independent ticks are still active.Delayed market data is available.SPX S&P 500 Stock Index/TOP/ALL, contract: Contract(secType='OPT', conId=290075651, symbol='SPX', lastTradeDateOrContractMonth='20190117', strike=1425.0, right='C', multiplier='100', exchange='SMART', currency='USD', localSymbol='SPX   190118C01425000', tradingClass='SPX')\n",
      "Error 10090, reqId 1707: Part of requested market data is not subscribed. Subscription-independent ticks are still active.Delayed market data is available.SPX S&P 500 Stock Index/TOP/ALL, contract: Contract(secType='OPT', conId=290075654, symbol='SPX', lastTradeDateOrContractMonth='20190117', strike=1450.0, right='C', multiplier='100', exchange='SMART', currency='USD', localSymbol='SPX   190118C01450000', tradingClass='SPX')\n",
      "Error 10090, reqId 1708: Part of requested market data is not subscribed. Subscription-independent ticks are still active.Delayed market data is available.SPX S&P 500 Stock Index/TOP/ALL, contract: Contract(secType='OPT', conId=290075657, symbol='SPX', lastTradeDateOrContractMonth='20190117', strike=1475.0, right='C', multiplier='100', exchange='SMART', currency='USD', localSymbol='SPX   190118C01475000', tradingClass='SPX')\n",
      "Error 10090, reqId 1709: Part of requested market data is not subscribed. Subscription-independent ticks are still active.Delayed market data is available.SPX S&P 500 Stock Index/TOP/ALL, contract: Contract(secType='OPT', conId=290075660, symbol='SPX', lastTradeDateOrContractMonth='20190117', strike=1500.0, right='C', multiplier='100', exchange='SMART', currency='USD', localSymbol='SPX   190118C01500000', tradingClass='SPX')\n",
      "Error 10090, reqId 1710: Part of requested market data is not subscribed. Subscription-independent ticks are still active.Delayed market data is available.SPX S&P 500 Stock Index/TOP/ALL, contract: Contract(secType='OPT', conId=290075666, symbol='SPX', lastTradeDateOrContractMonth='20190117', strike=1525.0, right='C', multiplier='100', exchange='SMART', currency='USD', localSymbol='SPX   190118C01525000', tradingClass='SPX')\n",
      "Error 10090, reqId 1711: Part of requested market data is not subscribed. Subscription-independent ticks are still active.Delayed market data is available.SPX S&P 500 Stock Index/TOP/ALL, contract: Contract(secType='OPT', conId=290075671, symbol='SPX', lastTradeDateOrContractMonth='20190117', strike=1550.0, right='C', multiplier='100', exchange='SMART', currency='USD', localSymbol='SPX   190118C01550000', tradingClass='SPX')\n",
      "Error 10090, reqId 1712: Part of requested market data is not subscribed. Subscription-independent ticks are still active.Delayed market data is available.SPX S&P 500 Stock Index/TOP/ALL, contract: Contract(secType='OPT', conId=290075672, symbol='SPX', lastTradeDateOrContractMonth='20190117', strike=1575.0, right='C', multiplier='100', exchange='SMART', currency='USD', localSymbol='SPX   190118C01575000', tradingClass='SPX')\n",
      "Error 10090, reqId 1713: Part of requested market data is not subscribed. Subscription-independent ticks are still active.Delayed market data is available.SPX S&P 500 Stock Index/TOP/ALL, contract: Contract(secType='OPT', conId=290075677, symbol='SPX', lastTradeDateOrContractMonth='20190117', strike=1600.0, right='C', multiplier='100', exchange='SMART', currency='USD', localSymbol='SPX   190118C01600000', tradingClass='SPX')\n",
      "Error 10090, reqId 1714: Part of requested market data is not subscribed. Subscription-independent ticks are still active.Delayed market data is available.SPX S&P 500 Stock Index/TOP/ALL, contract: Contract(secType='OPT', conId=290075681, symbol='SPX', lastTradeDateOrContractMonth='20190117', strike=1625.0, right='C', multiplier='100', exchange='SMART', currency='USD', localSymbol='SPX   190118C01625000', tradingClass='SPX')\n",
      "Error 10090, reqId 1715: Part of requested market data is not subscribed. Subscription-independent ticks are still active.Delayed market data is available.SPX S&P 500 Stock Index/TOP/ALL, contract: Contract(secType='OPT', conId=290075684, symbol='SPX', lastTradeDateOrContractMonth='20190117', strike=1650.0, right='C', multiplier='100', exchange='SMART', currency='USD', localSymbol='SPX   190118C01650000', tradingClass='SPX')\n"
     ]
    },
    {
     "name": "stderr",
     "output_type": "stream",
     "text": [
      "Error 10090, reqId 1716: Part of requested market data is not subscribed. Subscription-independent ticks are still active.Delayed market data is available.SPX S&P 500 Stock Index/TOP/ALL, contract: Contract(secType='OPT', conId=290075691, symbol='SPX', lastTradeDateOrContractMonth='20190117', strike=1675.0, right='C', multiplier='100', exchange='SMART', currency='USD', localSymbol='SPX   190118C01675000', tradingClass='SPX')\n",
      "Error 10090, reqId 1717: Part of requested market data is not subscribed. Subscription-independent ticks are still active.Delayed market data is available.SPX S&P 500 Stock Index/TOP/ALL, contract: Contract(secType='OPT', conId=290075694, symbol='SPX', lastTradeDateOrContractMonth='20190117', strike=1700.0, right='C', multiplier='100', exchange='SMART', currency='USD', localSymbol='SPX   190118C01700000', tradingClass='SPX')\n",
      "Error 10090, reqId 1718: Part of requested market data is not subscribed. Subscription-independent ticks are still active.Delayed market data is available.SPX S&P 500 Stock Index/TOP/ALL, contract: Contract(secType='OPT', conId=290075696, symbol='SPX', lastTradeDateOrContractMonth='20190117', strike=1725.0, right='C', multiplier='100', exchange='SMART', currency='USD', localSymbol='SPX   190118C01725000', tradingClass='SPX')\n",
      "Error 10090, reqId 1719: Part of requested market data is not subscribed. Subscription-independent ticks are still active.Delayed market data is available.SPX S&P 500 Stock Index/TOP/ALL, contract: Contract(secType='OPT', conId=290075701, symbol='SPX', lastTradeDateOrContractMonth='20190117', strike=1750.0, right='C', multiplier='100', exchange='SMART', currency='USD', localSymbol='SPX   190118C01750000', tradingClass='SPX')\n",
      "Error 10090, reqId 1720: Part of requested market data is not subscribed. Subscription-independent ticks are still active.Delayed market data is available.SPX S&P 500 Stock Index/TOP/ALL, contract: Contract(secType='OPT', conId=290075706, symbol='SPX', lastTradeDateOrContractMonth='20190117', strike=1775.0, right='C', multiplier='100', exchange='SMART', currency='USD', localSymbol='SPX   190118C01775000', tradingClass='SPX')\n",
      "Error 10090, reqId 1722: Part of requested market data is not subscribed. Subscription-independent ticks are still active.Delayed market data is available.SPX S&P 500 Stock Index/TOP/ALL, contract: Contract(secType='OPT', conId=290075711, symbol='SPX', lastTradeDateOrContractMonth='20190117', strike=1800.0, right='C', multiplier='100', exchange='SMART', currency='USD', localSymbol='SPX   190118C01800000', tradingClass='SPX')\n",
      "Error 200, reqId 1721: No security definition has been found for the request, contract: Contract(secType='OPT', symbol='SPX', lastTradeDateOrContractMonth='20190117', strike=1790.0, right='C', exchange='SMART')\n",
      "Error 200, reqId 1723: No security definition has been found for the request, contract: Contract(secType='OPT', symbol='SPX', lastTradeDateOrContractMonth='20190117', strike=1810.0, right='C', exchange='SMART')\n",
      "Error 200, reqId 1724: No security definition has been found for the request, contract: Contract(secType='OPT', symbol='SPX', lastTradeDateOrContractMonth='20190117', strike=1820.0, right='C', exchange='SMART')\n",
      "Error 200, reqId 1726: No security definition has been found for the request, contract: Contract(secType='OPT', symbol='SPX', lastTradeDateOrContractMonth='20190117', strike=1830.0, right='C', exchange='SMART')\n",
      "Error 10090, reqId 1725: Part of requested market data is not subscribed. Subscription-independent ticks are still active.Delayed market data is available.SPX S&P 500 Stock Index/TOP/ALL, contract: Contract(secType='OPT', conId=290075714, symbol='SPX', lastTradeDateOrContractMonth='20190117', strike=1825.0, right='C', multiplier='100', exchange='SMART', currency='USD', localSymbol='SPX   190118C01825000', tradingClass='SPX')\n",
      "Error 10090, reqId 1727: Part of requested market data is not subscribed. Subscription-independent ticks are still active.Delayed market data is available.SPX S&P 500 Stock Index/TOP/ALL, contract: Contract(secType='OPT', conId=345324007, symbol='SPX', lastTradeDateOrContractMonth='20190117', strike=1840.0, right='C', multiplier='100', exchange='SMART', currency='USD', localSymbol='SPX   190118C01840000', tradingClass='SPX')\n",
      "Error 10090, reqId 1728: Part of requested market data is not subscribed. Subscription-independent ticks are still active.Delayed market data is available.SPX S&P 500 Stock Index/TOP/ALL, contract: Contract(secType='OPT', conId=290075719, symbol='SPX', lastTradeDateOrContractMonth='20190117', strike=1850.0, right='C', multiplier='100', exchange='SMART', currency='USD', localSymbol='SPX   190118C01850000', tradingClass='SPX')\n",
      "Error 10090, reqId 1729: Part of requested market data is not subscribed. Subscription-independent ticks are still active.Delayed market data is available.SPX S&P 500 Stock Index/TOP/ALL, contract: Contract(secType='OPT', conId=339681908, symbol='SPX', lastTradeDateOrContractMonth='20190117', strike=1860.0, right='C', multiplier='100', exchange='SMART', currency='USD', localSymbol='SPX   190118C01860000', tradingClass='SPX')\n",
      "Error 10090, reqId 1730: Part of requested market data is not subscribed. Subscription-independent ticks are still active.Delayed market data is available.SPX S&P 500 Stock Index/TOP/ALL, contract: Contract(secType='OPT', conId=339681934, symbol='SPX', lastTradeDateOrContractMonth='20190117', strike=1870.0, right='C', multiplier='100', exchange='SMART', currency='USD', localSymbol='SPX   190118C01870000', tradingClass='SPX')\n",
      "Error 10090, reqId 1731: Part of requested market data is not subscribed. Subscription-independent ticks are still active.Delayed market data is available.SPX S&P 500 Stock Index/TOP/ALL, contract: Contract(secType='OPT', conId=290075720, symbol='SPX', lastTradeDateOrContractMonth='20190117', strike=1875.0, right='C', multiplier='100', exchange='SMART', currency='USD', localSymbol='SPX   190118C01875000', tradingClass='SPX')\n",
      "Error 10090, reqId 1732: Part of requested market data is not subscribed. Subscription-independent ticks are still active.Delayed market data is available.SPX S&P 500 Stock Index/TOP/ALL, contract: Contract(secType='OPT', conId=339681936, symbol='SPX', lastTradeDateOrContractMonth='20190117', strike=1880.0, right='C', multiplier='100', exchange='SMART', currency='USD', localSymbol='SPX   190118C01880000', tradingClass='SPX')\n",
      "Error 10090, reqId 1738: Part of requested market data is not subscribed. Subscription-independent ticks are still active.Delayed market data is available.SPX S&P 500 Stock Index/TOP/ALL, contract: Contract(secType='OPT', conId=337284116, symbol='SPX', lastTradeDateOrContractMonth='20190117', strike=1930.0, right='C', multiplier='100', exchange='SMART', currency='USD', localSymbol='SPX   190118C01930000', tradingClass='SPX')\n",
      "Error 10090, reqId 1739: Part of requested market data is not subscribed. Subscription-independent ticks are still active.Delayed market data is available.SPX S&P 500 Stock Index/TOP/ALL, contract: Contract(secType='OPT', conId=337284130, symbol='SPX', lastTradeDateOrContractMonth='20190117', strike=1940.0, right='C', multiplier='100', exchange='SMART', currency='USD', localSymbol='SPX   190118C01940000', tradingClass='SPX')\n",
      "Error 10090, reqId 1740: Part of requested market data is not subscribed. Subscription-independent ticks are still active.Delayed market data is available.SPX S&P 500 Stock Index/TOP/ALL, contract: Contract(secType='OPT', conId=290075734, symbol='SPX', lastTradeDateOrContractMonth='20190117', strike=1950.0, right='C', multiplier='100', exchange='SMART', currency='USD', localSymbol='SPX   190118C01950000', tradingClass='SPX')\n",
      "Error 10090, reqId 1741: Part of requested market data is not subscribed. Subscription-independent ticks are still active.Delayed market data is available.SPX S&P 500 Stock Index/TOP/ALL, contract: Contract(secType='OPT', conId=336948211, symbol='SPX', lastTradeDateOrContractMonth='20190117', strike=1960.0, right='C', multiplier='100', exchange='SMART', currency='USD', localSymbol='SPX   190118C01960000', tradingClass='SPX')\n",
      "Error 10090, reqId 1742: Part of requested market data is not subscribed. Subscription-independent ticks are still active.Delayed market data is available.SPX S&P 500 Stock Index/TOP/ALL, contract: Contract(secType='OPT', conId=336948225, symbol='SPX', lastTradeDateOrContractMonth='20190117', strike=1970.0, right='C', multiplier='100', exchange='SMART', currency='USD', localSymbol='SPX   190118C01970000', tradingClass='SPX')\n"
     ]
    },
    {
     "name": "stderr",
     "output_type": "stream",
     "text": [
      "Error 10090, reqId 1733: Part of requested market data is not subscribed. Subscription-independent ticks are still active.Delayed market data is available.SPX S&P 500 Stock Index/TOP/ALL, contract: Contract(secType='OPT', conId=339299365, symbol='SPX', lastTradeDateOrContractMonth='20190117', strike=1890.0, right='C', multiplier='100', exchange='SMART', currency='USD', localSymbol='SPX   190118C01890000', tradingClass='SPX')\n",
      "Error 10090, reqId 1734: Part of requested market data is not subscribed. Subscription-independent ticks are still active.Delayed market data is available.SPX S&P 500 Stock Index/TOP/ALL, contract: Contract(secType='OPT', conId=290075725, symbol='SPX', lastTradeDateOrContractMonth='20190117', strike=1900.0, right='C', multiplier='100', exchange='SMART', currency='USD', localSymbol='SPX   190118C01900000', tradingClass='SPX')\n",
      "Error 10090, reqId 1735: Part of requested market data is not subscribed. Subscription-independent ticks are still active.Delayed market data is available.SPX S&P 500 Stock Index/TOP/ALL, contract: Contract(secType='OPT', conId=337284101, symbol='SPX', lastTradeDateOrContractMonth='20190117', strike=1910.0, right='C', multiplier='100', exchange='SMART', currency='USD', localSymbol='SPX   190118C01910000', tradingClass='SPX')\n",
      "Error 10090, reqId 1736: Part of requested market data is not subscribed. Subscription-independent ticks are still active.Delayed market data is available.SPX S&P 500 Stock Index/TOP/ALL, contract: Contract(secType='OPT', conId=337284111, symbol='SPX', lastTradeDateOrContractMonth='20190117', strike=1920.0, right='C', multiplier='100', exchange='SMART', currency='USD', localSymbol='SPX   190118C01920000', tradingClass='SPX')\n",
      "Error 10090, reqId 1737: Part of requested market data is not subscribed. Subscription-independent ticks are still active.Delayed market data is available.SPX S&P 500 Stock Index/TOP/ALL, contract: Contract(secType='OPT', conId=290075731, symbol='SPX', lastTradeDateOrContractMonth='20190117', strike=1925.0, right='C', multiplier='100', exchange='SMART', currency='USD', localSymbol='SPX   190118C01925000', tradingClass='SPX')\n",
      "Error 10090, reqId 1743: Part of requested market data is not subscribed. Subscription-independent ticks are still active.Delayed market data is available.SPX S&P 500 Stock Index/TOP/ALL, contract: Contract(secType='OPT', conId=290075737, symbol='SPX', lastTradeDateOrContractMonth='20190117', strike=1975.0, right='C', multiplier='100', exchange='SMART', currency='USD', localSymbol='SPX   190118C01975000', tradingClass='SPX')\n",
      "Error 10090, reqId 1744: Part of requested market data is not subscribed. Subscription-independent ticks are still active.Delayed market data is available.SPX S&P 500 Stock Index/TOP/ALL, contract: Contract(secType='OPT', conId=336948228, symbol='SPX', lastTradeDateOrContractMonth='20190117', strike=1980.0, right='C', multiplier='100', exchange='SMART', currency='USD', localSymbol='SPX   190118C01980000', tradingClass='SPX')\n",
      "Error 10090, reqId 1745: Part of requested market data is not subscribed. Subscription-independent ticks are still active.Delayed market data is available.SPX S&P 500 Stock Index/TOP/ALL, contract: Contract(secType='OPT', conId=336948235, symbol='SPX', lastTradeDateOrContractMonth='20190117', strike=1990.0, right='C', multiplier='100', exchange='SMART', currency='USD', localSymbol='SPX   190118C01990000', tradingClass='SPX')\n",
      "Error 10090, reqId 1748: Part of requested market data is not subscribed. Subscription-independent ticks are still active.Delayed market data is available.SPX S&P 500 Stock Index/TOP/ALL, contract: Contract(secType='OPT', conId=336385754, symbol='SPX', lastTradeDateOrContractMonth='20190117', strike=2020.0, right='C', multiplier='100', exchange='SMART', currency='USD', localSymbol='SPX   190118C02020000', tradingClass='SPX')\n",
      "Error 10090, reqId 1749: Part of requested market data is not subscribed. Subscription-independent ticks are still active.Delayed market data is available.SPX S&P 500 Stock Index/TOP/ALL, contract: Contract(secType='OPT', conId=290075744, symbol='SPX', lastTradeDateOrContractMonth='20190117', strike=2025.0, right='C', multiplier='100', exchange='SMART', currency='USD', localSymbol='SPX   190118C02025000', tradingClass='SPX')\n",
      "Error 10090, reqId 1750: Part of requested market data is not subscribed. Subscription-independent ticks are still active.Delayed market data is available.SPX S&P 500 Stock Index/TOP/ALL, contract: Contract(secType='OPT', conId=336385795, symbol='SPX', lastTradeDateOrContractMonth='20190117', strike=2030.0, right='C', multiplier='100', exchange='SMART', currency='USD', localSymbol='SPX   190118C02030000', tradingClass='SPX')\n",
      "Error 10090, reqId 1751: Part of requested market data is not subscribed. Subscription-independent ticks are still active.Delayed market data is available.SPX S&P 500 Stock Index/TOP/ALL, contract: Contract(secType='OPT', conId=335313764, symbol='SPX', lastTradeDateOrContractMonth='20190117', strike=2040.0, right='C', multiplier='100', exchange='SMART', currency='USD', localSymbol='SPX   190118C02040000', tradingClass='SPX')\n",
      "Error 10090, reqId 1746: Part of requested market data is not subscribed. Subscription-independent ticks are still active.Delayed market data is available.SPX S&P 500 Stock Index/TOP/ALL, contract: Contract(secType='OPT', conId=290075740, symbol='SPX', lastTradeDateOrContractMonth='20190117', strike=2000.0, right='C', multiplier='100', exchange='SMART', currency='USD', localSymbol='SPX   190118C02000000', tradingClass='SPX')\n",
      "Error 10090, reqId 1747: Part of requested market data is not subscribed. Subscription-independent ticks are still active.Delayed market data is available.SPX S&P 500 Stock Index/TOP/ALL, contract: Contract(secType='OPT', conId=336948240, symbol='SPX', lastTradeDateOrContractMonth='20190117', strike=2010.0, right='C', multiplier='100', exchange='SMART', currency='USD', localSymbol='SPX   190118C02010000', tradingClass='SPX')\n",
      "Error 200, reqId 1752: No security definition has been found for the request, contract: Contract(secType='OPT', symbol='SPX', lastTradeDateOrContractMonth='20190117', strike=2045.0, right='C', exchange='SMART')\n",
      "Error 200, reqId 1754: No security definition has been found for the request, contract: Contract(secType='OPT', symbol='SPX', lastTradeDateOrContractMonth='20190117', strike=2055.0, right='C', exchange='SMART')\n",
      "Error 200, reqId 1756: No security definition has been found for the request, contract: Contract(secType='OPT', symbol='SPX', lastTradeDateOrContractMonth='20190117', strike=2065.0, right='C', exchange='SMART')\n",
      "Error 10090, reqId 1755: Part of requested market data is not subscribed. Subscription-independent ticks are still active.Delayed market data is available.SPX S&P 500 Stock Index/TOP/ALL, contract: Contract(secType='OPT', conId=334825682, symbol='SPX', lastTradeDateOrContractMonth='20190117', strike=2060.0, right='C', multiplier='100', exchange='SMART', currency='USD', localSymbol='SPX   190118C02060000', tradingClass='SPX')\n",
      "Error 10090, reqId 1757: Part of requested market data is not subscribed. Subscription-independent ticks are still active.Delayed market data is available.SPX S&P 500 Stock Index/TOP/ALL, contract: Contract(secType='OPT', conId=334826046, symbol='SPX', lastTradeDateOrContractMonth='20190117', strike=2070.0, right='C', multiplier='100', exchange='SMART', currency='USD', localSymbol='SPX   190118C02070000', tradingClass='SPX')\n",
      "Error 10090, reqId 1758: Part of requested market data is not subscribed. Subscription-independent ticks are still active.Delayed market data is available.SPX S&P 500 Stock Index/TOP/ALL, contract: Contract(secType='OPT', conId=290075754, symbol='SPX', lastTradeDateOrContractMonth='20190117', strike=2075.0, right='C', multiplier='100', exchange='SMART', currency='USD', localSymbol='SPX   190118C02075000', tradingClass='SPX')\n",
      "Error 10090, reqId 1759: Part of requested market data is not subscribed. Subscription-independent ticks are still active.Delayed market data is available.SPX S&P 500 Stock Index/TOP/ALL, contract: Contract(secType='OPT', conId=334826066, symbol='SPX', lastTradeDateOrContractMonth='20190117', strike=2080.0, right='C', multiplier='100', exchange='SMART', currency='USD', localSymbol='SPX   190118C02080000', tradingClass='SPX')\n"
     ]
    },
    {
     "name": "stderr",
     "output_type": "stream",
     "text": [
      "Error 10090, reqId 1761: Part of requested market data is not subscribed. Subscription-independent ticks are still active.Delayed market data is available.SPX S&P 500 Stock Index/TOP/ALL, contract: Contract(secType='OPT', conId=334826077, symbol='SPX', lastTradeDateOrContractMonth='20190117', strike=2090.0, right='C', multiplier='100', exchange='SMART', currency='USD', localSymbol='SPX   190118C02090000', tradingClass='SPX')\n",
      "Error 10090, reqId 1753: Part of requested market data is not subscribed. Subscription-independent ticks are still active.Delayed market data is available.SPX S&P 500 Stock Index/TOP/ALL, contract: Contract(secType='OPT', conId=290075749, symbol='SPX', lastTradeDateOrContractMonth='20190117', strike=2050.0, right='C', multiplier='100', exchange='SMART', currency='USD', localSymbol='SPX   190118C02050000', tradingClass='SPX')\n",
      "Error 200, reqId 1760: No security definition has been found for the request, contract: Contract(secType='OPT', symbol='SPX', lastTradeDateOrContractMonth='20190117', strike=2085.0, right='C', exchange='SMART')\n",
      "Error 200, reqId 1762: No security definition has been found for the request, contract: Contract(secType='OPT', symbol='SPX', lastTradeDateOrContractMonth='20190117', strike=2095.0, right='C', exchange='SMART')\n",
      "Error 10090, reqId 1763: Part of requested market data is not subscribed. Subscription-independent ticks are still active.Delayed market data is available.SPX S&P 500 Stock Index/TOP/ALL, contract: Contract(secType='OPT', conId=290075759, symbol='SPX', lastTradeDateOrContractMonth='20190117', strike=2100.0, right='C', multiplier='100', exchange='SMART', currency='USD', localSymbol='SPX   190118C02100000', tradingClass='SPX')\n",
      "Error 10090, reqId 1764: Part of requested market data is not subscribed. Subscription-independent ticks are still active.Delayed market data is available.SPX S&P 500 Stock Index/TOP/ALL, contract: Contract(secType='OPT', conId=345324019, symbol='SPX', lastTradeDateOrContractMonth='20190117', strike=2105.0, right='C', multiplier='100', exchange='SMART', currency='USD', localSymbol='SPX   190118C02105000', tradingClass='SPX')\n",
      "Error 10090, reqId 1765: Part of requested market data is not subscribed. Subscription-independent ticks are still active.Delayed market data is available.SPX S&P 500 Stock Index/TOP/ALL, contract: Contract(secType='OPT', conId=334826084, symbol='SPX', lastTradeDateOrContractMonth='20190117', strike=2110.0, right='C', multiplier='100', exchange='SMART', currency='USD', localSymbol='SPX   190118C02110000', tradingClass='SPX')\n",
      "Error 10090, reqId 1766: Part of requested market data is not subscribed. Subscription-independent ticks are still active.Delayed market data is available.SPX S&P 500 Stock Index/TOP/ALL, contract: Contract(secType='OPT', conId=339858545, symbol='SPX', lastTradeDateOrContractMonth='20190117', strike=2115.0, right='C', multiplier='100', exchange='SMART', currency='USD', localSymbol='SPX   190118C02115000', tradingClass='SPX')\n",
      "Error 10090, reqId 1767: Part of requested market data is not subscribed. Subscription-independent ticks are still active.Delayed market data is available.SPX S&P 500 Stock Index/TOP/ALL, contract: Contract(secType='OPT', conId=334826101, symbol='SPX', lastTradeDateOrContractMonth='20190117', strike=2120.0, right='C', multiplier='100', exchange='SMART', currency='USD', localSymbol='SPX   190118C02120000', tradingClass='SPX')\n",
      "Error 10090, reqId 1768: Part of requested market data is not subscribed. Subscription-independent ticks are still active.Delayed market data is available.SPX S&P 500 Stock Index/TOP/ALL, contract: Contract(secType='OPT', conId=290075761, symbol='SPX', lastTradeDateOrContractMonth='20190117', strike=2125.0, right='C', multiplier='100', exchange='SMART', currency='USD', localSymbol='SPX   190118C02125000', tradingClass='SPX')\n",
      "Error 10090, reqId 1769: Part of requested market data is not subscribed. Subscription-independent ticks are still active.Delayed market data is available.SPX S&P 500 Stock Index/TOP/ALL, contract: Contract(secType='OPT', conId=334826117, symbol='SPX', lastTradeDateOrContractMonth='20190117', strike=2130.0, right='C', multiplier='100', exchange='SMART', currency='USD', localSymbol='SPX   190118C02130000', tradingClass='SPX')\n",
      "Error 10090, reqId 1770: Part of requested market data is not subscribed. Subscription-independent ticks are still active.Delayed market data is available.SPX S&P 500 Stock Index/TOP/ALL, contract: Contract(secType='OPT', conId=339681941, symbol='SPX', lastTradeDateOrContractMonth='20190117', strike=2135.0, right='C', multiplier='100', exchange='SMART', currency='USD', localSymbol='SPX   190118C02135000', tradingClass='SPX')\n",
      "Error 10090, reqId 1771: Part of requested market data is not subscribed. Subscription-independent ticks are still active.Delayed market data is available.SPX S&P 500 Stock Index/TOP/ALL, contract: Contract(secType='OPT', conId=334826132, symbol='SPX', lastTradeDateOrContractMonth='20190117', strike=2140.0, right='C', multiplier='100', exchange='SMART', currency='USD', localSymbol='SPX   190118C02140000', tradingClass='SPX')\n",
      "Error 10090, reqId 1772: Part of requested market data is not subscribed. Subscription-independent ticks are still active.Delayed market data is available.SPX S&P 500 Stock Index/TOP/ALL, contract: Contract(secType='OPT', conId=339681946, symbol='SPX', lastTradeDateOrContractMonth='20190117', strike=2145.0, right='C', multiplier='100', exchange='SMART', currency='USD', localSymbol='SPX   190118C02145000', tradingClass='SPX')\n",
      "Error 10090, reqId 1773: Part of requested market data is not subscribed. Subscription-independent ticks are still active.Delayed market data is available.SPX S&P 500 Stock Index/TOP/ALL, contract: Contract(secType='OPT', conId=290075764, symbol='SPX', lastTradeDateOrContractMonth='20190117', strike=2150.0, right='C', multiplier='100', exchange='SMART', currency='USD', localSymbol='SPX   190118C02150000', tradingClass='SPX')\n",
      "Error 10090, reqId 1774: Part of requested market data is not subscribed. Subscription-independent ticks are still active.Delayed market data is available.SPX S&P 500 Stock Index/TOP/ALL, contract: Contract(secType='OPT', conId=339681951, symbol='SPX', lastTradeDateOrContractMonth='20190117', strike=2155.0, right='C', multiplier='100', exchange='SMART', currency='USD', localSymbol='SPX   190118C02155000', tradingClass='SPX')\n",
      "Error 10090, reqId 1775: Part of requested market data is not subscribed. Subscription-independent ticks are still active.Delayed market data is available.SPX S&P 500 Stock Index/TOP/ALL, contract: Contract(secType='OPT', conId=334826146, symbol='SPX', lastTradeDateOrContractMonth='20190117', strike=2160.0, right='C', multiplier='100', exchange='SMART', currency='USD', localSymbol='SPX   190118C02160000', tradingClass='SPX')\n",
      "Error 10090, reqId 1776: Part of requested market data is not subscribed. Subscription-independent ticks are still active.Delayed market data is available.SPX S&P 500 Stock Index/TOP/ALL, contract: Contract(secType='OPT', conId=339299370, symbol='SPX', lastTradeDateOrContractMonth='20190117', strike=2165.0, right='C', multiplier='100', exchange='SMART', currency='USD', localSymbol='SPX   190118C02165000', tradingClass='SPX')\n",
      "Error 10090, reqId 1777: Part of requested market data is not subscribed. Subscription-independent ticks are still active.Delayed market data is available.SPX S&P 500 Stock Index/TOP/ALL, contract: Contract(secType='OPT', conId=334826157, symbol='SPX', lastTradeDateOrContractMonth='20190117', strike=2170.0, right='C', multiplier='100', exchange='SMART', currency='USD', localSymbol='SPX   190118C02170000', tradingClass='SPX')\n",
      "Error 10090, reqId 1778: Part of requested market data is not subscribed. Subscription-independent ticks are still active.Delayed market data is available.SPX S&P 500 Stock Index/TOP/ALL, contract: Contract(secType='OPT', conId=290075771, symbol='SPX', lastTradeDateOrContractMonth='20190117', strike=2175.0, right='C', multiplier='100', exchange='SMART', currency='USD', localSymbol='SPX   190118C02175000', tradingClass='SPX')\n"
     ]
    },
    {
     "name": "stderr",
     "output_type": "stream",
     "text": [
      "Error 10090, reqId 1779: Part of requested market data is not subscribed. Subscription-independent ticks are still active.Delayed market data is available.SPX S&P 500 Stock Index/TOP/ALL, contract: Contract(secType='OPT', conId=334826172, symbol='SPX', lastTradeDateOrContractMonth='20190117', strike=2180.0, right='C', multiplier='100', exchange='SMART', currency='USD', localSymbol='SPX   190118C02180000', tradingClass='SPX')\n",
      "Error 10090, reqId 1780: Part of requested market data is not subscribed. Subscription-independent ticks are still active.Delayed market data is available.SPX S&P 500 Stock Index/TOP/ALL, contract: Contract(secType='OPT', conId=337284135, symbol='SPX', lastTradeDateOrContractMonth='20190117', strike=2185.0, right='C', multiplier='100', exchange='SMART', currency='USD', localSymbol='SPX   190118C02185000', tradingClass='SPX')\n",
      "Error 10090, reqId 1781: Part of requested market data is not subscribed. Subscription-independent ticks are still active.Delayed market data is available.SPX S&P 500 Stock Index/TOP/ALL, contract: Contract(secType='OPT', conId=334826187, symbol='SPX', lastTradeDateOrContractMonth='20190117', strike=2190.0, right='C', multiplier='100', exchange='SMART', currency='USD', localSymbol='SPX   190118C02190000', tradingClass='SPX')\n",
      "Error 10090, reqId 1782: Part of requested market data is not subscribed. Subscription-independent ticks are still active.Delayed market data is available.SPX S&P 500 Stock Index/TOP/ALL, contract: Contract(secType='OPT', conId=337284141, symbol='SPX', lastTradeDateOrContractMonth='20190117', strike=2195.0, right='C', multiplier='100', exchange='SMART', currency='USD', localSymbol='SPX   190118C02195000', tradingClass='SPX')\n",
      "Error 10090, reqId 1788: Part of requested market data is not subscribed. Subscription-independent ticks are still active.Delayed market data is available.SPX S&P 500 Stock Index/TOP/ALL, contract: Contract(secType='OPT', conId=290075777, symbol='SPX', lastTradeDateOrContractMonth='20190117', strike=2225.0, right='C', multiplier='100', exchange='SMART', currency='USD', localSymbol='SPX   190118C02225000', tradingClass='SPX')\n",
      "Error 10090, reqId 1783: Part of requested market data is not subscribed. Subscription-independent ticks are still active.Delayed market data is available.SPX S&P 500 Stock Index/TOP/ALL, contract: Contract(secType='OPT', conId=290075774, symbol='SPX', lastTradeDateOrContractMonth='20190117', strike=2200.0, right='C', multiplier='100', exchange='SMART', currency='USD', localSymbol='SPX   190118C02200000', tradingClass='SPX')\n",
      "Error 10090, reqId 1784: Part of requested market data is not subscribed. Subscription-independent ticks are still active.Delayed market data is available.SPX S&P 500 Stock Index/TOP/ALL, contract: Contract(secType='OPT', conId=337284153, symbol='SPX', lastTradeDateOrContractMonth='20190117', strike=2205.0, right='C', multiplier='100', exchange='SMART', currency='USD', localSymbol='SPX   190118C02205000', tradingClass='SPX')\n",
      "Error 10090, reqId 1785: Part of requested market data is not subscribed. Subscription-independent ticks are still active.Delayed market data is available.SPX S&P 500 Stock Index/TOP/ALL, contract: Contract(secType='OPT', conId=334826202, symbol='SPX', lastTradeDateOrContractMonth='20190117', strike=2210.0, right='C', multiplier='100', exchange='SMART', currency='USD', localSymbol='SPX   190118C02210000', tradingClass='SPX')\n",
      "Error 10090, reqId 1786: Part of requested market data is not subscribed. Subscription-independent ticks are still active.Delayed market data is available.SPX S&P 500 Stock Index/TOP/ALL, contract: Contract(secType='OPT', conId=337284161, symbol='SPX', lastTradeDateOrContractMonth='20190117', strike=2215.0, right='C', multiplier='100', exchange='SMART', currency='USD', localSymbol='SPX   190118C02215000', tradingClass='SPX')\n",
      "Error 10090, reqId 1787: Part of requested market data is not subscribed. Subscription-independent ticks are still active.Delayed market data is available.SPX S&P 500 Stock Index/TOP/ALL, contract: Contract(secType='OPT', conId=334826214, symbol='SPX', lastTradeDateOrContractMonth='20190117', strike=2220.0, right='C', multiplier='100', exchange='SMART', currency='USD', localSymbol='SPX   190118C02220000', tradingClass='SPX')\n",
      "Error 10090, reqId 1789: Part of requested market data is not subscribed. Subscription-independent ticks are still active.Delayed market data is available.SPX S&P 500 Stock Index/TOP/ALL, contract: Contract(secType='OPT', conId=334826231, symbol='SPX', lastTradeDateOrContractMonth='20190117', strike=2230.0, right='C', multiplier='100', exchange='SMART', currency='USD', localSymbol='SPX   190118C02230000', tradingClass='SPX')\n",
      "Error 10090, reqId 1790: Part of requested market data is not subscribed. Subscription-independent ticks are still active.Delayed market data is available.SPX S&P 500 Stock Index/TOP/ALL, contract: Contract(secType='OPT', conId=336948245, symbol='SPX', lastTradeDateOrContractMonth='20190117', strike=2235.0, right='C', multiplier='100', exchange='SMART', currency='USD', localSymbol='SPX   190118C02235000', tradingClass='SPX')\n",
      "Error 10090, reqId 1791: Part of requested market data is not subscribed. Subscription-independent ticks are still active.Delayed market data is available.SPX S&P 500 Stock Index/TOP/ALL, contract: Contract(secType='OPT', conId=334826243, symbol='SPX', lastTradeDateOrContractMonth='20190117', strike=2240.0, right='C', multiplier='100', exchange='SMART', currency='USD', localSymbol='SPX   190118C02240000', tradingClass='SPX')\n",
      "Error 10090, reqId 1792: Part of requested market data is not subscribed. Subscription-independent ticks are still active.Delayed market data is available.SPX S&P 500 Stock Index/TOP/ALL, contract: Contract(secType='OPT', conId=336948259, symbol='SPX', lastTradeDateOrContractMonth='20190117', strike=2245.0, right='C', multiplier='100', exchange='SMART', currency='USD', localSymbol='SPX   190118C02245000', tradingClass='SPX')\n",
      "Error 10090, reqId 1793: Part of requested market data is not subscribed. Subscription-independent ticks are still active.Delayed market data is available.SPX S&P 500 Stock Index/TOP/ALL, contract: Contract(secType='OPT', conId=290075780, symbol='SPX', lastTradeDateOrContractMonth='20190117', strike=2250.0, right='C', multiplier='100', exchange='SMART', currency='USD', localSymbol='SPX   190118C02250000', tradingClass='SPX')\n",
      "Error 10090, reqId 1794: Part of requested market data is not subscribed. Subscription-independent ticks are still active.Delayed market data is available.SPX S&P 500 Stock Index/TOP/ALL, contract: Contract(secType='OPT', conId=336948262, symbol='SPX', lastTradeDateOrContractMonth='20190117', strike=2255.0, right='C', multiplier='100', exchange='SMART', currency='USD', localSymbol='SPX   190118C02255000', tradingClass='SPX')\n",
      "Error 10090, reqId 1795: Part of requested market data is not subscribed. Subscription-independent ticks are still active.Delayed market data is available.SPX S&P 500 Stock Index/TOP/ALL, contract: Contract(secType='OPT', conId=334826249, symbol='SPX', lastTradeDateOrContractMonth='20190117', strike=2260.0, right='C', multiplier='100', exchange='SMART', currency='USD', localSymbol='SPX   190118C02260000', tradingClass='SPX')\n",
      "Error 10090, reqId 1796: Part of requested market data is not subscribed. Subscription-independent ticks are still active.Delayed market data is available.SPX S&P 500 Stock Index/TOP/ALL, contract: Contract(secType='OPT', conId=336948268, symbol='SPX', lastTradeDateOrContractMonth='20190117', strike=2265.0, right='C', multiplier='100', exchange='SMART', currency='USD', localSymbol='SPX   190118C02265000', tradingClass='SPX')\n",
      "Error 10090, reqId 1797: Part of requested market data is not subscribed. Subscription-independent ticks are still active.Delayed market data is available.SPX S&P 500 Stock Index/TOP/ALL, contract: Contract(secType='OPT', conId=334826264, symbol='SPX', lastTradeDateOrContractMonth='20190117', strike=2270.0, right='C', multiplier='100', exchange='SMART', currency='USD', localSymbol='SPX   190118C02270000', tradingClass='SPX')\n"
     ]
    },
    {
     "name": "stderr",
     "output_type": "stream",
     "text": [
      "Error 10090, reqId 1798: Part of requested market data is not subscribed. Subscription-independent ticks are still active.Delayed market data is available.SPX S&P 500 Stock Index/TOP/ALL, contract: Contract(secType='OPT', conId=290075787, symbol='SPX', lastTradeDateOrContractMonth='20190117', strike=2275.0, right='C', multiplier='100', exchange='SMART', currency='USD', localSymbol='SPX   190118C02275000', tradingClass='SPX')\n",
      "Error 10090, reqId 1799: Part of requested market data is not subscribed. Subscription-independent ticks are still active.Delayed market data is available.SPX S&P 500 Stock Index/TOP/ALL, contract: Contract(secType='OPT', conId=334826273, symbol='SPX', lastTradeDateOrContractMonth='20190117', strike=2280.0, right='C', multiplier='100', exchange='SMART', currency='USD', localSymbol='SPX   190118C02280000', tradingClass='SPX')\n",
      "Error 10090, reqId 1800: Part of requested market data is not subscribed. Subscription-independent ticks are still active.Delayed market data is available.SPX S&P 500 Stock Index/TOP/ALL, contract: Contract(secType='OPT', conId=336948280, symbol='SPX', lastTradeDateOrContractMonth='20190117', strike=2285.0, right='C', multiplier='100', exchange='SMART', currency='USD', localSymbol='SPX   190118C02285000', tradingClass='SPX')\n",
      "Error 10090, reqId 1801: Part of requested market data is not subscribed. Subscription-independent ticks are still active.Delayed market data is available.SPX S&P 500 Stock Index/TOP/ALL, contract: Contract(secType='OPT', conId=334826288, symbol='SPX', lastTradeDateOrContractMonth='20190117', strike=2290.0, right='C', multiplier='100', exchange='SMART', currency='USD', localSymbol='SPX   190118C02290000', tradingClass='SPX')\n",
      "Error 10090, reqId 1802: Part of requested market data is not subscribed. Subscription-independent ticks are still active.Delayed market data is available.SPX S&P 500 Stock Index/TOP/ALL, contract: Contract(secType='OPT', conId=336948288, symbol='SPX', lastTradeDateOrContractMonth='20190117', strike=2295.0, right='C', multiplier='100', exchange='SMART', currency='USD', localSymbol='SPX   190118C02295000', tradingClass='SPX')\n",
      "Error 10090, reqId 1803: Part of requested market data is not subscribed. Subscription-independent ticks are still active.Delayed market data is available.SPX S&P 500 Stock Index/TOP/ALL, contract: Contract(secType='OPT', conId=290075790, symbol='SPX', lastTradeDateOrContractMonth='20190117', strike=2300.0, right='C', multiplier='100', exchange='SMART', currency='USD', localSymbol='SPX   190118C02300000', tradingClass='SPX')\n",
      "Error 10090, reqId 1804: Part of requested market data is not subscribed. Subscription-independent ticks are still active.Delayed market data is available.SPX S&P 500 Stock Index/TOP/ALL, contract: Contract(secType='OPT', conId=336385810, symbol='SPX', lastTradeDateOrContractMonth='20190117', strike=2305.0, right='C', multiplier='100', exchange='SMART', currency='USD', localSymbol='SPX   190118C02305000', tradingClass='SPX')\n",
      "Error 10090, reqId 1805: Part of requested market data is not subscribed. Subscription-independent ticks are still active.Delayed market data is available.SPX S&P 500 Stock Index/TOP/ALL, contract: Contract(secType='OPT', conId=334826303, symbol='SPX', lastTradeDateOrContractMonth='20190117', strike=2310.0, right='C', multiplier='100', exchange='SMART', currency='USD', localSymbol='SPX   190118C02310000', tradingClass='SPX')\n",
      "Error 10090, reqId 1806: Part of requested market data is not subscribed. Subscription-independent ticks are still active.Delayed market data is available.SPX S&P 500 Stock Index/TOP/ALL, contract: Contract(secType='OPT', conId=336385815, symbol='SPX', lastTradeDateOrContractMonth='20190117', strike=2315.0, right='C', multiplier='100', exchange='SMART', currency='USD', localSymbol='SPX   190118C02315000', tradingClass='SPX')\n",
      "Error 10090, reqId 1807: Part of requested market data is not subscribed. Subscription-independent ticks are still active.Delayed market data is available.SPX S&P 500 Stock Index/TOP/ALL, contract: Contract(secType='OPT', conId=334826326, symbol='SPX', lastTradeDateOrContractMonth='20190117', strike=2320.0, right='C', multiplier='100', exchange='SMART', currency='USD', localSymbol='SPX   190118C02320000', tradingClass='SPX')\n",
      "Error 10090, reqId 1808: Part of requested market data is not subscribed. Subscription-independent ticks are still active.Delayed market data is available.SPX S&P 500 Stock Index/TOP/ALL, contract: Contract(secType='OPT', conId=290075792, symbol='SPX', lastTradeDateOrContractMonth='20190117', strike=2325.0, right='C', multiplier='100', exchange='SMART', currency='USD', localSymbol='SPX   190118C02325000', tradingClass='SPX')\n",
      "Error 10090, reqId 1809: Part of requested market data is not subscribed. Subscription-independent ticks are still active.Delayed market data is available.SPX S&P 500 Stock Index/TOP/ALL, contract: Contract(secType='OPT', conId=334826336, symbol='SPX', lastTradeDateOrContractMonth='20190117', strike=2330.0, right='C', multiplier='100', exchange='SMART', currency='USD', localSymbol='SPX   190118C02330000', tradingClass='SPX')\n",
      "Error 10090, reqId 1810: Part of requested market data is not subscribed. Subscription-independent ticks are still active.Delayed market data is available.SPX S&P 500 Stock Index/TOP/ALL, contract: Contract(secType='OPT', conId=335022966, symbol='SPX', lastTradeDateOrContractMonth='20190117', strike=2335.0, right='C', multiplier='100', exchange='SMART', currency='USD', localSymbol='SPX   190118C02335000', tradingClass='SPX')\n",
      "Error 10090, reqId 1811: Part of requested market data is not subscribed. Subscription-independent ticks are still active.Delayed market data is available.SPX S&P 500 Stock Index/TOP/ALL, contract: Contract(secType='OPT', conId=334826346, symbol='SPX', lastTradeDateOrContractMonth='20190117', strike=2340.0, right='C', multiplier='100', exchange='SMART', currency='USD', localSymbol='SPX   190118C02340000', tradingClass='SPX')\n",
      "Error 10090, reqId 1812: Part of requested market data is not subscribed. Subscription-independent ticks are still active.Delayed market data is available.SPX S&P 500 Stock Index/TOP/ALL, contract: Contract(secType='OPT', conId=334826366, symbol='SPX', lastTradeDateOrContractMonth='20190117', strike=2345.0, right='C', multiplier='100', exchange='SMART', currency='USD', localSymbol='SPX   190118C02345000', tradingClass='SPX')\n",
      "Error 10090, reqId 1813: Part of requested market data is not subscribed. Subscription-independent ticks are still active.Delayed market data is available.SPX S&P 500 Stock Index/TOP/ALL, contract: Contract(secType='OPT', conId=290075797, symbol='SPX', lastTradeDateOrContractMonth='20190117', strike=2350.0, right='C', multiplier='100', exchange='SMART', currency='USD', localSymbol='SPX   190118C02350000', tradingClass='SPX')\n",
      "Error 10090, reqId 1814: Part of requested market data is not subscribed. Subscription-independent ticks are still active.Delayed market data is available.SPX S&P 500 Stock Index/TOP/ALL, contract: Contract(secType='OPT', conId=334826379, symbol='SPX', lastTradeDateOrContractMonth='20190117', strike=2355.0, right='C', multiplier='100', exchange='SMART', currency='USD', localSymbol='SPX   190118C02355000', tradingClass='SPX')\n",
      "Error 10090, reqId 1815: Part of requested market data is not subscribed. Subscription-independent ticks are still active.Delayed market data is available.SPX S&P 500 Stock Index/TOP/ALL, contract: Contract(secType='OPT', conId=334826389, symbol='SPX', lastTradeDateOrContractMonth='20190117', strike=2360.0, right='C', multiplier='100', exchange='SMART', currency='USD', localSymbol='SPX   190118C02360000', tradingClass='SPX')\n",
      "Error 10090, reqId 1816: Part of requested market data is not subscribed. Subscription-independent ticks are still active.Delayed market data is available.SPX S&P 500 Stock Index/TOP/ALL, contract: Contract(secType='OPT', conId=334826406, symbol='SPX', lastTradeDateOrContractMonth='20190117', strike=2365.0, right='C', multiplier='100', exchange='SMART', currency='USD', localSymbol='SPX   190118C02365000', tradingClass='SPX')\n",
      "Error 10090, reqId 1817: Part of requested market data is not subscribed. Subscription-independent ticks are still active.Delayed market data is available.SPX S&P 500 Stock Index/TOP/ALL, contract: Contract(secType='OPT', conId=334826423, symbol='SPX', lastTradeDateOrContractMonth='20190117', strike=2370.0, right='C', multiplier='100', exchange='SMART', currency='USD', localSymbol='SPX   190118C02370000', tradingClass='SPX')\n"
     ]
    },
    {
     "name": "stderr",
     "output_type": "stream",
     "text": [
      "Error 10090, reqId 1818: Part of requested market data is not subscribed. Subscription-independent ticks are still active.Delayed market data is available.SPX S&P 500 Stock Index/TOP/ALL, contract: Contract(secType='OPT', conId=290075802, symbol='SPX', lastTradeDateOrContractMonth='20190117', strike=2375.0, right='C', multiplier='100', exchange='SMART', currency='USD', localSymbol='SPX   190118C02375000', tradingClass='SPX')\n",
      "Error 10090, reqId 1819: Part of requested market data is not subscribed. Subscription-independent ticks are still active.Delayed market data is available.SPX S&P 500 Stock Index/TOP/ALL, contract: Contract(secType='OPT', conId=334826429, symbol='SPX', lastTradeDateOrContractMonth='20190117', strike=2380.0, right='C', multiplier='100', exchange='SMART', currency='USD', localSymbol='SPX   190118C02380000', tradingClass='SPX')\n",
      "Error 10090, reqId 1820: Part of requested market data is not subscribed. Subscription-independent ticks are still active.Delayed market data is available.SPX S&P 500 Stock Index/TOP/ALL, contract: Contract(secType='OPT', conId=334826442, symbol='SPX', lastTradeDateOrContractMonth='20190117', strike=2385.0, right='C', multiplier='100', exchange='SMART', currency='USD', localSymbol='SPX   190118C02385000', tradingClass='SPX')\n",
      "Error 10090, reqId 1821: Part of requested market data is not subscribed. Subscription-independent ticks are still active.Delayed market data is available.SPX S&P 500 Stock Index/TOP/ALL, contract: Contract(secType='OPT', conId=334826459, symbol='SPX', lastTradeDateOrContractMonth='20190117', strike=2390.0, right='C', multiplier='100', exchange='SMART', currency='USD', localSymbol='SPX   190118C02390000', tradingClass='SPX')\n",
      "Error 10090, reqId 1822: Part of requested market data is not subscribed. Subscription-independent ticks are still active.Delayed market data is available.SPX S&P 500 Stock Index/TOP/ALL, contract: Contract(secType='OPT', conId=334826472, symbol='SPX', lastTradeDateOrContractMonth='20190117', strike=2395.0, right='C', multiplier='100', exchange='SMART', currency='USD', localSymbol='SPX   190118C02395000', tradingClass='SPX')\n",
      "Error 10090, reqId 1823: Part of requested market data is not subscribed. Subscription-independent ticks are still active.Delayed market data is available.SPX S&P 500 Stock Index/TOP/ALL, contract: Contract(secType='OPT', conId=290075807, symbol='SPX', lastTradeDateOrContractMonth='20190117', strike=2400.0, right='C', multiplier='100', exchange='SMART', currency='USD', localSymbol='SPX   190118C02400000', tradingClass='SPX')\n",
      "Error 10090, reqId 1824: Part of requested market data is not subscribed. Subscription-independent ticks are still active.Delayed market data is available.SPX S&P 500 Stock Index/TOP/ALL, contract: Contract(secType='OPT', conId=334826486, symbol='SPX', lastTradeDateOrContractMonth='20190117', strike=2405.0, right='C', multiplier='100', exchange='SMART', currency='USD', localSymbol='SPX   190118C02405000', tradingClass='SPX')\n",
      "Error 10090, reqId 1825: Part of requested market data is not subscribed. Subscription-independent ticks are still active.Delayed market data is available.SPX S&P 500 Stock Index/TOP/ALL, contract: Contract(secType='OPT', conId=334826500, symbol='SPX', lastTradeDateOrContractMonth='20190117', strike=2410.0, right='C', multiplier='100', exchange='SMART', currency='USD', localSymbol='SPX   190118C02410000', tradingClass='SPX')\n",
      "Error 10090, reqId 1826: Part of requested market data is not subscribed. Subscription-independent ticks are still active.Delayed market data is available.SPX S&P 500 Stock Index/TOP/ALL, contract: Contract(secType='OPT', conId=334826512, symbol='SPX', lastTradeDateOrContractMonth='20190117', strike=2415.0, right='C', multiplier='100', exchange='SMART', currency='USD', localSymbol='SPX   190118C02415000', tradingClass='SPX')\n",
      "Error 10090, reqId 1827: Part of requested market data is not subscribed. Subscription-independent ticks are still active.Delayed market data is available.SPX S&P 500 Stock Index/TOP/ALL, contract: Contract(secType='OPT', conId=334826522, symbol='SPX', lastTradeDateOrContractMonth='20190117', strike=2420.0, right='C', multiplier='100', exchange='SMART', currency='USD', localSymbol='SPX   190118C02420000', tradingClass='SPX')\n",
      "Error 10090, reqId 1828: Part of requested market data is not subscribed. Subscription-independent ticks are still active.Delayed market data is available.SPX S&P 500 Stock Index/TOP/ALL, contract: Contract(secType='OPT', conId=290075811, symbol='SPX', lastTradeDateOrContractMonth='20190117', strike=2425.0, right='C', multiplier='100', exchange='SMART', currency='USD', localSymbol='SPX   190118C02425000', tradingClass='SPX')\n",
      "Error 10090, reqId 1829: Part of requested market data is not subscribed. Subscription-independent ticks are still active.Delayed market data is available.SPX S&P 500 Stock Index/TOP/ALL, contract: Contract(secType='OPT', conId=334826534, symbol='SPX', lastTradeDateOrContractMonth='20190117', strike=2430.0, right='C', multiplier='100', exchange='SMART', currency='USD', localSymbol='SPX   190118C02430000', tradingClass='SPX')\n",
      "Error 10090, reqId 1830: Part of requested market data is not subscribed. Subscription-independent ticks are still active.Delayed market data is available.SPX S&P 500 Stock Index/TOP/ALL, contract: Contract(secType='OPT', conId=334826551, symbol='SPX', lastTradeDateOrContractMonth='20190117', strike=2435.0, right='C', multiplier='100', exchange='SMART', currency='USD', localSymbol='SPX   190118C02435000', tradingClass='SPX')\n",
      "Error 10090, reqId 1831: Part of requested market data is not subscribed. Subscription-independent ticks are still active.Delayed market data is available.SPX S&P 500 Stock Index/TOP/ALL, contract: Contract(secType='OPT', conId=334826565, symbol='SPX', lastTradeDateOrContractMonth='20190117', strike=2440.0, right='C', multiplier='100', exchange='SMART', currency='USD', localSymbol='SPX   190118C02440000', tradingClass='SPX')\n",
      "Error 10090, reqId 1832: Part of requested market data is not subscribed. Subscription-independent ticks are still active.Delayed market data is available.SPX S&P 500 Stock Index/TOP/ALL, contract: Contract(secType='OPT', conId=334826577, symbol='SPX', lastTradeDateOrContractMonth='20190117', strike=2445.0, right='C', multiplier='100', exchange='SMART', currency='USD', localSymbol='SPX   190118C02445000', tradingClass='SPX')\n",
      "Error 10090, reqId 1833: Part of requested market data is not subscribed. Subscription-independent ticks are still active.Delayed market data is available.SPX S&P 500 Stock Index/TOP/ALL, contract: Contract(secType='OPT', conId=290075814, symbol='SPX', lastTradeDateOrContractMonth='20190117', strike=2450.0, right='C', multiplier='100', exchange='SMART', currency='USD', localSymbol='SPX   190118C02450000', tradingClass='SPX')\n",
      "Error 10090, reqId 1834: Part of requested market data is not subscribed. Subscription-independent ticks are still active.Delayed market data is available.SPX S&P 500 Stock Index/TOP/ALL, contract: Contract(secType='OPT', conId=334826587, symbol='SPX', lastTradeDateOrContractMonth='20190117', strike=2455.0, right='C', multiplier='100', exchange='SMART', currency='USD', localSymbol='SPX   190118C02455000', tradingClass='SPX')\n",
      "Error 10090, reqId 1835: Part of requested market data is not subscribed. Subscription-independent ticks are still active.Delayed market data is available.SPX S&P 500 Stock Index/TOP/ALL, contract: Contract(secType='OPT', conId=334826600, symbol='SPX', lastTradeDateOrContractMonth='20190117', strike=2460.0, right='C', multiplier='100', exchange='SMART', currency='USD', localSymbol='SPX   190118C02460000', tradingClass='SPX')\n",
      "Error 10090, reqId 1836: Part of requested market data is not subscribed. Subscription-independent ticks are still active.Delayed market data is available.SPX S&P 500 Stock Index/TOP/ALL, contract: Contract(secType='OPT', conId=334826614, symbol='SPX', lastTradeDateOrContractMonth='20190117', strike=2465.0, right='C', multiplier='100', exchange='SMART', currency='USD', localSymbol='SPX   190118C02465000', tradingClass='SPX')\n",
      "Error 10090, reqId 1837: Part of requested market data is not subscribed. Subscription-independent ticks are still active.Delayed market data is available.SPX S&P 500 Stock Index/TOP/ALL, contract: Contract(secType='OPT', conId=334826627, symbol='SPX', lastTradeDateOrContractMonth='20190117', strike=2470.0, right='C', multiplier='100', exchange='SMART', currency='USD', localSymbol='SPX   190118C02470000', tradingClass='SPX')\n"
     ]
    },
    {
     "name": "stderr",
     "output_type": "stream",
     "text": [
      "Error 10090, reqId 1838: Part of requested market data is not subscribed. Subscription-independent ticks are still active.Delayed market data is available.SPX S&P 500 Stock Index/TOP/ALL, contract: Contract(secType='OPT', conId=290075817, symbol='SPX', lastTradeDateOrContractMonth='20190117', strike=2475.0, right='C', multiplier='100', exchange='SMART', currency='USD', localSymbol='SPX   190118C02475000', tradingClass='SPX')\n",
      "Error 10090, reqId 1839: Part of requested market data is not subscribed. Subscription-independent ticks are still active.Delayed market data is available.SPX S&P 500 Stock Index/TOP/ALL, contract: Contract(secType='OPT', conId=334826642, symbol='SPX', lastTradeDateOrContractMonth='20190117', strike=2480.0, right='C', multiplier='100', exchange='SMART', currency='USD', localSymbol='SPX   190118C02480000', tradingClass='SPX')\n",
      "Error 10090, reqId 1840: Part of requested market data is not subscribed. Subscription-independent ticks are still active.Delayed market data is available.SPX S&P 500 Stock Index/TOP/ALL, contract: Contract(secType='OPT', conId=334826653, symbol='SPX', lastTradeDateOrContractMonth='20190117', strike=2485.0, right='C', multiplier='100', exchange='SMART', currency='USD', localSymbol='SPX   190118C02485000', tradingClass='SPX')\n",
      "Error 10090, reqId 1841: Part of requested market data is not subscribed. Subscription-independent ticks are still active.Delayed market data is available.SPX S&P 500 Stock Index/TOP/ALL, contract: Contract(secType='OPT', conId=334826660, symbol='SPX', lastTradeDateOrContractMonth='20190117', strike=2490.0, right='C', multiplier='100', exchange='SMART', currency='USD', localSymbol='SPX   190118C02490000', tradingClass='SPX')\n",
      "Error 10090, reqId 1842: Part of requested market data is not subscribed. Subscription-independent ticks are still active.Delayed market data is available.SPX S&P 500 Stock Index/TOP/ALL, contract: Contract(secType='OPT', conId=334826670, symbol='SPX', lastTradeDateOrContractMonth='20190117', strike=2495.0, right='C', multiplier='100', exchange='SMART', currency='USD', localSymbol='SPX   190118C02495000', tradingClass='SPX')\n",
      "Error 10090, reqId 1843: Part of requested market data is not subscribed. Subscription-independent ticks are still active.Delayed market data is available.SPX S&P 500 Stock Index/TOP/ALL, contract: Contract(secType='OPT', conId=290075820, symbol='SPX', lastTradeDateOrContractMonth='20190117', strike=2500.0, right='C', multiplier='100', exchange='SMART', currency='USD', localSymbol='SPX   190118C02500000', tradingClass='SPX')\n",
      "Error 10090, reqId 1844: Part of requested market data is not subscribed. Subscription-independent ticks are still active.Delayed market data is available.SPX S&P 500 Stock Index/TOP/ALL, contract: Contract(secType='OPT', conId=334826687, symbol='SPX', lastTradeDateOrContractMonth='20190117', strike=2505.0, right='C', multiplier='100', exchange='SMART', currency='USD', localSymbol='SPX   190118C02505000', tradingClass='SPX')\n",
      "Error 10090, reqId 1846: Part of requested market data is not subscribed. Subscription-independent ticks are still active.Delayed market data is available.SPX S&P 500 Stock Index/TOP/ALL, contract: Contract(secType='OPT', conId=334826710, symbol='SPX', lastTradeDateOrContractMonth='20190117', strike=2515.0, right='C', multiplier='100', exchange='SMART', currency='USD', localSymbol='SPX   190118C02515000', tradingClass='SPX')\n",
      "Error 10090, reqId 1847: Part of requested market data is not subscribed. Subscription-independent ticks are still active.Delayed market data is available.SPX S&P 500 Stock Index/TOP/ALL, contract: Contract(secType='OPT', conId=334826735, symbol='SPX', lastTradeDateOrContractMonth='20190117', strike=2520.0, right='C', multiplier='100', exchange='SMART', currency='USD', localSymbol='SPX   190118C02520000', tradingClass='SPX')\n",
      "Error 10090, reqId 1848: Part of requested market data is not subscribed. Subscription-independent ticks are still active.Delayed market data is available.SPX S&P 500 Stock Index/TOP/ALL, contract: Contract(secType='OPT', conId=290075826, symbol='SPX', lastTradeDateOrContractMonth='20190117', strike=2525.0, right='C', multiplier='100', exchange='SMART', currency='USD', localSymbol='SPX   190118C02525000', tradingClass='SPX')\n",
      "Error 10090, reqId 1849: Part of requested market data is not subscribed. Subscription-independent ticks are still active.Delayed market data is available.SPX S&P 500 Stock Index/TOP/ALL, contract: Contract(secType='OPT', conId=334826747, symbol='SPX', lastTradeDateOrContractMonth='20190117', strike=2530.0, right='C', multiplier='100', exchange='SMART', currency='USD', localSymbol='SPX   190118C02530000', tradingClass='SPX')\n",
      "Error 10090, reqId 1850: Part of requested market data is not subscribed. Subscription-independent ticks are still active.Delayed market data is available.SPX S&P 500 Stock Index/TOP/ALL, contract: Contract(secType='OPT', conId=334826752, symbol='SPX', lastTradeDateOrContractMonth='20190117', strike=2535.0, right='C', multiplier='100', exchange='SMART', currency='USD', localSymbol='SPX   190118C02535000', tradingClass='SPX')\n",
      "Error 10090, reqId 1851: Part of requested market data is not subscribed. Subscription-independent ticks are still active.Delayed market data is available.SPX S&P 500 Stock Index/TOP/ALL, contract: Contract(secType='OPT', conId=334826762, symbol='SPX', lastTradeDateOrContractMonth='20190117', strike=2540.0, right='C', multiplier='100', exchange='SMART', currency='USD', localSymbol='SPX   190118C02540000', tradingClass='SPX')\n",
      "Error 10090, reqId 1845: Part of requested market data is not subscribed. Subscription-independent ticks are still active.Delayed market data is available.SPX S&P 500 Stock Index/TOP/ALL, contract: Contract(secType='OPT', conId=334826696, symbol='SPX', lastTradeDateOrContractMonth='20190117', strike=2510.0, right='C', multiplier='100', exchange='SMART', currency='USD', localSymbol='SPX   190118C02510000', tradingClass='SPX')\n",
      "Error 10090, reqId 1852: Part of requested market data is not subscribed. Subscription-independent ticks are still active.Delayed market data is available.SPX S&P 500 Stock Index/TOP/ALL, contract: Contract(secType='OPT', conId=334826779, symbol='SPX', lastTradeDateOrContractMonth='20190117', strike=2545.0, right='C', multiplier='100', exchange='SMART', currency='USD', localSymbol='SPX   190118C02545000', tradingClass='SPX')\n",
      "Error 10090, reqId 1853: Part of requested market data is not subscribed. Subscription-independent ticks are still active.Delayed market data is available.SPX S&P 500 Stock Index/TOP/ALL, contract: Contract(secType='OPT', conId=290075831, symbol='SPX', lastTradeDateOrContractMonth='20190117', strike=2550.0, right='C', multiplier='100', exchange='SMART', currency='USD', localSymbol='SPX   190118C02550000', tradingClass='SPX')\n",
      "Error 10090, reqId 1854: Part of requested market data is not subscribed. Subscription-independent ticks are still active.Delayed market data is available.SPX S&P 500 Stock Index/TOP/ALL, contract: Contract(secType='OPT', conId=334826792, symbol='SPX', lastTradeDateOrContractMonth='20190117', strike=2555.0, right='C', multiplier='100', exchange='SMART', currency='USD', localSymbol='SPX   190118C02555000', tradingClass='SPX')\n",
      "Error 10090, reqId 1855: Part of requested market data is not subscribed. Subscription-independent ticks are still active.Delayed market data is available.SPX S&P 500 Stock Index/TOP/ALL, contract: Contract(secType='OPT', conId=334826806, symbol='SPX', lastTradeDateOrContractMonth='20190117', strike=2560.0, right='C', multiplier='100', exchange='SMART', currency='USD', localSymbol='SPX   190118C02560000', tradingClass='SPX')\n",
      "Error 10090, reqId 1856: Part of requested market data is not subscribed. Subscription-independent ticks are still active.Delayed market data is available.SPX S&P 500 Stock Index/TOP/ALL, contract: Contract(secType='OPT', conId=334826817, symbol='SPX', lastTradeDateOrContractMonth='20190117', strike=2565.0, right='C', multiplier='100', exchange='SMART', currency='USD', localSymbol='SPX   190118C02565000', tradingClass='SPX')\n",
      "Error 10090, reqId 1857: Part of requested market data is not subscribed. Subscription-independent ticks are still active.Delayed market data is available.SPX S&P 500 Stock Index/TOP/ALL, contract: Contract(secType='OPT', conId=334826832, symbol='SPX', lastTradeDateOrContractMonth='20190117', strike=2570.0, right='C', multiplier='100', exchange='SMART', currency='USD', localSymbol='SPX   190118C02570000', tradingClass='SPX')\n"
     ]
    },
    {
     "name": "stderr",
     "output_type": "stream",
     "text": [
      "Error 10090, reqId 1858: Part of requested market data is not subscribed. Subscription-independent ticks are still active.Delayed market data is available.SPX S&P 500 Stock Index/TOP/ALL, contract: Contract(secType='OPT', conId=290075832, symbol='SPX', lastTradeDateOrContractMonth='20190117', strike=2575.0, right='C', multiplier='100', exchange='SMART', currency='USD', localSymbol='SPX   190118C02575000', tradingClass='SPX')\n",
      "Error 10090, reqId 1859: Part of requested market data is not subscribed. Subscription-independent ticks are still active.Delayed market data is available.SPX S&P 500 Stock Index/TOP/ALL, contract: Contract(secType='OPT', conId=334826847, symbol='SPX', lastTradeDateOrContractMonth='20190117', strike=2580.0, right='C', multiplier='100', exchange='SMART', currency='USD', localSymbol='SPX   190118C02580000', tradingClass='SPX')\n",
      "Error 10090, reqId 1860: Part of requested market data is not subscribed. Subscription-independent ticks are still active.Delayed market data is available.SPX S&P 500 Stock Index/TOP/ALL, contract: Contract(secType='OPT', conId=334826857, symbol='SPX', lastTradeDateOrContractMonth='20190117', strike=2585.0, right='C', multiplier='100', exchange='SMART', currency='USD', localSymbol='SPX   190118C02585000', tradingClass='SPX')\n",
      "Error 10090, reqId 1861: Part of requested market data is not subscribed. Subscription-independent ticks are still active.Delayed market data is available.SPX S&P 500 Stock Index/TOP/ALL, contract: Contract(secType='OPT', conId=334826871, symbol='SPX', lastTradeDateOrContractMonth='20190117', strike=2590.0, right='C', multiplier='100', exchange='SMART', currency='USD', localSymbol='SPX   190118C02590000', tradingClass='SPX')\n",
      "Error 10090, reqId 1862: Part of requested market data is not subscribed. Subscription-independent ticks are still active.Delayed market data is available.SPX S&P 500 Stock Index/TOP/ALL, contract: Contract(secType='OPT', conId=334826882, symbol='SPX', lastTradeDateOrContractMonth='20190117', strike=2595.0, right='C', multiplier='100', exchange='SMART', currency='USD', localSymbol='SPX   190118C02595000', tradingClass='SPX')\n",
      "Error 10090, reqId 1863: Part of requested market data is not subscribed. Subscription-independent ticks are still active.Delayed market data is available.SPX S&P 500 Stock Index/TOP/ALL, contract: Contract(secType='OPT', conId=290075837, symbol='SPX', lastTradeDateOrContractMonth='20190117', strike=2600.0, right='C', multiplier='100', exchange='SMART', currency='USD', localSymbol='SPX   190118C02600000', tradingClass='SPX')\n",
      "Error 10090, reqId 1864: Part of requested market data is not subscribed. Subscription-independent ticks are still active.Delayed market data is available.SPX S&P 500 Stock Index/TOP/ALL, contract: Contract(secType='OPT', conId=334826893, symbol='SPX', lastTradeDateOrContractMonth='20190117', strike=2605.0, right='C', multiplier='100', exchange='SMART', currency='USD', localSymbol='SPX   190118C02605000', tradingClass='SPX')\n",
      "Error 10090, reqId 1865: Part of requested market data is not subscribed. Subscription-independent ticks are still active.Delayed market data is available.SPX S&P 500 Stock Index/TOP/ALL, contract: Contract(secType='OPT', conId=334826908, symbol='SPX', lastTradeDateOrContractMonth='20190117', strike=2610.0, right='C', multiplier='100', exchange='SMART', currency='USD', localSymbol='SPX   190118C02610000', tradingClass='SPX')\n",
      "Error 10090, reqId 1866: Part of requested market data is not subscribed. Subscription-independent ticks are still active.Delayed market data is available.SPX S&P 500 Stock Index/TOP/ALL, contract: Contract(secType='OPT', conId=334826927, symbol='SPX', lastTradeDateOrContractMonth='20190117', strike=2615.0, right='C', multiplier='100', exchange='SMART', currency='USD', localSymbol='SPX   190118C02615000', tradingClass='SPX')\n"
     ]
    },
    {
     "name": "stdout",
     "output_type": "stream",
     "text": [
      "SPX   190118P02790000 -1.0 -1.0\n",
      "SPX   190118P02900000 -1.0 -1.0\n",
      "SPX   190118P02805000 -1.0 -1.0\n",
      "SPX   190118C02000000 -1.0 -1.0\n",
      "SPX   190118P02880000 -1.0 -1.0\n",
      "SPX   190118P02625000 -1.0 -1.0\n",
      "SPX   190118C01575000 -1.0 -1.0\n",
      "SPX   190118C02385000 -1.0 -1.0\n",
      "SPX   190118P02575000 -1.0 -1.0\n",
      "SPX   190118P02530000 -1.0 -1.0\n",
      "SPX   190118P02620000 -1.0 -1.0\n",
      "SPX   190118P02665000 -1.0 -1.0\n",
      "SPX   190118P02710000 -1.0 -1.0\n",
      "SPX   190118P02755000 -1.0 -1.0\n",
      "SPX   190118P02800000 -1.0 -1.0\n",
      "SPX   190118P02845000 -1.0 -1.0\n",
      "SPX   190118P03145000 -1.0 -1.0\n",
      "SPX   190118P02935000 -1.0 -1.0\n",
      "SPX   190118C01275000 -1.0 -1.0\n",
      "SPX   190118P02905000 -1.0 -1.0\n",
      "SPX   190118C02490000 -1.0 -1.0\n",
      "SPX   190118C02520000 -1.0 -1.0\n",
      "SPX   190118P03005000 -1.0 -1.0\n",
      "SPX   190118P03095000 -1.0 -1.0\n",
      "SPX   190118P03140000 -1.0 -1.0\n",
      "SPX   190118C01250000 -1.0 -1.0\n",
      "SPX   190118C01910000 -1.0 -1.0\n",
      "SPX   190118C02050000 -1.0 -1.0\n",
      "SPX   190118C01700000 -1.0 -1.0\n",
      "SPX   190118C02410000 -1.0 -1.0\n",
      "SPX   190118C02455000 -1.0 -1.0\n",
      "SPX   190118P02555000 -1.0 -1.0\n",
      "SPX   190118P02885000 -1.0 -1.0\n",
      "SPX   190118C02010000 -1.0 -1.0\n",
      "SPX   190118P02630000 -1.0 -1.0\n",
      "SPX   190118C02245000 -1.0 -1.0\n",
      "SPX   190118C02275000 -1.0 -1.0\n",
      "SPX   190118P03150000 -1.0 -1.0\n",
      "SPX   190118C01300000 -1.0 -1.0\n",
      "SPX   190118P02910000 -1.0 -1.0\n",
      "SPX   190118C02495000 -1.0 -1.0\n",
      "SPX   190118C02525000 -1.0 -1.0\n",
      "SPX   190118P02940000 -1.0 -1.0\n",
      "SPX   190118C02280000 -1.0 -1.0\n",
      "SPX   190118C02295000 -1.0 -1.0\n",
      "SPX   190118P03275000 -1.0 -1.0\n",
      "SPX   190118C01350000 -1.0 -1.0\n",
      "SPX   190118P02635000 -1.0 -1.0\n",
      "SPX   190118P02915000 -1.0 -1.0\n",
      "SPX   190118C02500000 -1.0 -1.0\n",
      "SPX   190118P03160000 -1.0 -1.0\n",
      "SPX   190118C01325000 -1.0 -1.0\n",
      "SPX   190118P02945000 -1.0 -1.0\n",
      "SPX   190118P02640000 -1.0 -1.0\n",
      "SPX   190118C02285000 -1.0 -1.0\n",
      "SPX   190118C02300000 -1.0 -1.0\n",
      "SPX   190118P02670000 -1.0 -1.0\n",
      "SPX   190118P02920000 -1.0 -1.0\n",
      "SPX   190118P02950000 -1.0 -1.0\n",
      "SPX   190118C02505000 -1.0 -1.0\n",
      "SPX   190118C02070000 -1.0 -1.0\n",
      "SPX   190118P02645000 -1.0 -1.0\n",
      "SPX   190118C02290000 -1.0 -1.0\n",
      "SPX   190118C02305000 -1.0 -1.0\n",
      "SPX   190118P03210000 -1.0 -1.0\n",
      "SPX   190118P03350000 -1.0 -1.0\n",
      "SPX   190118P02675000 -1.0 -1.0\n",
      "SPX   190118P02955000 -1.0 -1.0\n",
      "SPX   190118C02540000 -1.0 -1.0\n",
      "SPX   190118C02060000 -1.0 -1.0\n",
      "SPX   190118C02075000 -1.0 -1.0\n",
      "SPX   190118P02925000 -1.0 -1.0\n",
      "SPX   190118C02510000 -1.0 -1.0\n",
      "SPX   190118P03220000 -1.0 -1.0\n",
      "SPX   190118P02680000 -1.0 -1.0\n",
      "SPX   190118C02310000 -1.0 -1.0\n",
      "SPX   190118P03400000 -1.0 -1.0\n",
      "SPX   190118P04000000 -1.0 -1.0\n",
      "SPX   190118C02565000 -1.0 -1.0\n",
      "SPX   190118C02480000 -1.0 -1.0\n",
      "SPX   190118C02210000 -1.0 -1.0\n",
      "SPX   190118P03030000 -1.0 -1.0\n",
      "SPX   190118P03175000 -1.0 -1.0\n",
      "SPX   190118C01875000 -1.0 -1.0\n",
      "SPX   190118P03300000 -1.0 -1.0\n",
      "SPX   190118C02165000 -1.0 -1.0\n",
      "SPX   190118C01375000 -1.0 -1.0\n",
      "SPX   190118P02985000 -1.0 -1.0\n",
      "SPX   190118P03075000 -1.0 -1.0\n",
      "SPX   190118P02960000 -1.0 -1.0\n",
      "SPX   190118C02080000 -1.0 -1.0\n",
      "SPX   190118P02930000 -1.0 -1.0\n",
      "SPX   190118C02515000 -1.0 -1.0\n",
      "SPX   190118C02545000 -1.0 -1.0\n",
      "SPX   190118C01725000 -1.0 -1.0\n",
      "SPX   190118C02415000 -1.0 -1.0\n",
      "SPX   190118C02460000 -1.0 -1.0\n",
      "SPX   190118P02605000 -1.0 -1.0\n",
      "SPX   190118P02560000 -1.0 -1.0\n",
      "SPX   190118P02650000 -1.0 -1.0\n",
      "SPX   190118P02695000 -1.0 -1.0\n",
      "SPX   190118P02740000 -1.0 -1.0\n",
      "SPX   190118P02785000 -1.0 -1.0\n",
      "SPX   190118P02830000 -1.0 -1.0\n",
      "SPX   190118P02685000 -1.0 -1.0\n",
      "SPX   190118C02315000 -1.0 -1.0\n",
      "SPX   190118C01450000 -1.0 -1.0\n",
      "SPX   190118C01600000 -1.0 -1.0\n",
      "SPX   190118P02655000 -1.0 -1.0\n",
      "SPX   190118P02715000 -1.0 -1.0\n",
      "SPX   190118C02570000 -1.0 -1.0\n",
      "SPX   190118P02965000 -1.0 -1.0\n",
      "SPX   190118P02980000 -1.0 -1.0\n",
      "SPX   190118C02340000 -1.0 -1.0\n",
      "SPX   190118C02550000 -1.0 -1.0\n",
      "SPX   190118P02690000 -1.0 -1.0\n",
      "SPX   190118P03600000 -1.0 -1.0\n",
      "SPX   190118C02320000 -1.0 -1.0\n",
      "SPX   190118C01475000 -1.0 -1.0\n",
      "SPX   190118C01625000 -1.0 -1.0\n",
      "SPX   190118P02660000 -1.0 -1.0\n",
      "SPX   190118P02720000 -1.0 -1.0\n",
      "SPX   190118C02575000 -1.0 -1.0\n",
      "SPX   190118C02345000 -1.0 -1.0\n",
      "SPX   190118C02555000 -1.0 -1.0\n",
      "SPX   190118P02970000 -1.0 -1.0\n",
      "SPX   190118P03700000 -1.0 -1.0\n",
      "SPX   190118C02325000 -1.0 -1.0\n",
      "SPX   190118C01500000 -1.0 -1.0\n",
      "SPX   190118C01650000 -1.0 -1.0\n",
      "SPX   190118P02725000 -1.0 -1.0\n",
      "SPX   190118C02115000 -1.0 -1.0\n",
      "SPX   190118C02580000 -1.0 -1.0\n",
      "SPX   190118P02990000 -1.0 -1.0\n",
      "SPX   190118P02975000 -1.0 -1.0\n",
      "SPX   190118C02560000 -1.0 -1.0\n",
      "SPX   190118P02730000 -1.0 -1.0\n",
      "SPX   190118C02120000 -1.0 -1.0\n",
      "SPX   190118C02330000 -1.0 -1.0\n",
      "SPX   190118P02700000 -1.0 -1.0\n",
      "SPX   190118P02760000 -1.0 -1.0\n",
      "SPX   190118C02585000 -1.0 -1.0\n",
      "SPX   190118C02100000 -1.0 -1.0\n",
      "SPX   190118P02995000 -1.0 -1.0\n",
      "SPX   190118P02735000 -1.0 -1.0\n",
      "SPX   190118C02125000 -1.0 -1.0\n",
      "SPX   190118C02335000 -1.0 -1.0\n",
      "SPX   190118C02485000 -1.0 -1.0\n",
      "SPX   190118C01880000 -1.0 -1.0\n",
      "SPX   190118C02030000 -1.0 -1.0\n",
      "SPX   190118C02440000 -1.0 -1.0\n",
      "SPX   190118C00950000 -1.0 -1.0\n",
      "SPX   190118C01400000 -1.0 -1.0\n",
      "SPX   190118C02350000 -1.0 -1.0\n",
      "SPX   190118P03035000 -1.0 -1.0\n",
      "SPX   190118P03180000 -1.0 -1.0\n",
      "SPX   190118C02530000 -1.0 -1.0\n",
      "SPX   190118C02105000 -1.0 -1.0\n",
      "SPX   190118P03000000 -1.0 -1.0\n",
      "SPX   190118C01800000 -1.0 -1.0\n",
      "SPX   190118C02360000 -1.0 -1.0\n",
      "SPX   190118C02390000 -1.0 -1.0\n",
      "SPX   190118C02240000 -1.0 -1.0\n",
      "SPX   190118P03060000 -1.0 -1.0\n",
      "SPX   190118P03225000 -1.0 -1.0\n",
      "SPX   190118C01925000 -1.0 -1.0\n",
      "SPX   190118P03800000 -1.0 -1.0\n",
      "SPX   190118C01075000 -1.0 -1.0\n",
      "SPX   190118C02195000 -1.0 -1.0\n",
      "SPX   190118C01525000 -1.0 -1.0\n",
      "SPX   190118P03015000 -1.0 -1.0\n",
      "SPX   190118P03105000 -1.0 -1.0\n",
      "SPX   190118C02595000 -1.0 -1.0\n",
      "SPX   190118P02770000 -1.0 -1.0\n",
      "SPX   190118P03025000 -1.0 -1.0\n",
      "SPX   190118C02610000 -1.0 -1.0\n",
      "SPX   190118C02110000 -1.0 -1.0\n",
      "SPX   190118C02365000 -1.0 -1.0\n",
      "SPX   190118C02395000 -1.0 -1.0\n",
      "SPX   190118P02775000 -1.0 -1.0\n",
      "SPX   190118C01750000 -1.0 -1.0\n",
      "SPX   190118P02745000 -1.0 -1.0\n",
      "SPX   190118P02535000 -1.0 -1.0\n",
      "SPX   190118C02600000 -1.0 -1.0\n",
      "SPX   190118C02615000 -1.0 -1.0\n",
      "SPX   190118P03010000 -1.0 -1.0\n",
      "SPX   190118P03070000 -1.0 -1.0\n",
      "SPX   190118C01870000 -1.0 -1.0\n",
      "SPX   190118C02160000 -1.0 -1.0\n",
      "SPX   190118C02370000 -1.0 -1.0\n",
      "SPX   190118C02400000 -1.0 -1.0\n",
      "SPX   190118P02780000 -1.0 -1.0\n",
      "SPX   190118C01775000 -1.0 -1.0\n",
      "SPX   190118P02750000 -1.0 -1.0\n",
      "SPX   190118P02540000 -1.0 -1.0\n",
      "SPX   190118C02140000 -1.0 -1.0\n",
      "SPX   190118C02605000 -1.0 -1.0\n",
      "SPX   190118C02620000 -1.0 -1.0\n",
      "SPX   190118C02375000 -1.0 -1.0\n",
      "SPX   190118C02145000 -1.0 -1.0\n",
      "SPX   190118C00900000 -1.0 -1.0\n",
      "SPX   190118P02545000 -1.0 -1.0\n",
      "SPX   190118C02625000 -1.0 -1.0\n",
      "SPX   190118P03020000 -1.0 -1.0\n",
      "SPX   190118P03080000 -1.0 -1.0\n",
      "SPX   190118C00800000 -1.0 -1.0\n",
      "SPX   190118C02170000 -1.0 -1.0\n"
     ]
    }
   ],
   "source": [
    "for contract in contracts:\n",
    "    ib.reqMktData(contract, '', False, False)\n",
    "    time.sleep(0.1)"
   ]
  },
  {
   "cell_type": "code",
   "execution_count": 222,
   "metadata": {},
   "outputs": [
    {
     "data": {
      "text/plain": [
       "1"
      ]
     },
     "execution_count": 222,
     "metadata": {},
     "output_type": "execute_result"
    }
   ],
   "source": [
    "1"
   ]
  },
  {
   "cell_type": "code",
   "execution_count": 223,
   "metadata": {},
   "outputs": [],
   "source": [
    "ib.disconnect()"
   ]
  },
  {
   "cell_type": "code",
   "execution_count": null,
   "metadata": {},
   "outputs": [],
   "source": []
  }
 ],
 "metadata": {
  "kernelspec": {
   "display_name": "Python 3",
   "language": "python",
   "name": "python3"
  },
  "language_info": {
   "codemirror_mode": {
    "name": "ipython",
    "version": 3
   },
   "file_extension": ".py",
   "mimetype": "text/x-python",
   "name": "python",
   "nbconvert_exporter": "python",
   "pygments_lexer": "ipython3",
   "version": "3.7.0"
  }
 },
 "nbformat": 4,
 "nbformat_minor": 2
}
